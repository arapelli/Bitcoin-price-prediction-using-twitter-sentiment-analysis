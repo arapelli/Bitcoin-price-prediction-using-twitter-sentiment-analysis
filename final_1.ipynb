{
 "cells": [
  {
   "cell_type": "code",
   "execution_count": 5,
   "metadata": {
    "collapsed": true
   },
   "outputs": [],
   "source": [
    "import pandas as pd\n",
    "import numpy as np"
   ]
  },
  {
   "cell_type": "code",
   "execution_count": 6,
   "metadata": {
    "collapsed": true
   },
   "outputs": [],
   "source": [
    "dfn = pd.read_csv(\"Bitcoin_Tweets_November2017.csv\", encoding = \"latin-1\", index_col = 0)"
   ]
  },
  {
   "cell_type": "code",
   "execution_count": 7,
   "metadata": {},
   "outputs": [
    {
     "data": {
      "text/html": [
       "<div>\n",
       "<style scoped>\n",
       "    .dataframe tbody tr th:only-of-type {\n",
       "        vertical-align: middle;\n",
       "    }\n",
       "\n",
       "    .dataframe tbody tr th {\n",
       "        vertical-align: top;\n",
       "    }\n",
       "\n",
       "    .dataframe thead th {\n",
       "        text-align: right;\n",
       "    }\n",
       "</style>\n",
       "<table border=\"1\" class=\"dataframe\">\n",
       "  <thead>\n",
       "    <tr style=\"text-align: right;\">\n",
       "      <th></th>\n",
       "      <th>date</th>\n",
       "      <th>favorites</th>\n",
       "      <th>geo</th>\n",
       "      <th>hashtags</th>\n",
       "      <th>mentions</th>\n",
       "      <th>permalink</th>\n",
       "      <th>retweets</th>\n",
       "      <th>term</th>\n",
       "      <th>text</th>\n",
       "      <th>tweet_id</th>\n",
       "      <th>username</th>\n",
       "    </tr>\n",
       "  </thead>\n",
       "  <tbody>\n",
       "    <tr>\n",
       "      <th>0</th>\n",
       "      <td>2017-11-01 19:59:58</td>\n",
       "      <td>0</td>\n",
       "      <td>NaN</td>\n",
       "      <td>#opreturn #bitcoin</td>\n",
       "      <td>NaN</td>\n",
       "      <td>https://twitter.com/op_return_ack/status/92587...</td>\n",
       "      <td>0</td>\n",
       "      <td>#bitcoin</td>\n",
       "      <td>e4433384af474ba7d9cf72000f0b5938ebc44a192c8ca9...</td>\n",
       "      <td>925875091426160640</td>\n",
       "      <td>NaN</td>\n",
       "    </tr>\n",
       "    <tr>\n",
       "      <th>1</th>\n",
       "      <td>2017-11-01 19:59:56</td>\n",
       "      <td>0</td>\n",
       "      <td>NaN</td>\n",
       "      <td>#opreturn #bitcoin</td>\n",
       "      <td>NaN</td>\n",
       "      <td>https://twitter.com/op_return_ack/status/92587...</td>\n",
       "      <td>0</td>\n",
       "      <td>#bitcoin</td>\n",
       "      <td>286c91fef474dc10f447fd12a3993cb3b1e81339c81eea...</td>\n",
       "      <td>925875083045990405</td>\n",
       "      <td>NaN</td>\n",
       "    </tr>\n",
       "    <tr>\n",
       "      <th>2</th>\n",
       "      <td>2017-11-01 19:59:54</td>\n",
       "      <td>0</td>\n",
       "      <td>NaN</td>\n",
       "      <td>#opreturn #bitcoin</td>\n",
       "      <td>NaN</td>\n",
       "      <td>https://twitter.com/op_return_ack/status/92587...</td>\n",
       "      <td>0</td>\n",
       "      <td>#bitcoin</td>\n",
       "      <td>5e754d24ef58fdbf48b68fc95c2ffbda468bb75b1c0d4f...</td>\n",
       "      <td>925875074661601280</td>\n",
       "      <td>NaN</td>\n",
       "    </tr>\n",
       "    <tr>\n",
       "      <th>3</th>\n",
       "      <td>2017-11-01 19:59:52</td>\n",
       "      <td>0</td>\n",
       "      <td>NaN</td>\n",
       "      <td>#opreturn #bitcoin</td>\n",
       "      <td>NaN</td>\n",
       "      <td>https://twitter.com/op_return_ack/status/92587...</td>\n",
       "      <td>0</td>\n",
       "      <td>#bitcoin</td>\n",
       "      <td>e88ed979208504638e61f94c41f2c231d0bc2cfde07eb4...</td>\n",
       "      <td>925875066277171200</td>\n",
       "      <td>NaN</td>\n",
       "    </tr>\n",
       "    <tr>\n",
       "      <th>4</th>\n",
       "      <td>2017-11-01 19:59:51</td>\n",
       "      <td>0</td>\n",
       "      <td>NaN</td>\n",
       "      <td>#Bitcoin</td>\n",
       "      <td>NaN</td>\n",
       "      <td>https://twitter.com/Coinbelly/status/925875064...</td>\n",
       "      <td>0</td>\n",
       "      <td>#bitcoin</td>\n",
       "      <td>3 Reasons Why You Really Should Be Buying #Bit...</td>\n",
       "      <td>925875064238522369</td>\n",
       "      <td>NaN</td>\n",
       "    </tr>\n",
       "  </tbody>\n",
       "</table>\n",
       "</div>"
      ],
      "text/plain": [
       "                  date  favorites  geo            hashtags mentions  \\\n",
       "0  2017-11-01 19:59:58          0  NaN  #opreturn #bitcoin      NaN   \n",
       "1  2017-11-01 19:59:56          0  NaN  #opreturn #bitcoin      NaN   \n",
       "2  2017-11-01 19:59:54          0  NaN  #opreturn #bitcoin      NaN   \n",
       "3  2017-11-01 19:59:52          0  NaN  #opreturn #bitcoin      NaN   \n",
       "4  2017-11-01 19:59:51          0  NaN            #Bitcoin      NaN   \n",
       "\n",
       "                                           permalink  retweets      term  \\\n",
       "0  https://twitter.com/op_return_ack/status/92587...         0  #bitcoin   \n",
       "1  https://twitter.com/op_return_ack/status/92587...         0  #bitcoin   \n",
       "2  https://twitter.com/op_return_ack/status/92587...         0  #bitcoin   \n",
       "3  https://twitter.com/op_return_ack/status/92587...         0  #bitcoin   \n",
       "4  https://twitter.com/Coinbelly/status/925875064...         0  #bitcoin   \n",
       "\n",
       "                                                text            tweet_id  \\\n",
       "0  e4433384af474ba7d9cf72000f0b5938ebc44a192c8ca9...  925875091426160640   \n",
       "1  286c91fef474dc10f447fd12a3993cb3b1e81339c81eea...  925875083045990405   \n",
       "2  5e754d24ef58fdbf48b68fc95c2ffbda468bb75b1c0d4f...  925875074661601280   \n",
       "3  e88ed979208504638e61f94c41f2c231d0bc2cfde07eb4...  925875066277171200   \n",
       "4  3 Reasons Why You Really Should Be Buying #Bit...  925875064238522369   \n",
       "\n",
       "   username  \n",
       "0       NaN  \n",
       "1       NaN  \n",
       "2       NaN  \n",
       "3       NaN  \n",
       "4       NaN  "
      ]
     },
     "execution_count": 7,
     "metadata": {},
     "output_type": "execute_result"
    }
   ],
   "source": [
    "dfn.head()"
   ]
  },
  {
   "cell_type": "code",
   "execution_count": 8,
   "metadata": {},
   "outputs": [
    {
     "data": {
      "text/html": [
       "<div>\n",
       "<style scoped>\n",
       "    .dataframe tbody tr th:only-of-type {\n",
       "        vertical-align: middle;\n",
       "    }\n",
       "\n",
       "    .dataframe tbody tr th {\n",
       "        vertical-align: top;\n",
       "    }\n",
       "\n",
       "    .dataframe thead th {\n",
       "        text-align: right;\n",
       "    }\n",
       "</style>\n",
       "<table border=\"1\" class=\"dataframe\">\n",
       "  <thead>\n",
       "    <tr style=\"text-align: right;\">\n",
       "      <th></th>\n",
       "      <th>date</th>\n",
       "      <th>favorites</th>\n",
       "      <th>geo</th>\n",
       "      <th>hashtags</th>\n",
       "      <th>mentions</th>\n",
       "      <th>permalink</th>\n",
       "      <th>retweets</th>\n",
       "      <th>term</th>\n",
       "      <th>text</th>\n",
       "      <th>tweet_id</th>\n",
       "      <th>username</th>\n",
       "    </tr>\n",
       "  </thead>\n",
       "  <tbody>\n",
       "    <tr>\n",
       "      <th>0</th>\n",
       "      <td>10/1/2017 19:59</td>\n",
       "      <td>0</td>\n",
       "      <td>NaN</td>\n",
       "      <td># # # # #</td>\n",
       "      <td>NaN</td>\n",
       "      <td>https://twitter.com/fuel57395347/status/914641...</td>\n",
       "      <td>0</td>\n",
       "      <td>#bitcoin</td>\n",
       "      <td>â ä¾¡æ ¼å·®æ",
       "å ±â åå¼æä¾¡æ ¼å·®2546å...</td>\n",
       "      <td>9.146410e+17</td>\n",
       "      <td>NaN</td>\n",
       "    </tr>\n",
       "    <tr>\n",
       "      <th>1</th>\n",
       "      <td>10/1/2017 19:59</td>\n",
       "      <td>0</td>\n",
       "      <td>NaN</td>\n",
       "      <td>#</td>\n",
       "      <td>NaN</td>\n",
       "      <td>https://twitter.com/Veki551155/status/91464096...</td>\n",
       "      <td>0</td>\n",
       "      <td>#bitcoin</td>\n",
       "      <td>Beyond # Bitcoin: The power struggle over trus...</td>\n",
       "      <td>9.146410e+17</td>\n",
       "      <td>NaN</td>\n",
       "    </tr>\n",
       "    <tr>\n",
       "      <th>2</th>\n",
       "      <td>10/1/2017 19:59</td>\n",
       "      <td>0</td>\n",
       "      <td>NaN</td>\n",
       "      <td>#</td>\n",
       "      <td>NaN</td>\n",
       "      <td>https://twitter.com/FousFan/status/91464093379...</td>\n",
       "      <td>0</td>\n",
       "      <td>#bitcoin</td>\n",
       "      <td>RT bitcoinagile \"The power struggle over trust...</td>\n",
       "      <td>9.146410e+17</td>\n",
       "      <td>NaN</td>\n",
       "    </tr>\n",
       "    <tr>\n",
       "      <th>3</th>\n",
       "      <td>10/1/2017 19:59</td>\n",
       "      <td>0</td>\n",
       "      <td>NaN</td>\n",
       "      <td>#</td>\n",
       "      <td>NaN</td>\n",
       "      <td>https://twitter.com/bitcoinagile/status/914640...</td>\n",
       "      <td>0</td>\n",
       "      <td>#bitcoin</td>\n",
       "      <td>The power struggle over trust-based technology...</td>\n",
       "      <td>9.146410e+17</td>\n",
       "      <td>NaN</td>\n",
       "    </tr>\n",
       "    <tr>\n",
       "      <th>4</th>\n",
       "      <td>10/1/2017 19:58</td>\n",
       "      <td>2</td>\n",
       "      <td>NaN</td>\n",
       "      <td>#</td>\n",
       "      <td>NaN</td>\n",
       "      <td>https://twitter.com/PhilCrypto77/status/914640...</td>\n",
       "      <td>0</td>\n",
       "      <td>#bitcoin</td>\n",
       "      <td>Extremely bias. The whole # Bitcoin as a novel...</td>\n",
       "      <td>9.146410e+17</td>\n",
       "      <td>NaN</td>\n",
       "    </tr>\n",
       "  </tbody>\n",
       "</table>\n",
       "</div>"
      ],
      "text/plain": [
       "              date  favorites  geo   hashtags mentions  \\\n",
       "0  10/1/2017 19:59          0  NaN  # # # # #      NaN   \n",
       "1  10/1/2017 19:59          0  NaN          #      NaN   \n",
       "2  10/1/2017 19:59          0  NaN          #      NaN   \n",
       "3  10/1/2017 19:59          0  NaN          #      NaN   \n",
       "4  10/1/2017 19:58          2  NaN          #      NaN   \n",
       "\n",
       "                                           permalink  retweets      term  \\\n",
       "0  https://twitter.com/fuel57395347/status/914641...         0  #bitcoin   \n",
       "1  https://twitter.com/Veki551155/status/91464096...         0  #bitcoin   \n",
       "2  https://twitter.com/FousFan/status/91464093379...         0  #bitcoin   \n",
       "3  https://twitter.com/bitcoinagile/status/914640...         0  #bitcoin   \n",
       "4  https://twitter.com/PhilCrypto77/status/914640...         0  #bitcoin   \n",
       "\n",
       "                                                text      tweet_id  username  \n",
       "0  â ä¾¡æ ¼å·®æ\n",
       "å ±â åå¼æä¾¡æ ¼å·®2546å...  9.146410e+17       NaN  \n",
       "1  Beyond # Bitcoin: The power struggle over trus...  9.146410e+17       NaN  \n",
       "2  RT bitcoinagile \"The power struggle over trust...  9.146410e+17       NaN  \n",
       "3  The power struggle over trust-based technology...  9.146410e+17       NaN  \n",
       "4  Extremely bias. The whole # Bitcoin as a novel...  9.146410e+17       NaN  "
      ]
     },
     "execution_count": 8,
     "metadata": {},
     "output_type": "execute_result"
    }
   ],
   "source": [
    "dfo = pd.read_csv(\"Bitcoin_Tweets_October2107.csv\", encoding = \"latin-1\", index_col = 0)\n",
    "dfo.head()"
   ]
  },
  {
   "cell_type": "code",
   "execution_count": 13,
   "metadata": {},
   "outputs": [
    {
     "data": {
      "text/html": [
       "<div>\n",
       "<style scoped>\n",
       "    .dataframe tbody tr th:only-of-type {\n",
       "        vertical-align: middle;\n",
       "    }\n",
       "\n",
       "    .dataframe tbody tr th {\n",
       "        vertical-align: top;\n",
       "    }\n",
       "\n",
       "    .dataframe thead th {\n",
       "        text-align: right;\n",
       "    }\n",
       "</style>\n",
       "<table border=\"1\" class=\"dataframe\">\n",
       "  <thead>\n",
       "    <tr style=\"text-align: right;\">\n",
       "      <th></th>\n",
       "      <th>date</th>\n",
       "      <th>favorites</th>\n",
       "      <th>geo</th>\n",
       "      <th>hashtags</th>\n",
       "      <th>mentions</th>\n",
       "      <th>permalink</th>\n",
       "      <th>retweets</th>\n",
       "      <th>term</th>\n",
       "      <th>text</th>\n",
       "      <th>tweet_id</th>\n",
       "      <th>username</th>\n",
       "    </tr>\n",
       "  </thead>\n",
       "  <tbody>\n",
       "    <tr>\n",
       "      <th>0</th>\n",
       "      <td>12/1/2017 18:59</td>\n",
       "      <td>0</td>\n",
       "      <td>NaN</td>\n",
       "      <td>#</td>\n",
       "      <td>NaN</td>\n",
       "      <td>https://twitter.com/Bit_Collector/status/93674...</td>\n",
       "      <td>0</td>\n",
       "      <td>#bitcoin</td>\n",
       "      <td>Never has anything been as global and scarce a...</td>\n",
       "      <td>9.367470e+17</td>\n",
       "      <td>NaN</td>\n",
       "    </tr>\n",
       "    <tr>\n",
       "      <th>1</th>\n",
       "      <td>12/1/2017 18:59</td>\n",
       "      <td>3</td>\n",
       "      <td>NaN</td>\n",
       "      <td># #</td>\n",
       "      <td>NaN</td>\n",
       "      <td>https://twitter.com/beatsforbitcoin/status/936...</td>\n",
       "      <td>2</td>\n",
       "      <td>#bitcoin</td>\n",
       "      <td>I got hella free # bitcoin im selling less tha...</td>\n",
       "      <td>9.367470e+17</td>\n",
       "      <td>NaN</td>\n",
       "    </tr>\n",
       "    <tr>\n",
       "      <th>2</th>\n",
       "      <td>12/1/2017 18:59</td>\n",
       "      <td>2</td>\n",
       "      <td>NaN</td>\n",
       "      <td># # #</td>\n",
       "      <td>NaN</td>\n",
       "      <td>https://twitter.com/thenextaltcoin/status/9367...</td>\n",
       "      <td>0</td>\n",
       "      <td>#bitcoin</td>\n",
       "      <td>Letting Artificial Intelligence Control Your I...</td>\n",
       "      <td>9.367470e+17</td>\n",
       "      <td>NaN</td>\n",
       "    </tr>\n",
       "    <tr>\n",
       "      <th>3</th>\n",
       "      <td>12/1/2017 18:59</td>\n",
       "      <td>0</td>\n",
       "      <td>NaN</td>\n",
       "      <td># # #</td>\n",
       "      <td>NaN</td>\n",
       "      <td>https://twitter.com/simplycristy23/status/9367...</td>\n",
       "      <td>0</td>\n",
       "      <td>#bitcoin</td>\n",
       "      <td>What it feels like to earn # bitcoin on a dail...</td>\n",
       "      <td>9.367470e+17</td>\n",
       "      <td>NaN</td>\n",
       "    </tr>\n",
       "    <tr>\n",
       "      <th>4</th>\n",
       "      <td>12/1/2017 18:59</td>\n",
       "      <td>0</td>\n",
       "      <td>NaN</td>\n",
       "      <td># # # # #</td>\n",
       "      <td>NaN</td>\n",
       "      <td>https://twitter.com/Cryptocredit/status/936746...</td>\n",
       "      <td>0</td>\n",
       "      <td>#bitcoin</td>\n",
       "      <td>BBC - Capital - The wild week of Bitcoin # Bit...</td>\n",
       "      <td>9.367470e+17</td>\n",
       "      <td>NaN</td>\n",
       "    </tr>\n",
       "  </tbody>\n",
       "</table>\n",
       "</div>"
      ],
      "text/plain": [
       "              date  favorites  geo   hashtags mentions  \\\n",
       "0  12/1/2017 18:59          0  NaN          #      NaN   \n",
       "1  12/1/2017 18:59          3  NaN        # #      NaN   \n",
       "2  12/1/2017 18:59          2  NaN      # # #      NaN   \n",
       "3  12/1/2017 18:59          0  NaN      # # #      NaN   \n",
       "4  12/1/2017 18:59          0  NaN  # # # # #      NaN   \n",
       "\n",
       "                                           permalink  retweets      term  \\\n",
       "0  https://twitter.com/Bit_Collector/status/93674...         0  #bitcoin   \n",
       "1  https://twitter.com/beatsforbitcoin/status/936...         2  #bitcoin   \n",
       "2  https://twitter.com/thenextaltcoin/status/9367...         0  #bitcoin   \n",
       "3  https://twitter.com/simplycristy23/status/9367...         0  #bitcoin   \n",
       "4  https://twitter.com/Cryptocredit/status/936746...         0  #bitcoin   \n",
       "\n",
       "                                                text      tweet_id  username  \n",
       "0  Never has anything been as global and scarce a...  9.367470e+17       NaN  \n",
       "1  I got hella free # bitcoin im selling less tha...  9.367470e+17       NaN  \n",
       "2  Letting Artificial Intelligence Control Your I...  9.367470e+17       NaN  \n",
       "3  What it feels like to earn # bitcoin on a dail...  9.367470e+17       NaN  \n",
       "4  BBC - Capital - The wild week of Bitcoin # Bit...  9.367470e+17       NaN  "
      ]
     },
     "execution_count": 13,
     "metadata": {},
     "output_type": "execute_result"
    }
   ],
   "source": [
    "dfd = pd.read_csv(\"DEC-2017Tweets.csv\", encoding = \"latin-1\", index_col = 0)\n",
    "dfd.head()"
   ]
  },
  {
   "cell_type": "code",
   "execution_count": 14,
   "metadata": {},
   "outputs": [
    {
     "data": {
      "text/html": [
       "<div>\n",
       "<style scoped>\n",
       "    .dataframe tbody tr th:only-of-type {\n",
       "        vertical-align: middle;\n",
       "    }\n",
       "\n",
       "    .dataframe tbody tr th {\n",
       "        vertical-align: top;\n",
       "    }\n",
       "\n",
       "    .dataframe thead th {\n",
       "        text-align: right;\n",
       "    }\n",
       "</style>\n",
       "<table border=\"1\" class=\"dataframe\">\n",
       "  <thead>\n",
       "    <tr style=\"text-align: right;\">\n",
       "      <th></th>\n",
       "      <th>date</th>\n",
       "      <th>favorites</th>\n",
       "      <th>geo</th>\n",
       "      <th>hashtags</th>\n",
       "      <th>mentions</th>\n",
       "      <th>permalink</th>\n",
       "      <th>retweets</th>\n",
       "      <th>term</th>\n",
       "      <th>text</th>\n",
       "      <th>tweet_id</th>\n",
       "      <th>username</th>\n",
       "    </tr>\n",
       "  </thead>\n",
       "  <tbody>\n",
       "    <tr>\n",
       "      <th>0</th>\n",
       "      <td>2018-01-01 18:59:38</td>\n",
       "      <td>3</td>\n",
       "      <td>NaN</td>\n",
       "      <td># # # # # #</td>\n",
       "      <td>NaN</td>\n",
       "      <td>https://twitter.com/GreggyCrypto/status/947980...</td>\n",
       "      <td>0</td>\n",
       "      <td>#bitcoin</td>\n",
       "      <td>Happy New Year to all of you in Crypto (old an...</td>\n",
       "      <td>947980669811965952</td>\n",
       "      <td>NaN</td>\n",
       "    </tr>\n",
       "    <tr>\n",
       "      <th>1</th>\n",
       "      <td>2018-01-01 18:59:21</td>\n",
       "      <td>0</td>\n",
       "      <td>NaN</td>\n",
       "      <td># # # # # #</td>\n",
       "      <td>NaN</td>\n",
       "      <td>https://twitter.com/SpartacusOf89/status/94798...</td>\n",
       "      <td>2</td>\n",
       "      <td>#bitcoin</td>\n",
       "      <td>https://martybebow.wixsite.com/bitcoininfo # b...</td>\n",
       "      <td>947980597913378817</td>\n",
       "      <td>NaN</td>\n",
       "    </tr>\n",
       "    <tr>\n",
       "      <th>2</th>\n",
       "      <td>2018-01-01 18:59:15</td>\n",
       "      <td>0</td>\n",
       "      <td>NaN</td>\n",
       "      <td># # #</td>\n",
       "      <td>NaN</td>\n",
       "      <td>https://twitter.com/spirispark/status/94798057...</td>\n",
       "      <td>0</td>\n",
       "      <td>#bitcoin</td>\n",
       "      <td># Bitcoin has already surpassed gold in total ...</td>\n",
       "      <td>947980572256800770</td>\n",
       "      <td>NaN</td>\n",
       "    </tr>\n",
       "    <tr>\n",
       "      <th>3</th>\n",
       "      <td>2018-01-01 18:59:13</td>\n",
       "      <td>0</td>\n",
       "      <td>NaN</td>\n",
       "      <td># # # #</td>\n",
       "      <td>NaN</td>\n",
       "      <td>https://twitter.com/BetFastBTC/status/94798056...</td>\n",
       "      <td>0</td>\n",
       "      <td>#bitcoin</td>\n",
       "      <td>Miss any of the # PremierLeague # PL action on...</td>\n",
       "      <td>947980561900912641</td>\n",
       "      <td>NaN</td>\n",
       "    </tr>\n",
       "    <tr>\n",
       "      <th>4</th>\n",
       "      <td>2018-01-01 18:59:10</td>\n",
       "      <td>2</td>\n",
       "      <td>NaN</td>\n",
       "      <td>#</td>\n",
       "      <td>NaN</td>\n",
       "      <td>https://twitter.com/xrptips/status/94798055235...</td>\n",
       "      <td>1</td>\n",
       "      <td>#bitcoin</td>\n",
       "      <td>Because it is an open network the other valida...</td>\n",
       "      <td>947980552358916096</td>\n",
       "      <td>NaN</td>\n",
       "    </tr>\n",
       "  </tbody>\n",
       "</table>\n",
       "</div>"
      ],
      "text/plain": [
       "                  date  favorites  geo     hashtags mentions  \\\n",
       "0  2018-01-01 18:59:38          3  NaN  # # # # # #      NaN   \n",
       "1  2018-01-01 18:59:21          0  NaN  # # # # # #      NaN   \n",
       "2  2018-01-01 18:59:15          0  NaN        # # #      NaN   \n",
       "3  2018-01-01 18:59:13          0  NaN      # # # #      NaN   \n",
       "4  2018-01-01 18:59:10          2  NaN            #      NaN   \n",
       "\n",
       "                                           permalink  retweets      term  \\\n",
       "0  https://twitter.com/GreggyCrypto/status/947980...         0  #bitcoin   \n",
       "1  https://twitter.com/SpartacusOf89/status/94798...         2  #bitcoin   \n",
       "2  https://twitter.com/spirispark/status/94798057...         0  #bitcoin   \n",
       "3  https://twitter.com/BetFastBTC/status/94798056...         0  #bitcoin   \n",
       "4  https://twitter.com/xrptips/status/94798055235...         1  #bitcoin   \n",
       "\n",
       "                                                text            tweet_id  \\\n",
       "0  Happy New Year to all of you in Crypto (old an...  947980669811965952   \n",
       "1  https://martybebow.wixsite.com/bitcoininfo # b...  947980597913378817   \n",
       "2  # Bitcoin has already surpassed gold in total ...  947980572256800770   \n",
       "3  Miss any of the # PremierLeague # PL action on...  947980561900912641   \n",
       "4  Because it is an open network the other valida...  947980552358916096   \n",
       "\n",
       "   username  \n",
       "0       NaN  \n",
       "1       NaN  \n",
       "2       NaN  \n",
       "3       NaN  \n",
       "4       NaN  "
      ]
     },
     "execution_count": 14,
     "metadata": {},
     "output_type": "execute_result"
    }
   ],
   "source": [
    "dfj = pd.read_csv(\"JAN-2018Tweets.csv\", encoding = \"latin-1\", index_col = 0)\n",
    "dfj.head()"
   ]
  },
  {
   "cell_type": "code",
   "execution_count": 15,
   "metadata": {},
   "outputs": [
    {
     "data": {
      "text/html": [
       "<div>\n",
       "<style scoped>\n",
       "    .dataframe tbody tr th:only-of-type {\n",
       "        vertical-align: middle;\n",
       "    }\n",
       "\n",
       "    .dataframe tbody tr th {\n",
       "        vertical-align: top;\n",
       "    }\n",
       "\n",
       "    .dataframe thead th {\n",
       "        text-align: right;\n",
       "    }\n",
       "</style>\n",
       "<table border=\"1\" class=\"dataframe\">\n",
       "  <thead>\n",
       "    <tr style=\"text-align: right;\">\n",
       "      <th></th>\n",
       "      <th>date</th>\n",
       "      <th>favorites</th>\n",
       "      <th>geo</th>\n",
       "      <th>hashtags</th>\n",
       "      <th>mentions</th>\n",
       "      <th>permalink</th>\n",
       "      <th>retweets</th>\n",
       "      <th>term</th>\n",
       "      <th>text</th>\n",
       "      <th>tweet_id</th>\n",
       "      <th>username</th>\n",
       "    </tr>\n",
       "  </thead>\n",
       "  <tbody>\n",
       "    <tr>\n",
       "      <th>0</th>\n",
       "      <td>2018-02-01 18:59:57</td>\n",
       "      <td>0</td>\n",
       "      <td>NaN</td>\n",
       "      <td># # # #</td>\n",
       "      <td>NaN</td>\n",
       "      <td>https://twitter.com/CryptoAtticus/status/95921...</td>\n",
       "      <td>0</td>\n",
       "      <td>#bitcoin</td>\n",
       "      <td>Donât miss out on the # bitcoin boom! Use th...</td>\n",
       "      <td>959214772469338114</td>\n",
       "      <td>NaN</td>\n",
       "    </tr>\n",
       "    <tr>\n",
       "      <th>1</th>\n",
       "      <td>2018-02-01 18:59:55</td>\n",
       "      <td>0</td>\n",
       "      <td>NaN</td>\n",
       "      <td># # # # # # # # #</td>\n",
       "      <td>NaN</td>\n",
       "      <td>https://twitter.com/Online_machine/status/9592...</td>\n",
       "      <td>0</td>\n",
       "      <td>#bitcoin</td>\n",
       "      <td>Collect your F.ree bitcoins here :) http://bit...</td>\n",
       "      <td>959214765070577664</td>\n",
       "      <td>NaN</td>\n",
       "    </tr>\n",
       "    <tr>\n",
       "      <th>2</th>\n",
       "      <td>2018-02-01 18:59:47</td>\n",
       "      <td>0</td>\n",
       "      <td>NaN</td>\n",
       "      <td># # # #</td>\n",
       "      <td>NaN</td>\n",
       "      <td>https://twitter.com/appleswatchnews/status/959...</td>\n",
       "      <td>0</td>\n",
       "      <td>#bitcoin</td>\n",
       "      <td>Please consider joining firelotto, THE WORLDâ...</td>\n",
       "      <td>959214730589196289</td>\n",
       "      <td>NaN</td>\n",
       "    </tr>\n",
       "    <tr>\n",
       "      <th>3</th>\n",
       "      <td>2018-02-01 18:59:38</td>\n",
       "      <td>2</td>\n",
       "      <td>NaN</td>\n",
       "      <td># # #</td>\n",
       "      <td>@</td>\n",
       "      <td>https://twitter.com/dotnethed/status/959214691...</td>\n",
       "      <td>0</td>\n",
       "      <td>#bitcoin</td>\n",
       "      <td># Bitcoin to Get Severely Forked in 2018 | # c...</td>\n",
       "      <td>959214691946938368</td>\n",
       "      <td>NaN</td>\n",
       "    </tr>\n",
       "    <tr>\n",
       "      <th>4</th>\n",
       "      <td>2018-02-01 18:59:38</td>\n",
       "      <td>0</td>\n",
       "      <td>NaN</td>\n",
       "      <td># # # #</td>\n",
       "      <td>@</td>\n",
       "      <td>https://twitter.com/CryptoAtticus/status/95921...</td>\n",
       "      <td>0</td>\n",
       "      <td>#bitcoin</td>\n",
       "      <td>Keep track of your # crypto and # bitcoin port...</td>\n",
       "      <td>959214691250827266</td>\n",
       "      <td>NaN</td>\n",
       "    </tr>\n",
       "  </tbody>\n",
       "</table>\n",
       "</div>"
      ],
      "text/plain": [
       "                  date  favorites  geo           hashtags mentions  \\\n",
       "0  2018-02-01 18:59:57          0  NaN            # # # #      NaN   \n",
       "1  2018-02-01 18:59:55          0  NaN  # # # # # # # # #      NaN   \n",
       "2  2018-02-01 18:59:47          0  NaN            # # # #      NaN   \n",
       "3  2018-02-01 18:59:38          2  NaN              # # #        @   \n",
       "4  2018-02-01 18:59:38          0  NaN            # # # #        @   \n",
       "\n",
       "                                           permalink  retweets      term  \\\n",
       "0  https://twitter.com/CryptoAtticus/status/95921...         0  #bitcoin   \n",
       "1  https://twitter.com/Online_machine/status/9592...         0  #bitcoin   \n",
       "2  https://twitter.com/appleswatchnews/status/959...         0  #bitcoin   \n",
       "3  https://twitter.com/dotnethed/status/959214691...         0  #bitcoin   \n",
       "4  https://twitter.com/CryptoAtticus/status/95921...         0  #bitcoin   \n",
       "\n",
       "                                                text            tweet_id  \\\n",
       "0  Donât miss out on the # bitcoin boom! Use th...  959214772469338114   \n",
       "1  Collect your F.ree bitcoins here :) http://bit...  959214765070577664   \n",
       "2  Please consider joining firelotto, THE WORLDâ...  959214730589196289   \n",
       "3  # Bitcoin to Get Severely Forked in 2018 | # c...  959214691946938368   \n",
       "4  Keep track of your # crypto and # bitcoin port...  959214691250827266   \n",
       "\n",
       "   username  \n",
       "0       NaN  \n",
       "1       NaN  \n",
       "2       NaN  \n",
       "3       NaN  \n",
       "4       NaN  "
      ]
     },
     "execution_count": 15,
     "metadata": {},
     "output_type": "execute_result"
    }
   ],
   "source": [
    "dff = pd.read_csv(\"FEB-2018Tweets.csv\", encoding = \"latin-1\", index_col = 0)\n",
    "dff.head()"
   ]
  },
  {
   "cell_type": "code",
   "execution_count": 16,
   "metadata": {},
   "outputs": [
    {
     "data": {
      "text/html": [
       "<div>\n",
       "<style scoped>\n",
       "    .dataframe tbody tr th:only-of-type {\n",
       "        vertical-align: middle;\n",
       "    }\n",
       "\n",
       "    .dataframe tbody tr th {\n",
       "        vertical-align: top;\n",
       "    }\n",
       "\n",
       "    .dataframe thead th {\n",
       "        text-align: right;\n",
       "    }\n",
       "</style>\n",
       "<table border=\"1\" class=\"dataframe\">\n",
       "  <thead>\n",
       "    <tr style=\"text-align: right;\">\n",
       "      <th></th>\n",
       "      <th>date</th>\n",
       "      <th>favorites</th>\n",
       "      <th>geo</th>\n",
       "      <th>hashtags</th>\n",
       "      <th>mentions</th>\n",
       "      <th>permalink</th>\n",
       "      <th>retweets</th>\n",
       "      <th>term</th>\n",
       "      <th>text</th>\n",
       "      <th>tweet_id</th>\n",
       "      <th>username</th>\n",
       "    </tr>\n",
       "  </thead>\n",
       "  <tbody>\n",
       "    <tr>\n",
       "      <th>0</th>\n",
       "      <td>2018-03-01 18:59:51</td>\n",
       "      <td>0</td>\n",
       "      <td>NaN</td>\n",
       "      <td># # # # # # # # # # # # # # #</td>\n",
       "      <td>NaN</td>\n",
       "      <td>https://twitter.com/Cripto_Pasion/status/96936...</td>\n",
       "      <td>0</td>\n",
       "      <td>#bitcoin</td>\n",
       "      <td>Si lo visualizas, todo es posible. Como dije a...</td>\n",
       "      <td>969361605753491458</td>\n",
       "      <td>NaN</td>\n",
       "    </tr>\n",
       "    <tr>\n",
       "      <th>1</th>\n",
       "      <td>2018-03-01 18:59:48</td>\n",
       "      <td>0</td>\n",
       "      <td>NaN</td>\n",
       "      <td># #</td>\n",
       "      <td>NaN</td>\n",
       "      <td>https://twitter.com/CyberDomain/status/9693615...</td>\n",
       "      <td>1</td>\n",
       "      <td>#bitcoin</td>\n",
       "      <td>Some see the internet as a Wild West where tho...</td>\n",
       "      <td>969361594760204288</td>\n",
       "      <td>NaN</td>\n",
       "    </tr>\n",
       "    <tr>\n",
       "      <th>2</th>\n",
       "      <td>2018-03-01 18:59:45</td>\n",
       "      <td>2</td>\n",
       "      <td>NaN</td>\n",
       "      <td># #</td>\n",
       "      <td>NaN</td>\n",
       "      <td>https://twitter.com/CyberDomain/status/9693615...</td>\n",
       "      <td>0</td>\n",
       "      <td>#bitcoin</td>\n",
       "      <td>This books take you to basic hacking with sql ...</td>\n",
       "      <td>969361582479290368</td>\n",
       "      <td>NaN</td>\n",
       "    </tr>\n",
       "    <tr>\n",
       "      <th>3</th>\n",
       "      <td>2018-03-01 18:59:42</td>\n",
       "      <td>2</td>\n",
       "      <td>NaN</td>\n",
       "      <td># #</td>\n",
       "      <td>NaN</td>\n",
       "      <td>https://twitter.com/CyberDomain/status/9693615...</td>\n",
       "      <td>0</td>\n",
       "      <td>#bitcoin</td>\n",
       "      <td>The availability and security of many services...</td>\n",
       "      <td>969361570621947905</td>\n",
       "      <td>NaN</td>\n",
       "    </tr>\n",
       "    <tr>\n",
       "      <th>4</th>\n",
       "      <td>2018-03-01 18:59:39</td>\n",
       "      <td>0</td>\n",
       "      <td>NaN</td>\n",
       "      <td># #</td>\n",
       "      <td>NaN</td>\n",
       "      <td>https://twitter.com/CyberDomain/status/9693615...</td>\n",
       "      <td>0</td>\n",
       "      <td>#bitcoin</td>\n",
       "      <td>Do you need to keep up with the latest hacks, ...</td>\n",
       "      <td>969361556566929408</td>\n",
       "      <td>NaN</td>\n",
       "    </tr>\n",
       "  </tbody>\n",
       "</table>\n",
       "</div>"
      ],
      "text/plain": [
       "                  date  favorites  geo                       hashtags  \\\n",
       "0  2018-03-01 18:59:51          0  NaN  # # # # # # # # # # # # # # #   \n",
       "1  2018-03-01 18:59:48          0  NaN                            # #   \n",
       "2  2018-03-01 18:59:45          2  NaN                            # #   \n",
       "3  2018-03-01 18:59:42          2  NaN                            # #   \n",
       "4  2018-03-01 18:59:39          0  NaN                            # #   \n",
       "\n",
       "  mentions                                          permalink  retweets  \\\n",
       "0      NaN  https://twitter.com/Cripto_Pasion/status/96936...         0   \n",
       "1      NaN  https://twitter.com/CyberDomain/status/9693615...         1   \n",
       "2      NaN  https://twitter.com/CyberDomain/status/9693615...         0   \n",
       "3      NaN  https://twitter.com/CyberDomain/status/9693615...         0   \n",
       "4      NaN  https://twitter.com/CyberDomain/status/9693615...         0   \n",
       "\n",
       "       term                                               text  \\\n",
       "0  #bitcoin  Si lo visualizas, todo es posible. Como dije a...   \n",
       "1  #bitcoin  Some see the internet as a Wild West where tho...   \n",
       "2  #bitcoin  This books take you to basic hacking with sql ...   \n",
       "3  #bitcoin  The availability and security of many services...   \n",
       "4  #bitcoin  Do you need to keep up with the latest hacks, ...   \n",
       "\n",
       "             tweet_id  username  \n",
       "0  969361605753491458       NaN  \n",
       "1  969361594760204288       NaN  \n",
       "2  969361582479290368       NaN  \n",
       "3  969361570621947905       NaN  \n",
       "4  969361556566929408       NaN  "
      ]
     },
     "execution_count": 16,
     "metadata": {},
     "output_type": "execute_result"
    }
   ],
   "source": [
    "dfm = pd.read_csv(\"MAR-2018Tweets.csv\", encoding = \"latin-1\", index_col = 0)\n",
    "dfm.head()"
   ]
  },
  {
   "cell_type": "code",
   "execution_count": 17,
   "metadata": {
    "collapsed": true
   },
   "outputs": [],
   "source": [
    "dfa = pd.concat([dfo,dfn,dfd,dfj,dff,dfm])"
   ]
  },
  {
   "cell_type": "code",
   "execution_count": 20,
   "metadata": {},
   "outputs": [
    {
     "data": {
      "text/plain": [
       "(2522614, 11)"
      ]
     },
     "execution_count": 20,
     "metadata": {},
     "output_type": "execute_result"
    }
   ],
   "source": [
    "dfa.shape"
   ]
  },
  {
   "cell_type": "code",
   "execution_count": 21,
   "metadata": {},
   "outputs": [
    {
     "data": {
      "text/html": [
       "<div>\n",
       "<style scoped>\n",
       "    .dataframe tbody tr th:only-of-type {\n",
       "        vertical-align: middle;\n",
       "    }\n",
       "\n",
       "    .dataframe tbody tr th {\n",
       "        vertical-align: top;\n",
       "    }\n",
       "\n",
       "    .dataframe thead th {\n",
       "        text-align: right;\n",
       "    }\n",
       "</style>\n",
       "<table border=\"1\" class=\"dataframe\">\n",
       "  <thead>\n",
       "    <tr style=\"text-align: right;\">\n",
       "      <th></th>\n",
       "      <th>date</th>\n",
       "      <th>favorites</th>\n",
       "      <th>geo</th>\n",
       "      <th>hashtags</th>\n",
       "      <th>mentions</th>\n",
       "      <th>permalink</th>\n",
       "      <th>retweets</th>\n",
       "      <th>term</th>\n",
       "      <th>text</th>\n",
       "      <th>tweet_id</th>\n",
       "      <th>username</th>\n",
       "    </tr>\n",
       "  </thead>\n",
       "  <tbody>\n",
       "    <tr>\n",
       "      <th>0</th>\n",
       "      <td>10/1/2017 19:59</td>\n",
       "      <td>0</td>\n",
       "      <td>NaN</td>\n",
       "      <td># # # # #</td>\n",
       "      <td>NaN</td>\n",
       "      <td>https://twitter.com/fuel57395347/status/914641...</td>\n",
       "      <td>0</td>\n",
       "      <td>#bitcoin</td>\n",
       "      <td>â ä¾¡æ ¼å·®æ",
       "å ±â åå¼æä¾¡æ ¼å·®2546å...</td>\n",
       "      <td>9.146410e+17</td>\n",
       "      <td>NaN</td>\n",
       "    </tr>\n",
       "    <tr>\n",
       "      <th>1</th>\n",
       "      <td>10/1/2017 19:59</td>\n",
       "      <td>0</td>\n",
       "      <td>NaN</td>\n",
       "      <td>#</td>\n",
       "      <td>NaN</td>\n",
       "      <td>https://twitter.com/Veki551155/status/91464096...</td>\n",
       "      <td>0</td>\n",
       "      <td>#bitcoin</td>\n",
       "      <td>Beyond # Bitcoin: The power struggle over trus...</td>\n",
       "      <td>9.146410e+17</td>\n",
       "      <td>NaN</td>\n",
       "    </tr>\n",
       "    <tr>\n",
       "      <th>2</th>\n",
       "      <td>10/1/2017 19:59</td>\n",
       "      <td>0</td>\n",
       "      <td>NaN</td>\n",
       "      <td>#</td>\n",
       "      <td>NaN</td>\n",
       "      <td>https://twitter.com/FousFan/status/91464093379...</td>\n",
       "      <td>0</td>\n",
       "      <td>#bitcoin</td>\n",
       "      <td>RT bitcoinagile \"The power struggle over trust...</td>\n",
       "      <td>9.146410e+17</td>\n",
       "      <td>NaN</td>\n",
       "    </tr>\n",
       "    <tr>\n",
       "      <th>3</th>\n",
       "      <td>10/1/2017 19:59</td>\n",
       "      <td>0</td>\n",
       "      <td>NaN</td>\n",
       "      <td>#</td>\n",
       "      <td>NaN</td>\n",
       "      <td>https://twitter.com/bitcoinagile/status/914640...</td>\n",
       "      <td>0</td>\n",
       "      <td>#bitcoin</td>\n",
       "      <td>The power struggle over trust-based technology...</td>\n",
       "      <td>9.146410e+17</td>\n",
       "      <td>NaN</td>\n",
       "    </tr>\n",
       "    <tr>\n",
       "      <th>4</th>\n",
       "      <td>10/1/2017 19:58</td>\n",
       "      <td>2</td>\n",
       "      <td>NaN</td>\n",
       "      <td>#</td>\n",
       "      <td>NaN</td>\n",
       "      <td>https://twitter.com/PhilCrypto77/status/914640...</td>\n",
       "      <td>0</td>\n",
       "      <td>#bitcoin</td>\n",
       "      <td>Extremely bias. The whole # Bitcoin as a novel...</td>\n",
       "      <td>9.146410e+17</td>\n",
       "      <td>NaN</td>\n",
       "    </tr>\n",
       "  </tbody>\n",
       "</table>\n",
       "</div>"
      ],
      "text/plain": [
       "              date  favorites  geo   hashtags mentions  \\\n",
       "0  10/1/2017 19:59          0  NaN  # # # # #      NaN   \n",
       "1  10/1/2017 19:59          0  NaN          #      NaN   \n",
       "2  10/1/2017 19:59          0  NaN          #      NaN   \n",
       "3  10/1/2017 19:59          0  NaN          #      NaN   \n",
       "4  10/1/2017 19:58          2  NaN          #      NaN   \n",
       "\n",
       "                                           permalink  retweets      term  \\\n",
       "0  https://twitter.com/fuel57395347/status/914641...         0  #bitcoin   \n",
       "1  https://twitter.com/Veki551155/status/91464096...         0  #bitcoin   \n",
       "2  https://twitter.com/FousFan/status/91464093379...         0  #bitcoin   \n",
       "3  https://twitter.com/bitcoinagile/status/914640...         0  #bitcoin   \n",
       "4  https://twitter.com/PhilCrypto77/status/914640...         0  #bitcoin   \n",
       "\n",
       "                                                text      tweet_id  username  \n",
       "0  â ä¾¡æ ¼å·®æ\n",
       "å ±â åå¼æä¾¡æ ¼å·®2546å...  9.146410e+17       NaN  \n",
       "1  Beyond # Bitcoin: The power struggle over trus...  9.146410e+17       NaN  \n",
       "2  RT bitcoinagile \"The power struggle over trust...  9.146410e+17       NaN  \n",
       "3  The power struggle over trust-based technology...  9.146410e+17       NaN  \n",
       "4  Extremely bias. The whole # Bitcoin as a novel...  9.146410e+17       NaN  "
      ]
     },
     "execution_count": 21,
     "metadata": {},
     "output_type": "execute_result"
    }
   ],
   "source": [
    "dfa.head()"
   ]
  },
  {
   "cell_type": "code",
   "execution_count": 29,
   "metadata": {
    "collapsed": true
   },
   "outputs": [],
   "source": [
    "import re"
   ]
  },
  {
   "cell_type": "code",
   "execution_count": 24,
   "metadata": {
    "collapsed": true
   },
   "outputs": [],
   "source": [
    "URLless_string = lambda x:re.sub(r'\\w+:\\/{2}[\\d\\w-]+(\\.[\\d\\w-]+)*(?:(?:\\/[^\\s/]*))*', '', x)\n",
    "dfa[\"url_clean\"]  = dfa[\"text\"].apply(URLless_string)"
   ]
  },
  {
   "cell_type": "code",
   "execution_count": 32,
   "metadata": {
    "collapsed": true
   },
   "outputs": [],
   "source": [
    "dfa.index = range(len(dfa.index))"
   ]
  },
  {
   "cell_type": "code",
   "execution_count": 33,
   "metadata": {},
   "outputs": [
    {
     "data": {
      "text/plain": [
       "'# Bitcoin course on Bitcoin, Blockchain and Decentralized technology http://dlvr.it/PrlLMW via â\\x86\\x92 http://goo.gl/nnFPIZ'"
      ]
     },
     "execution_count": 33,
     "metadata": {},
     "output_type": "execute_result"
    }
   ],
   "source": [
    "dfa[\"text\"][5]\n"
   ]
  },
  {
   "cell_type": "code",
   "execution_count": 34,
   "metadata": {},
   "outputs": [
    {
     "data": {
      "text/plain": [
       "'# Bitcoin course on Bitcoin, Blockchain and Decentralized technology  via â\\x86\\x92 '"
      ]
     },
     "execution_count": 34,
     "metadata": {},
     "output_type": "execute_result"
    }
   ],
   "source": [
    "dfa[\"url_clean\"][5]"
   ]
  },
  {
   "cell_type": "code",
   "execution_count": 40,
   "metadata": {},
   "outputs": [
    {
     "data": {
      "text/plain": [
       "(2522614, 3)"
      ]
     },
     "execution_count": 40,
     "metadata": {},
     "output_type": "execute_result"
    }
   ],
   "source": [
    "df =dfa.ix[:,[\"date\", \"text\", \"url_clean\"]]\n",
    "df.shape"
   ]
  },
  {
   "cell_type": "code",
   "execution_count": 41,
   "metadata": {},
   "outputs": [
    {
     "data": {
      "text/html": [
       "<div>\n",
       "<style scoped>\n",
       "    .dataframe tbody tr th:only-of-type {\n",
       "        vertical-align: middle;\n",
       "    }\n",
       "\n",
       "    .dataframe tbody tr th {\n",
       "        vertical-align: top;\n",
       "    }\n",
       "\n",
       "    .dataframe thead th {\n",
       "        text-align: right;\n",
       "    }\n",
       "</style>\n",
       "<table border=\"1\" class=\"dataframe\">\n",
       "  <thead>\n",
       "    <tr style=\"text-align: right;\">\n",
       "      <th></th>\n",
       "      <th>date</th>\n",
       "      <th>text</th>\n",
       "      <th>url_clean</th>\n",
       "    </tr>\n",
       "  </thead>\n",
       "  <tbody>\n",
       "    <tr>\n",
       "      <th>0</th>\n",
       "      <td>10/1/2017 19:59</td>\n",
       "      <td>â ä¾¡æ ¼å·®æ",
       "å ±â åå¼æä¾¡æ ¼å·®2546å...</td>\n",
       "      <td>â ä¾¡æ ¼å·®æ",
       "å ±â åå¼æä¾¡æ ¼å·®2546å...</td>\n",
       "    </tr>\n",
       "    <tr>\n",
       "      <th>1</th>\n",
       "      <td>10/1/2017 19:59</td>\n",
       "      <td>Beyond # Bitcoin: The power struggle over trus...</td>\n",
       "      <td>Beyond # Bitcoin: The power struggle over trus...</td>\n",
       "    </tr>\n",
       "    <tr>\n",
       "      <th>2</th>\n",
       "      <td>10/1/2017 19:59</td>\n",
       "      <td>RT bitcoinagile \"The power struggle over trust...</td>\n",
       "      <td>RT bitcoinagile \"The power struggle over trust...</td>\n",
       "    </tr>\n",
       "    <tr>\n",
       "      <th>3</th>\n",
       "      <td>10/1/2017 19:59</td>\n",
       "      <td>The power struggle over trust-based technology...</td>\n",
       "      <td>The power struggle over trust-based technology...</td>\n",
       "    </tr>\n",
       "    <tr>\n",
       "      <th>4</th>\n",
       "      <td>10/1/2017 19:58</td>\n",
       "      <td>Extremely bias. The whole # Bitcoin as a novel...</td>\n",
       "      <td>Extremely bias. The whole # Bitcoin as a novel...</td>\n",
       "    </tr>\n",
       "  </tbody>\n",
       "</table>\n",
       "</div>"
      ],
      "text/plain": [
       "              date                                               text  \\\n",
       "0  10/1/2017 19:59  â ä¾¡æ ¼å·®æ\n",
       "å ±â åå¼æä¾¡æ ¼å·®2546å...   \n",
       "1  10/1/2017 19:59  Beyond # Bitcoin: The power struggle over trus...   \n",
       "2  10/1/2017 19:59  RT bitcoinagile \"The power struggle over trust...   \n",
       "3  10/1/2017 19:59  The power struggle over trust-based technology...   \n",
       "4  10/1/2017 19:58  Extremely bias. The whole # Bitcoin as a novel...   \n",
       "\n",
       "                                           url_clean  \n",
       "0  â ä¾¡æ ¼å·®æ\n",
       "å ±â åå¼æä¾¡æ ¼å·®2546å...  \n",
       "1  Beyond # Bitcoin: The power struggle over trus...  \n",
       "2  RT bitcoinagile \"The power struggle over trust...  \n",
       "3  The power struggle over trust-based technology...  \n",
       "4  Extremely bias. The whole # Bitcoin as a novel...  "
      ]
     },
     "execution_count": 41,
     "metadata": {},
     "output_type": "execute_result"
    }
   ],
   "source": [
    "df.head()"
   ]
  },
  {
   "cell_type": "code",
   "execution_count": 42,
   "metadata": {},
   "outputs": [
    {
     "data": {
      "text/html": [
       "<div>\n",
       "<style scoped>\n",
       "    .dataframe tbody tr th:only-of-type {\n",
       "        vertical-align: middle;\n",
       "    }\n",
       "\n",
       "    .dataframe tbody tr th {\n",
       "        vertical-align: top;\n",
       "    }\n",
       "\n",
       "    .dataframe thead th {\n",
       "        text-align: right;\n",
       "    }\n",
       "</style>\n",
       "<table border=\"1\" class=\"dataframe\">\n",
       "  <thead>\n",
       "    <tr style=\"text-align: right;\">\n",
       "      <th></th>\n",
       "      <th>date</th>\n",
       "      <th>text</th>\n",
       "      <th>url_clean</th>\n",
       "    </tr>\n",
       "  </thead>\n",
       "  <tbody>\n",
       "    <tr>\n",
       "      <th>2522609</th>\n",
       "      <td>2018-03-05 03:03:03</td>\n",
       "      <td>Want to see something intresting? This is the ...</td>\n",
       "      <td>Want to see something intresting? This is the ...</td>\n",
       "    </tr>\n",
       "    <tr>\n",
       "      <th>2522610</th>\n",
       "      <td>2018-03-05 03:03:02</td>\n",
       "      <td># BTC Average: 10424.09$ # Bitfinex - 11526.00...</td>\n",
       "      <td># BTC Average: 10424.09$ # Bitfinex - 11526.00...</td>\n",
       "    </tr>\n",
       "    <tr>\n",
       "      <th>2522611</th>\n",
       "      <td>2018-03-05 03:03:00</td>\n",
       "      <td>Think You've Missed The Blockchain Boat? Think...</td>\n",
       "      <td>Think You've Missed The Blockchain Boat? Think...</td>\n",
       "    </tr>\n",
       "    <tr>\n",
       "      <th>2522612</th>\n",
       "      <td>2018-03-05 03:02:50</td>\n",
       "      <td>The Abyss Aims to Conduct the Worldâs First ...</td>\n",
       "      <td>The Abyss Aims to Conduct the Worldâs First ...</td>\n",
       "    </tr>\n",
       "    <tr>\n",
       "      <th>2522613</th>\n",
       "      <td>2018-03-05 03:02:49</td>\n",
       "      <td># TheAbyss has dual currency options whereby a...</td>\n",
       "      <td># TheAbyss has dual currency options whereby a...</td>\n",
       "    </tr>\n",
       "  </tbody>\n",
       "</table>\n",
       "</div>"
      ],
      "text/plain": [
       "                        date  \\\n",
       "2522609  2018-03-05 03:03:03   \n",
       "2522610  2018-03-05 03:03:02   \n",
       "2522611  2018-03-05 03:03:00   \n",
       "2522612  2018-03-05 03:02:50   \n",
       "2522613  2018-03-05 03:02:49   \n",
       "\n",
       "                                                      text  \\\n",
       "2522609  Want to see something intresting? This is the ...   \n",
       "2522610  # BTC Average: 10424.09$ # Bitfinex - 11526.00...   \n",
       "2522611  Think You've Missed The Blockchain Boat? Think...   \n",
       "2522612  The Abyss Aims to Conduct the Worldâs First ...   \n",
       "2522613  # TheAbyss has dual currency options whereby a...   \n",
       "\n",
       "                                                 url_clean  \n",
       "2522609  Want to see something intresting? This is the ...  \n",
       "2522610  # BTC Average: 10424.09$ # Bitfinex - 11526.00...  \n",
       "2522611  Think You've Missed The Blockchain Boat? Think...  \n",
       "2522612  The Abyss Aims to Conduct the Worldâs First ...  \n",
       "2522613  # TheAbyss has dual currency options whereby a...  "
      ]
     },
     "execution_count": 42,
     "metadata": {},
     "output_type": "execute_result"
    }
   ],
   "source": [
    "df.tail()"
   ]
  },
  {
   "cell_type": "code",
   "execution_count": 43,
   "metadata": {
    "collapsed": true
   },
   "outputs": [],
   "source": [
    "dfa.to_csv(\"total_tweets.csv\")"
   ]
  },
  {
   "cell_type": "code",
   "execution_count": 44,
   "metadata": {
    "collapsed": true
   },
   "outputs": [],
   "source": [
    "df.to_csv(\"clean_tweets.csv\")"
   ]
  },
  {
   "cell_type": "code",
   "execution_count": 46,
   "metadata": {
    "collapsed": true
   },
   "outputs": [],
   "source": [
    "lower = lambda x: x.lower()\n",
    "df[\"lower\"]  = df[\"url_clean\"].apply(lower)"
   ]
  },
  {
   "cell_type": "code",
   "execution_count": 47,
   "metadata": {},
   "outputs": [
    {
     "data": {
      "text/html": [
       "<div>\n",
       "<style scoped>\n",
       "    .dataframe tbody tr th:only-of-type {\n",
       "        vertical-align: middle;\n",
       "    }\n",
       "\n",
       "    .dataframe tbody tr th {\n",
       "        vertical-align: top;\n",
       "    }\n",
       "\n",
       "    .dataframe thead th {\n",
       "        text-align: right;\n",
       "    }\n",
       "</style>\n",
       "<table border=\"1\" class=\"dataframe\">\n",
       "  <thead>\n",
       "    <tr style=\"text-align: right;\">\n",
       "      <th></th>\n",
       "      <th>date</th>\n",
       "      <th>text</th>\n",
       "      <th>url_clean</th>\n",
       "      <th>lower</th>\n",
       "    </tr>\n",
       "  </thead>\n",
       "  <tbody>\n",
       "    <tr>\n",
       "      <th>0</th>\n",
       "      <td>10/1/2017 19:59</td>\n",
       "      <td>â ä¾¡æ ¼å·®æ",
       "å ±â åå¼æä¾¡æ ¼å·®2546å...</td>\n",
       "      <td>â ä¾¡æ ¼å·®æ",
       "å ±â åå¼æä¾¡æ ¼å·®2546å...</td>\n",
       "      <td>â ä¾¡æ ¼å·®æ",
       "å ±â åå¼æä¾¡æ ¼å·®2546å...</td>\n",
       "    </tr>\n",
       "    <tr>\n",
       "      <th>1</th>\n",
       "      <td>10/1/2017 19:59</td>\n",
       "      <td>Beyond # Bitcoin: The power struggle over trus...</td>\n",
       "      <td>Beyond # Bitcoin: The power struggle over trus...</td>\n",
       "      <td>beyond # bitcoin: the power struggle over trus...</td>\n",
       "    </tr>\n",
       "    <tr>\n",
       "      <th>2</th>\n",
       "      <td>10/1/2017 19:59</td>\n",
       "      <td>RT bitcoinagile \"The power struggle over trust...</td>\n",
       "      <td>RT bitcoinagile \"The power struggle over trust...</td>\n",
       "      <td>rt bitcoinagile \"the power struggle over trust...</td>\n",
       "    </tr>\n",
       "    <tr>\n",
       "      <th>3</th>\n",
       "      <td>10/1/2017 19:59</td>\n",
       "      <td>The power struggle over trust-based technology...</td>\n",
       "      <td>The power struggle over trust-based technology...</td>\n",
       "      <td>the power struggle over trust-based technology...</td>\n",
       "    </tr>\n",
       "    <tr>\n",
       "      <th>4</th>\n",
       "      <td>10/1/2017 19:58</td>\n",
       "      <td>Extremely bias. The whole # Bitcoin as a novel...</td>\n",
       "      <td>Extremely bias. The whole # Bitcoin as a novel...</td>\n",
       "      <td>extremely bias. the whole # bitcoin as a novel...</td>\n",
       "    </tr>\n",
       "  </tbody>\n",
       "</table>\n",
       "</div>"
      ],
      "text/plain": [
       "              date                                               text  \\\n",
       "0  10/1/2017 19:59  â ä¾¡æ ¼å·®æ\n",
       "å ±â åå¼æä¾¡æ ¼å·®2546å...   \n",
       "1  10/1/2017 19:59  Beyond # Bitcoin: The power struggle over trus...   \n",
       "2  10/1/2017 19:59  RT bitcoinagile \"The power struggle over trust...   \n",
       "3  10/1/2017 19:59  The power struggle over trust-based technology...   \n",
       "4  10/1/2017 19:58  Extremely bias. The whole # Bitcoin as a novel...   \n",
       "\n",
       "                                           url_clean  \\\n",
       "0  â ä¾¡æ ¼å·®æ\n",
       "å ±â åå¼æä¾¡æ ¼å·®2546å...   \n",
       "1  Beyond # Bitcoin: The power struggle over trus...   \n",
       "2  RT bitcoinagile \"The power struggle over trust...   \n",
       "3  The power struggle over trust-based technology...   \n",
       "4  Extremely bias. The whole # Bitcoin as a novel...   \n",
       "\n",
       "                                               lower  \n",
       "0  â ä¾¡æ ¼å·®æ\n",
       "å ±â åå¼æä¾¡æ ¼å·®2546å...  \n",
       "1  beyond # bitcoin: the power struggle over trus...  \n",
       "2  rt bitcoinagile \"the power struggle over trust...  \n",
       "3  the power struggle over trust-based technology...  \n",
       "4  extremely bias. the whole # bitcoin as a novel...  "
      ]
     },
     "execution_count": 47,
     "metadata": {},
     "output_type": "execute_result"
    }
   ],
   "source": [
    "df.head()"
   ]
  },
  {
   "cell_type": "code",
   "execution_count": 48,
   "metadata": {},
   "outputs": [
    {
     "data": {
      "text/plain": [
       "2522614"
      ]
     },
     "execution_count": 48,
     "metadata": {},
     "output_type": "execute_result"
    }
   ],
   "source": [
    "len(df)"
   ]
  },
  {
   "cell_type": "markdown",
   "metadata": {},
   "source": [
    "# Word Cloud"
   ]
  },
  {
   "cell_type": "code",
   "execution_count": 57,
   "metadata": {},
   "outputs": [
    {
     "ename": "ValueError",
     "evalue": "cannot reshape array of size 2522614 into shape (5,5)",
     "output_type": "error",
     "traceback": [
      "\u001b[1;31m---------------------------------------------------------------------------\u001b[0m",
      "\u001b[1;31mValueError\u001b[0m                                Traceback (most recent call last)",
      "\u001b[1;32m<ipython-input-57-4ee3a45d09f6>\u001b[0m in \u001b[0;36m<module>\u001b[1;34m()\u001b[0m\n\u001b[0;32m      1\u001b[0m \u001b[1;33m\u001b[0m\u001b[0m\n\u001b[1;32m----> 2\u001b[1;33m \u001b[0mword2\u001b[0m \u001b[1;33m=\u001b[0m \u001b[0mnp\u001b[0m\u001b[1;33m.\u001b[0m\u001b[0marray\u001b[0m\u001b[1;33m(\u001b[0m\u001b[0mdfa\u001b[0m\u001b[1;33m[\u001b[0m\u001b[1;34m\"lower\"\u001b[0m\u001b[1;33m]\u001b[0m\u001b[1;33m)\u001b[0m\u001b[1;33m.\u001b[0m\u001b[0mreshape\u001b[0m\u001b[1;33m(\u001b[0m\u001b[1;36m5\u001b[0m\u001b[1;33m,\u001b[0m\u001b[1;36m5\u001b[0m\u001b[1;33m)\u001b[0m\u001b[1;33m\u001b[0m\u001b[0m\n\u001b[0m",
      "\u001b[1;31mValueError\u001b[0m: cannot reshape array of size 2522614 into shape (5,5)"
     ]
    }
   ],
   "source": [
    "\n",
    "word2 = np.array(dfa[\"lower\"]).reshape(5,5)"
   ]
  },
  {
   "cell_type": "code",
   "execution_count": null,
   "metadata": {
    "collapsed": true
   },
   "outputs": [],
   "source": [
    "word = \"\"\n",
    "for i in range(len(df)):\n",
    "    word = word + df.ix[i,\"lower\"]"
   ]
  },
  {
   "cell_type": "code",
   "execution_count": 61,
   "metadata": {
    "collapsed": true
   },
   "outputs": [],
   "source": [
    "s1 = \"\".join(df[\"lower\"])\n"
   ]
  },
  {
   "cell_type": "code",
   "execution_count": 62,
   "metadata": {},
   "outputs": [
    {
     "data": {
      "text/plain": [
       "355787494"
      ]
     },
     "execution_count": 62,
     "metadata": {},
     "output_type": "execute_result"
    }
   ],
   "source": [
    "len(s1)"
   ]
  },
  {
   "cell_type": "code",
   "execution_count": null,
   "metadata": {
    "collapsed": true
   },
   "outputs": [],
   "source": [
    "s1[6000:6200]"
   ]
  },
  {
   "cell_type": "code",
   "execution_count": null,
   "metadata": {
    "collapsed": true
   },
   "outputs": [],
   "source": []
  },
  {
   "cell_type": "code",
   "execution_count": null,
   "metadata": {
    "collapsed": true
   },
   "outputs": [],
   "source": [
    "from scipy.misc import imread\n",
    "import matplotlib.pyplot as plt\n",
    "\n",
    "\n",
    "from wordcloud import WordCloud, STOPWORDS\n",
    "\n",
    "word = s1\n",
    "wordcloud = WordCloud(relative_scaling = 1.0,\n",
    "                      stopwords = STOPWORDS # set or space-separated string\n",
    "                      ).generate(word)\n",
    "plt.imshow(wordcloud)\n",
    "plt.axis(\"off\")\n",
    "plt.show()"
   ]
  },
  {
   "cell_type": "markdown",
   "metadata": {},
   "source": [
    "# AFFIN Sentiment Score"
   ]
  },
  {
   "cell_type": "code",
   "execution_count": null,
   "metadata": {
    "collapsed": true
   },
   "outputs": [],
   "source": []
  },
  {
   "cell_type": "code",
   "execution_count": null,
   "metadata": {
    "collapsed": true
   },
   "outputs": [],
   "source": [
    "import math"
   ]
  },
  {
   "cell_type": "code",
   "execution_count": null,
   "metadata": {
    "collapsed": true
   },
   "outputs": [],
   "source": [
    "filenameAFINN = 'AFINN-111.txt'\n",
    "afinn = dict(map(lambda (w, s): (w, int(s)), [ \n",
    "            ws.strip().split('\\t') for ws in open(filenameAFINN) ]))"
   ]
  },
  {
   "cell_type": "code",
   "execution_count": null,
   "metadata": {
    "collapsed": true
   },
   "outputs": [],
   "source": [
    "pattern_split = re.compile(r\"\\W+\")"
   ]
  },
  {
   "cell_type": "code",
   "execution_count": null,
   "metadata": {
    "collapsed": true
   },
   "outputs": [],
   "source": [
    "def sentiment(text):\n",
    "    \"\"\"\n",
    "    Returns a float for sentiment strength based on the input text.\n",
    "    Positive values are positive valence, negative value are negative valence. \n",
    "    \"\"\"\n",
    "    words = pattern_split.split(text.lower())\n",
    "    sentiments = map(lambda word: afinn.get(word, 0), words)\n",
    "    if sentiments:\n",
    "        # How should you weight the individual word sentiments? \n",
    "        # You could do N, sqrt(N) or 1 for example. Here I use sqrt(N)\n",
    "        sentiment = float(sum(sentiments))/len(sentiments)\n",
    "        \n",
    "    else:\n",
    "        sentiment = 0\n",
    "    return sentiment"
   ]
  },
  {
   "cell_type": "code",
   "execution_count": null,
   "metadata": {
    "collapsed": true
   },
   "outputs": [],
   "source": [
    "dfa[\"Affin_score\"]  = dfa[\"url_clean\"].apply(sentiment)"
   ]
  },
  {
   "cell_type": "code",
   "execution_count": null,
   "metadata": {
    "collapsed": true
   },
   "outputs": [],
   "source": []
  },
  {
   "cell_type": "markdown",
   "metadata": {},
   "source": [
    "# sentiment classifier"
   ]
  },
  {
   "cell_type": "code",
   "execution_count": null,
   "metadata": {
    "collapsed": true
   },
   "outputs": [],
   "source": [
    "from senti_classifier import senti_classifier\n",
    "\n",
    "def sentiment2(x):\n",
    "    pos_score, neg_score = senti_classifier.polarity_scores(x)\n",
    "    return pos_score - neg_score\n",
    "    \n",
    "\n",
    "\n",
    "dfa[\"Sentiment_classifier\"]  = dfa[\"url_clean\"].apply(sentiment2)\n",
    "\n",
    "#this is designed for Python 2.6"
   ]
  },
  {
   "cell_type": "code",
   "execution_count": null,
   "metadata": {
    "collapsed": true
   },
   "outputs": [],
   "source": []
  },
  {
   "cell_type": "markdown",
   "metadata": {},
   "source": [
    "# NLTK VADER Sentiment Intensity Analyzer"
   ]
  },
  {
   "cell_type": "code",
   "execution_count": null,
   "metadata": {
    "collapsed": true
   },
   "outputs": [],
   "source": [
    "from nltk.sentiment.vader import SentimentIntensityAnalyzer\n",
    "\n",
    "def sentiment3(x):\n",
    "    score = vader.polarity_scores(x)\n",
    "    return score['pos'] - score['neg']\n",
    "    \n",
    "\n",
    "\n",
    "dfa[\"Sentiment_NLTKVader\"]  = dfa[\"url_clean\"].apply(sentiment3)\n"
   ]
  },
  {
   "cell_type": "code",
   "execution_count": null,
   "metadata": {
    "collapsed": true
   },
   "outputs": [],
   "source": []
  },
  {
   "cell_type": "markdown",
   "metadata": {},
   "source": [
    "# Text Blob Sentiment"
   ]
  },
  {
   "cell_type": "code",
   "execution_count": null,
   "metadata": {
    "collapsed": true
   },
   "outputs": [],
   "source": []
  },
  {
   "cell_type": "code",
   "execution_count": null,
   "metadata": {
    "collapsed": true
   },
   "outputs": [],
   "source": [
    "from textblob import TextBlob\n",
    "\n",
    "def sentiment4(x):\n",
    "    \n",
    "    blob = TextBlob(x)\n",
    "    \n",
    "    score = 0\n",
    "    \n",
    "    for sentence in blob.sentences:\n",
    "    score = score + sentence.sentiment.polarity\n",
    "    \n",
    "    \n",
    "    return score\n",
    "    \n",
    "\n",
    "\n",
    "dfa[\"Text_Blob_sentiment\"]  = dfa[\"url_clean\"].apply(sentiment4)"
   ]
  },
  {
   "cell_type": "code",
   "execution_count": null,
   "metadata": {
    "collapsed": true
   },
   "outputs": [],
   "source": []
  },
  {
   "cell_type": "markdown",
   "metadata": {},
   "source": [
    "# Emoji detection"
   ]
  },
  {
   "cell_type": "code",
   "execution_count": null,
   "metadata": {
    "collapsed": true
   },
   "outputs": [],
   "source": []
  },
  {
   "cell_type": "code",
   "execution_count": null,
   "metadata": {
    "collapsed": true
   },
   "outputs": [],
   "source": [
    "happy_set = set([\":)\",\":-)\",\"=)\"])\n",
    "sad_set = set([\":(\",\":-(\",\"=(\"])"
   ]
  },
  {
   "cell_type": "code",
   "execution_count": null,
   "metadata": {
    "collapsed": true
   },
   "outputs": [],
   "source": [
    "def happy(x):\n",
    "    h = 0\n",
    "    v = x.split()\n",
    "    for i in v:\n",
    "        if i in happy_set:\n",
    "            h=1\n",
    "    return h\n",
    "            \n",
    "    \n",
    "\n",
    "dfa[\"Happy_emoji\"] = dfa[\"url_clean\"].apply(happy)"
   ]
  },
  {
   "cell_type": "code",
   "execution_count": null,
   "metadata": {
    "collapsed": true
   },
   "outputs": [],
   "source": [
    "def sad(x):\n",
    "    s = 0\n",
    "    v = x.split()\n",
    "    for i in v:\n",
    "        if i in sad_set:\n",
    "            s=1\n",
    "    return s        \n",
    "            \n",
    "    \n",
    "\n",
    "dfa[\"Sad_emoji\"] = dfa[\"url_clean\"].apply(sad)"
   ]
  },
  {
   "cell_type": "code",
   "execution_count": 2,
   "metadata": {},
   "outputs": [
    {
     "ename": "NameError",
     "evalue": "name 'df' is not defined",
     "output_type": "error",
     "traceback": [
      "\u001b[1;31m---------------------------------------------------------------------------\u001b[0m",
      "\u001b[1;31mNameError\u001b[0m                                 Traceback (most recent call last)",
      "\u001b[1;32m<ipython-input-2-2569c44faf66>\u001b[0m in \u001b[0;36m<module>\u001b[1;34m()\u001b[0m\n\u001b[1;32m----> 1\u001b[1;33m \u001b[0mdf\u001b[0m\u001b[1;33m.\u001b[0m\u001b[0mhead\u001b[0m\u001b[1;33m(\u001b[0m\u001b[1;33m)\u001b[0m\u001b[1;33m\u001b[0m\u001b[0m\n\u001b[0m",
      "\u001b[1;31mNameError\u001b[0m: name 'df' is not defined"
     ]
    }
   ],
   "source": [
    "df.head()"
   ]
  },
  {
   "cell_type": "code",
   "execution_count": null,
   "metadata": {
    "collapsed": true
   },
   "outputs": [],
   "source": []
  },
  {
   "cell_type": "code",
   "execution_count": null,
   "metadata": {
    "collapsed": true
   },
   "outputs": [],
   "source": []
  }
 ],
 "metadata": {
  "kernelspec": {
   "display_name": "Python [conda env:py35]",
   "language": "python",
   "name": "conda-env-py35-py"
  },
  "language_info": {
   "codemirror_mode": {
    "name": "ipython",
    "version": 3
   },
   "file_extension": ".py",
   "mimetype": "text/x-python",
   "name": "python",
   "nbconvert_exporter": "python",
   "pygments_lexer": "ipython3",
   "version": "3.5.4"
  }
 },
 "nbformat": 4,
 "nbformat_minor": 2
}
