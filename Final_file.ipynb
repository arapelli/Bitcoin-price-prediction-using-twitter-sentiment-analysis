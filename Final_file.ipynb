{
 "cells": [
  {
   "cell_type": "code",
   "execution_count": 1,
   "metadata": {
    "collapsed": true
   },
   "outputs": [],
   "source": [
    "import pandas as pd\n",
    "import numpy as np\n",
    "import math\n",
    "import matplotlib.pyplot as plt\n",
    "import seaborn as sns"
   ]
  },
  {
   "cell_type": "markdown",
   "metadata": {},
   "source": [
    "# Bitcoin Price"
   ]
  },
  {
   "cell_type": "code",
   "execution_count": null,
   "metadata": {
    "collapsed": true
   },
   "outputs": [],
   "source": []
  },
  {
   "cell_type": "code",
   "execution_count": 4,
   "metadata": {
    "collapsed": true
   },
   "outputs": [],
   "source": [
    "dfb = pd.read_csv(\"Bitcoin_4prices_total.csv\")"
   ]
  },
  {
   "cell_type": "code",
   "execution_count": 5,
   "metadata": {},
   "outputs": [
    {
     "data": {
      "text/plain": [
       "(2364, 6)"
      ]
     },
     "execution_count": 5,
     "metadata": {},
     "output_type": "execute_result"
    }
   ],
   "source": [
    "dfb.shape"
   ]
  },
  {
   "cell_type": "code",
   "execution_count": 6,
   "metadata": {},
   "outputs": [
    {
     "data": {
      "text/html": [
       "<div>\n",
       "<style scoped>\n",
       "    .dataframe tbody tr th:only-of-type {\n",
       "        vertical-align: middle;\n",
       "    }\n",
       "\n",
       "    .dataframe tbody tr th {\n",
       "        vertical-align: top;\n",
       "    }\n",
       "\n",
       "    .dataframe thead th {\n",
       "        text-align: right;\n",
       "    }\n",
       "</style>\n",
       "<table border=\"1\" class=\"dataframe\">\n",
       "  <thead>\n",
       "    <tr style=\"text-align: right;\">\n",
       "      <th></th>\n",
       "      <th>BITSTAMP</th>\n",
       "      <th>COINBASE</th>\n",
       "      <th>ITBIT</th>\n",
       "      <th>KRAKEN</th>\n",
       "      <th>avg_btc_price_usd</th>\n",
       "    </tr>\n",
       "  </thead>\n",
       "  <tbody>\n",
       "    <tr>\n",
       "      <th>count</th>\n",
       "      <td>2343.000000</td>\n",
       "      <td>906.000000</td>\n",
       "      <td>1542.000000</td>\n",
       "      <td>1469.000000</td>\n",
       "      <td>2346.000000</td>\n",
       "    </tr>\n",
       "    <tr>\n",
       "      <th>mean</th>\n",
       "      <td>1152.302963</td>\n",
       "      <td>2534.478585</td>\n",
       "      <td>1684.155579</td>\n",
       "      <td>1777.642397</td>\n",
       "      <td>1154.063561</td>\n",
       "    </tr>\n",
       "    <tr>\n",
       "      <th>std</th>\n",
       "      <td>2658.134687</td>\n",
       "      <td>3913.944573</td>\n",
       "      <td>3142.577328</td>\n",
       "      <td>3203.275124</td>\n",
       "      <td>2665.657408</td>\n",
       "    </tr>\n",
       "    <tr>\n",
       "      <th>min</th>\n",
       "      <td>2.240360</td>\n",
       "      <td>213.307686</td>\n",
       "      <td>105.830000</td>\n",
       "      <td>199.628389</td>\n",
       "      <td>2.240360</td>\n",
       "    </tr>\n",
       "    <tr>\n",
       "      <th>25%</th>\n",
       "      <td>93.531769</td>\n",
       "      <td>386.538291</td>\n",
       "      <td>362.946231</td>\n",
       "      <td>358.453681</td>\n",
       "      <td>93.903904</td>\n",
       "    </tr>\n",
       "    <tr>\n",
       "      <th>50%</th>\n",
       "      <td>374.403533</td>\n",
       "      <td>609.434944</td>\n",
       "      <td>575.622243</td>\n",
       "      <td>586.489138</td>\n",
       "      <td>374.508147</td>\n",
       "    </tr>\n",
       "    <tr>\n",
       "      <th>75%</th>\n",
       "      <td>667.643310</td>\n",
       "      <td>2721.968915</td>\n",
       "      <td>935.706589</td>\n",
       "      <td>1053.554301</td>\n",
       "      <td>670.968115</td>\n",
       "    </tr>\n",
       "    <tr>\n",
       "      <th>max</th>\n",
       "      <td>19110.244060</td>\n",
       "      <td>19455.628100</td>\n",
       "      <td>19247.277920</td>\n",
       "      <td>19135.469160</td>\n",
       "      <td>19237.154810</td>\n",
       "    </tr>\n",
       "  </tbody>\n",
       "</table>\n",
       "</div>"
      ],
      "text/plain": [
       "           BITSTAMP      COINBASE         ITBIT        KRAKEN  \\\n",
       "count   2343.000000    906.000000   1542.000000   1469.000000   \n",
       "mean    1152.302963   2534.478585   1684.155579   1777.642397   \n",
       "std     2658.134687   3913.944573   3142.577328   3203.275124   \n",
       "min        2.240360    213.307686    105.830000    199.628389   \n",
       "25%       93.531769    386.538291    362.946231    358.453681   \n",
       "50%      374.403533    609.434944    575.622243    586.489138   \n",
       "75%      667.643310   2721.968915    935.706589   1053.554301   \n",
       "max    19110.244060  19455.628100  19247.277920  19135.469160   \n",
       "\n",
       "       avg_btc_price_usd  \n",
       "count        2346.000000  \n",
       "mean         1154.063561  \n",
       "std          2665.657408  \n",
       "min             2.240360  \n",
       "25%            93.903904  \n",
       "50%           374.508147  \n",
       "75%           670.968115  \n",
       "max         19237.154810  "
      ]
     },
     "execution_count": 6,
     "metadata": {},
     "output_type": "execute_result"
    }
   ],
   "source": [
    "dfb.describe()"
   ]
  },
  {
   "cell_type": "code",
   "execution_count": 7,
   "metadata": {},
   "outputs": [
    {
     "data": {
      "text/html": [
       "<div>\n",
       "<style scoped>\n",
       "    .dataframe tbody tr th:only-of-type {\n",
       "        vertical-align: middle;\n",
       "    }\n",
       "\n",
       "    .dataframe tbody tr th {\n",
       "        vertical-align: top;\n",
       "    }\n",
       "\n",
       "    .dataframe thead th {\n",
       "        text-align: right;\n",
       "    }\n",
       "</style>\n",
       "<table border=\"1\" class=\"dataframe\">\n",
       "  <thead>\n",
       "    <tr style=\"text-align: right;\">\n",
       "      <th></th>\n",
       "      <th>Date</th>\n",
       "      <th>BITSTAMP</th>\n",
       "      <th>COINBASE</th>\n",
       "      <th>ITBIT</th>\n",
       "      <th>KRAKEN</th>\n",
       "      <th>avg_btc_price_usd</th>\n",
       "    </tr>\n",
       "  </thead>\n",
       "  <tbody>\n",
       "    <tr>\n",
       "      <th>0</th>\n",
       "      <td>9/13/2011</td>\n",
       "      <td>5.929231</td>\n",
       "      <td>NaN</td>\n",
       "      <td>NaN</td>\n",
       "      <td>NaN</td>\n",
       "      <td>5.929231</td>\n",
       "    </tr>\n",
       "    <tr>\n",
       "      <th>1</th>\n",
       "      <td>9/14/2011</td>\n",
       "      <td>5.590798</td>\n",
       "      <td>NaN</td>\n",
       "      <td>NaN</td>\n",
       "      <td>NaN</td>\n",
       "      <td>5.590798</td>\n",
       "    </tr>\n",
       "    <tr>\n",
       "      <th>2</th>\n",
       "      <td>9/15/2011</td>\n",
       "      <td>5.094272</td>\n",
       "      <td>NaN</td>\n",
       "      <td>NaN</td>\n",
       "      <td>NaN</td>\n",
       "      <td>5.094272</td>\n",
       "    </tr>\n",
       "    <tr>\n",
       "      <th>3</th>\n",
       "      <td>9/16/2011</td>\n",
       "      <td>4.854515</td>\n",
       "      <td>NaN</td>\n",
       "      <td>NaN</td>\n",
       "      <td>NaN</td>\n",
       "      <td>4.854515</td>\n",
       "    </tr>\n",
       "    <tr>\n",
       "      <th>4</th>\n",
       "      <td>9/17/2011</td>\n",
       "      <td>4.870000</td>\n",
       "      <td>NaN</td>\n",
       "      <td>NaN</td>\n",
       "      <td>NaN</td>\n",
       "      <td>4.870000</td>\n",
       "    </tr>\n",
       "  </tbody>\n",
       "</table>\n",
       "</div>"
      ],
      "text/plain": [
       "        Date  BITSTAMP  COINBASE  ITBIT  KRAKEN  avg_btc_price_usd\n",
       "0  9/13/2011  5.929231       NaN    NaN     NaN           5.929231\n",
       "1  9/14/2011  5.590798       NaN    NaN     NaN           5.590798\n",
       "2  9/15/2011  5.094272       NaN    NaN     NaN           5.094272\n",
       "3  9/16/2011  4.854515       NaN    NaN     NaN           4.854515\n",
       "4  9/17/2011  4.870000       NaN    NaN     NaN           4.870000"
      ]
     },
     "execution_count": 7,
     "metadata": {},
     "output_type": "execute_result"
    }
   ],
   "source": [
    "dfb.head()"
   ]
  },
  {
   "cell_type": "code",
   "execution_count": 9,
   "metadata": {
    "collapsed": true
   },
   "outputs": [],
   "source": [
    "dfb1 = dfb"
   ]
  },
  {
   "cell_type": "code",
   "execution_count": 22,
   "metadata": {},
   "outputs": [
    {
     "data": {
      "text/plain": [
       "str"
      ]
     },
     "execution_count": 22,
     "metadata": {},
     "output_type": "execute_result"
    }
   ],
   "source": [
    "type(dfb.loc[0,\"Date\"])"
   ]
  },
  {
   "cell_type": "code",
   "execution_count": 24,
   "metadata": {
    "collapsed": true
   },
   "outputs": [],
   "source": [
    "dfb[\"Datem\"] = pd.to_datetime(dfb[\"Date\"])"
   ]
  },
  {
   "cell_type": "code",
   "execution_count": 25,
   "metadata": {},
   "outputs": [
    {
     "data": {
      "text/plain": [
       "pandas._libs.tslib.Timestamp"
      ]
     },
     "execution_count": 25,
     "metadata": {},
     "output_type": "execute_result"
    }
   ],
   "source": [
    "type(dfb.loc[0,\"Datem\"])"
   ]
  },
  {
   "cell_type": "code",
   "execution_count": 29,
   "metadata": {},
   "outputs": [
    {
     "data": {
      "text/html": [
       "<div>\n",
       "<style scoped>\n",
       "    .dataframe tbody tr th:only-of-type {\n",
       "        vertical-align: middle;\n",
       "    }\n",
       "\n",
       "    .dataframe tbody tr th {\n",
       "        vertical-align: top;\n",
       "    }\n",
       "\n",
       "    .dataframe thead th {\n",
       "        text-align: right;\n",
       "    }\n",
       "</style>\n",
       "<table border=\"1\" class=\"dataframe\">\n",
       "  <thead>\n",
       "    <tr style=\"text-align: right;\">\n",
       "      <th></th>\n",
       "      <th>Date</th>\n",
       "      <th>BITSTAMP</th>\n",
       "      <th>COINBASE</th>\n",
       "      <th>ITBIT</th>\n",
       "      <th>KRAKEN</th>\n",
       "      <th>avg_btc_price_usd</th>\n",
       "      <th>Datem</th>\n",
       "    </tr>\n",
       "  </thead>\n",
       "  <tbody>\n",
       "    <tr>\n",
       "      <th>2359</th>\n",
       "      <td>2/27/2018</td>\n",
       "      <td>10576.64169</td>\n",
       "      <td>10546.23559</td>\n",
       "      <td>10565.26375</td>\n",
       "      <td>10589.21609</td>\n",
       "      <td>10569.33928</td>\n",
       "      <td>2018-02-27</td>\n",
       "    </tr>\n",
       "    <tr>\n",
       "      <th>2360</th>\n",
       "      <td>2/28/2018</td>\n",
       "      <td>10624.38289</td>\n",
       "      <td>10643.05357</td>\n",
       "      <td>10621.09943</td>\n",
       "      <td>10615.58799</td>\n",
       "      <td>10626.03097</td>\n",
       "      <td>2018-02-28</td>\n",
       "    </tr>\n",
       "    <tr>\n",
       "      <th>2361</th>\n",
       "      <td>3/1/2018</td>\n",
       "      <td>10727.27260</td>\n",
       "      <td>10710.94606</td>\n",
       "      <td>10678.15687</td>\n",
       "      <td>10671.65395</td>\n",
       "      <td>10697.00737</td>\n",
       "      <td>2018-03-01</td>\n",
       "    </tr>\n",
       "    <tr>\n",
       "      <th>2362</th>\n",
       "      <td>3/2/2018</td>\n",
       "      <td>10980.29866</td>\n",
       "      <td>10982.18188</td>\n",
       "      <td>10973.43405</td>\n",
       "      <td>10977.06791</td>\n",
       "      <td>10978.24562</td>\n",
       "      <td>2018-03-02</td>\n",
       "    </tr>\n",
       "    <tr>\n",
       "      <th>2363</th>\n",
       "      <td>3/3/2018</td>\n",
       "      <td>11331.43559</td>\n",
       "      <td>11311.71712</td>\n",
       "      <td>11292.58854</td>\n",
       "      <td>11354.63181</td>\n",
       "      <td>11322.59327</td>\n",
       "      <td>2018-03-03</td>\n",
       "    </tr>\n",
       "  </tbody>\n",
       "</table>\n",
       "</div>"
      ],
      "text/plain": [
       "           Date     BITSTAMP     COINBASE        ITBIT       KRAKEN  \\\n",
       "2359  2/27/2018  10576.64169  10546.23559  10565.26375  10589.21609   \n",
       "2360  2/28/2018  10624.38289  10643.05357  10621.09943  10615.58799   \n",
       "2361   3/1/2018  10727.27260  10710.94606  10678.15687  10671.65395   \n",
       "2362   3/2/2018  10980.29866  10982.18188  10973.43405  10977.06791   \n",
       "2363   3/3/2018  11331.43559  11311.71712  11292.58854  11354.63181   \n",
       "\n",
       "      avg_btc_price_usd      Datem  \n",
       "2359        10569.33928 2018-02-27  \n",
       "2360        10626.03097 2018-02-28  \n",
       "2361        10697.00737 2018-03-01  \n",
       "2362        10978.24562 2018-03-02  \n",
       "2363        11322.59327 2018-03-03  "
      ]
     },
     "execution_count": 29,
     "metadata": {},
     "output_type": "execute_result"
    }
   ],
   "source": [
    "dfb.tail()"
   ]
  },
  {
   "cell_type": "code",
   "execution_count": 72,
   "metadata": {
    "collapsed": true
   },
   "outputs": [],
   "source": [
    "dfb1 = dfb"
   ]
  },
  {
   "cell_type": "code",
   "execution_count": 74,
   "metadata": {
    "collapsed": true
   },
   "outputs": [],
   "source": [
    "dfb1.set_index(dfb1[\"Datem\"],inplace=True)"
   ]
  },
  {
   "cell_type": "code",
   "execution_count": 75,
   "metadata": {},
   "outputs": [
    {
     "data": {
      "text/html": [
       "<div>\n",
       "<style scoped>\n",
       "    .dataframe tbody tr th:only-of-type {\n",
       "        vertical-align: middle;\n",
       "    }\n",
       "\n",
       "    .dataframe tbody tr th {\n",
       "        vertical-align: top;\n",
       "    }\n",
       "\n",
       "    .dataframe thead th {\n",
       "        text-align: right;\n",
       "    }\n",
       "</style>\n",
       "<table border=\"1\" class=\"dataframe\">\n",
       "  <thead>\n",
       "    <tr style=\"text-align: right;\">\n",
       "      <th></th>\n",
       "      <th>Date</th>\n",
       "      <th>BITSTAMP</th>\n",
       "      <th>COINBASE</th>\n",
       "      <th>ITBIT</th>\n",
       "      <th>KRAKEN</th>\n",
       "      <th>avg_btc_price_usd</th>\n",
       "      <th>Datem</th>\n",
       "    </tr>\n",
       "    <tr>\n",
       "      <th>Datem</th>\n",
       "      <th></th>\n",
       "      <th></th>\n",
       "      <th></th>\n",
       "      <th></th>\n",
       "      <th></th>\n",
       "      <th></th>\n",
       "      <th></th>\n",
       "    </tr>\n",
       "  </thead>\n",
       "  <tbody>\n",
       "    <tr>\n",
       "      <th>2011-09-13</th>\n",
       "      <td>9/13/2011</td>\n",
       "      <td>5.929231</td>\n",
       "      <td>NaN</td>\n",
       "      <td>NaN</td>\n",
       "      <td>NaN</td>\n",
       "      <td>5.929231</td>\n",
       "      <td>2011-09-13</td>\n",
       "    </tr>\n",
       "    <tr>\n",
       "      <th>2011-09-14</th>\n",
       "      <td>9/14/2011</td>\n",
       "      <td>5.590798</td>\n",
       "      <td>NaN</td>\n",
       "      <td>NaN</td>\n",
       "      <td>NaN</td>\n",
       "      <td>5.590798</td>\n",
       "      <td>2011-09-14</td>\n",
       "    </tr>\n",
       "    <tr>\n",
       "      <th>2011-09-15</th>\n",
       "      <td>9/15/2011</td>\n",
       "      <td>5.094272</td>\n",
       "      <td>NaN</td>\n",
       "      <td>NaN</td>\n",
       "      <td>NaN</td>\n",
       "      <td>5.094272</td>\n",
       "      <td>2011-09-15</td>\n",
       "    </tr>\n",
       "    <tr>\n",
       "      <th>2011-09-16</th>\n",
       "      <td>9/16/2011</td>\n",
       "      <td>4.854515</td>\n",
       "      <td>NaN</td>\n",
       "      <td>NaN</td>\n",
       "      <td>NaN</td>\n",
       "      <td>4.854515</td>\n",
       "      <td>2011-09-16</td>\n",
       "    </tr>\n",
       "    <tr>\n",
       "      <th>2011-09-17</th>\n",
       "      <td>9/17/2011</td>\n",
       "      <td>4.870000</td>\n",
       "      <td>NaN</td>\n",
       "      <td>NaN</td>\n",
       "      <td>NaN</td>\n",
       "      <td>4.870000</td>\n",
       "      <td>2011-09-17</td>\n",
       "    </tr>\n",
       "  </tbody>\n",
       "</table>\n",
       "</div>"
      ],
      "text/plain": [
       "                 Date  BITSTAMP  COINBASE  ITBIT  KRAKEN  avg_btc_price_usd  \\\n",
       "Datem                                                                         \n",
       "2011-09-13  9/13/2011  5.929231       NaN    NaN     NaN           5.929231   \n",
       "2011-09-14  9/14/2011  5.590798       NaN    NaN     NaN           5.590798   \n",
       "2011-09-15  9/15/2011  5.094272       NaN    NaN     NaN           5.094272   \n",
       "2011-09-16  9/16/2011  4.854515       NaN    NaN     NaN           4.854515   \n",
       "2011-09-17  9/17/2011  4.870000       NaN    NaN     NaN           4.870000   \n",
       "\n",
       "                Datem  \n",
       "Datem                  \n",
       "2011-09-13 2011-09-13  \n",
       "2011-09-14 2011-09-14  \n",
       "2011-09-15 2011-09-15  \n",
       "2011-09-16 2011-09-16  \n",
       "2011-09-17 2011-09-17  "
      ]
     },
     "execution_count": 75,
     "metadata": {},
     "output_type": "execute_result"
    }
   ],
   "source": [
    "dfb1.head()"
   ]
  },
  {
   "cell_type": "code",
   "execution_count": 76,
   "metadata": {
    "collapsed": true
   },
   "outputs": [],
   "source": [
    "dfb1 = dfb1.drop([\"Date\", \"Datem\"],axis =1)"
   ]
  },
  {
   "cell_type": "code",
   "execution_count": 77,
   "metadata": {},
   "outputs": [
    {
     "data": {
      "text/html": [
       "<div>\n",
       "<style scoped>\n",
       "    .dataframe tbody tr th:only-of-type {\n",
       "        vertical-align: middle;\n",
       "    }\n",
       "\n",
       "    .dataframe tbody tr th {\n",
       "        vertical-align: top;\n",
       "    }\n",
       "\n",
       "    .dataframe thead th {\n",
       "        text-align: right;\n",
       "    }\n",
       "</style>\n",
       "<table border=\"1\" class=\"dataframe\">\n",
       "  <thead>\n",
       "    <tr style=\"text-align: right;\">\n",
       "      <th></th>\n",
       "      <th>BITSTAMP</th>\n",
       "      <th>COINBASE</th>\n",
       "      <th>ITBIT</th>\n",
       "      <th>KRAKEN</th>\n",
       "      <th>avg_btc_price_usd</th>\n",
       "    </tr>\n",
       "    <tr>\n",
       "      <th>Datem</th>\n",
       "      <th></th>\n",
       "      <th></th>\n",
       "      <th></th>\n",
       "      <th></th>\n",
       "      <th></th>\n",
       "    </tr>\n",
       "  </thead>\n",
       "  <tbody>\n",
       "    <tr>\n",
       "      <th>2011-09-13</th>\n",
       "      <td>5.929231</td>\n",
       "      <td>NaN</td>\n",
       "      <td>NaN</td>\n",
       "      <td>NaN</td>\n",
       "      <td>5.929231</td>\n",
       "    </tr>\n",
       "    <tr>\n",
       "      <th>2011-09-14</th>\n",
       "      <td>5.590798</td>\n",
       "      <td>NaN</td>\n",
       "      <td>NaN</td>\n",
       "      <td>NaN</td>\n",
       "      <td>5.590798</td>\n",
       "    </tr>\n",
       "    <tr>\n",
       "      <th>2011-09-15</th>\n",
       "      <td>5.094272</td>\n",
       "      <td>NaN</td>\n",
       "      <td>NaN</td>\n",
       "      <td>NaN</td>\n",
       "      <td>5.094272</td>\n",
       "    </tr>\n",
       "    <tr>\n",
       "      <th>2011-09-16</th>\n",
       "      <td>4.854515</td>\n",
       "      <td>NaN</td>\n",
       "      <td>NaN</td>\n",
       "      <td>NaN</td>\n",
       "      <td>4.854515</td>\n",
       "    </tr>\n",
       "    <tr>\n",
       "      <th>2011-09-17</th>\n",
       "      <td>4.870000</td>\n",
       "      <td>NaN</td>\n",
       "      <td>NaN</td>\n",
       "      <td>NaN</td>\n",
       "      <td>4.870000</td>\n",
       "    </tr>\n",
       "  </tbody>\n",
       "</table>\n",
       "</div>"
      ],
      "text/plain": [
       "            BITSTAMP  COINBASE  ITBIT  KRAKEN  avg_btc_price_usd\n",
       "Datem                                                           \n",
       "2011-09-13  5.929231       NaN    NaN     NaN           5.929231\n",
       "2011-09-14  5.590798       NaN    NaN     NaN           5.590798\n",
       "2011-09-15  5.094272       NaN    NaN     NaN           5.094272\n",
       "2011-09-16  4.854515       NaN    NaN     NaN           4.854515\n",
       "2011-09-17  4.870000       NaN    NaN     NaN           4.870000"
      ]
     },
     "execution_count": 77,
     "metadata": {},
     "output_type": "execute_result"
    }
   ],
   "source": [
    "dfb1.head()"
   ]
  },
  {
   "cell_type": "code",
   "execution_count": 78,
   "metadata": {},
   "outputs": [
    {
     "data": {
      "image/png": "[encoded data removed]",
      "text/plain": [
       "<matplotlib.figure.Figure at 0x237188689b0>"
      ]
     },
     "metadata": {},
     "output_type": "display_data"
    }
   ],
   "source": [
    "plt.plot(dfb1[\"avg_btc_price_usd\"])\n",
    "plt.show()"
   ]
  },
  {
   "cell_type": "code",
   "execution_count": 153,
   "metadata": {
    "collapsed": true
   },
   "outputs": [],
   "source": [
    "dfbf = dfb1['10/01/2017' : '03/05/2018']"
   ]
  },
  {
   "cell_type": "code",
   "execution_count": null,
   "metadata": {
    "collapsed": true
   },
   "outputs": [],
   "source": []
  },
  {
   "cell_type": "code",
   "execution_count": 154,
   "metadata": {},
   "outputs": [
    {
     "data": {
      "text/plain": [
       "(154, 5)"
      ]
     },
     "execution_count": 154,
     "metadata": {},
     "output_type": "execute_result"
    }
   ],
   "source": [
    "dfbf.shape"
   ]
  },
  {
   "cell_type": "code",
   "execution_count": 155,
   "metadata": {},
   "outputs": [
    {
     "data": {
      "text/html": [
       "<div>\n",
       "<style scoped>\n",
       "    .dataframe tbody tr th:only-of-type {\n",
       "        vertical-align: middle;\n",
       "    }\n",
       "\n",
       "    .dataframe tbody tr th {\n",
       "        vertical-align: top;\n",
       "    }\n",
       "\n",
       "    .dataframe thead th {\n",
       "        text-align: right;\n",
       "    }\n",
       "</style>\n",
       "<table border=\"1\" class=\"dataframe\">\n",
       "  <thead>\n",
       "    <tr style=\"text-align: right;\">\n",
       "      <th></th>\n",
       "      <th>BITSTAMP</th>\n",
       "      <th>COINBASE</th>\n",
       "      <th>ITBIT</th>\n",
       "      <th>KRAKEN</th>\n",
       "      <th>avg_btc_price_usd</th>\n",
       "    </tr>\n",
       "    <tr>\n",
       "      <th>Datem</th>\n",
       "      <th></th>\n",
       "      <th></th>\n",
       "      <th></th>\n",
       "      <th></th>\n",
       "      <th></th>\n",
       "    </tr>\n",
       "  </thead>\n",
       "  <tbody>\n",
       "    <tr>\n",
       "      <th>2017-10-01</th>\n",
       "      <td>4280.997098</td>\n",
       "      <td>4319.813188</td>\n",
       "      <td>4317.864094</td>\n",
       "      <td>4314.305295</td>\n",
       "      <td>4308.244919</td>\n",
       "    </tr>\n",
       "    <tr>\n",
       "      <th>2017-10-02</th>\n",
       "      <td>4394.013069</td>\n",
       "      <td>4402.536107</td>\n",
       "      <td>4396.562923</td>\n",
       "      <td>4409.721658</td>\n",
       "      <td>4400.708439</td>\n",
       "    </tr>\n",
       "    <tr>\n",
       "      <th>2017-10-03</th>\n",
       "      <td>4295.104231</td>\n",
       "      <td>4312.974604</td>\n",
       "      <td>4305.215903</td>\n",
       "      <td>4311.757087</td>\n",
       "      <td>4306.262956</td>\n",
       "    </tr>\n",
       "    <tr>\n",
       "      <th>2017-10-04</th>\n",
       "      <td>4233.863791</td>\n",
       "      <td>4243.672167</td>\n",
       "      <td>4256.070959</td>\n",
       "      <td>4250.842982</td>\n",
       "      <td>4246.112475</td>\n",
       "    </tr>\n",
       "    <tr>\n",
       "      <th>2017-10-05</th>\n",
       "      <td>4265.134362</td>\n",
       "      <td>4273.702994</td>\n",
       "      <td>4287.174560</td>\n",
       "      <td>4272.969262</td>\n",
       "      <td>4274.745294</td>\n",
       "    </tr>\n",
       "  </tbody>\n",
       "</table>\n",
       "</div>"
      ],
      "text/plain": [
       "               BITSTAMP     COINBASE        ITBIT       KRAKEN  \\\n",
       "Datem                                                            \n",
       "2017-10-01  4280.997098  4319.813188  4317.864094  4314.305295   \n",
       "2017-10-02  4394.013069  4402.536107  4396.562923  4409.721658   \n",
       "2017-10-03  4295.104231  4312.974604  4305.215903  4311.757087   \n",
       "2017-10-04  4233.863791  4243.672167  4256.070959  4250.842982   \n",
       "2017-10-05  4265.134362  4273.702994  4287.174560  4272.969262   \n",
       "\n",
       "            avg_btc_price_usd  \n",
       "Datem                          \n",
       "2017-10-01        4308.244919  \n",
       "2017-10-02        4400.708439  \n",
       "2017-10-03        4306.262956  \n",
       "2017-10-04        4246.112475  \n",
       "2017-10-05        4274.745294  "
      ]
     },
     "execution_count": 155,
     "metadata": {},
     "output_type": "execute_result"
    }
   ],
   "source": [
    "dfbf.head()"
   ]
  },
  {
   "cell_type": "code",
   "execution_count": 156,
   "metadata": {},
   "outputs": [
    {
     "data": {
      "text/html": [
       "<div>\n",
       "<style scoped>\n",
       "    .dataframe tbody tr th:only-of-type {\n",
       "        vertical-align: middle;\n",
       "    }\n",
       "\n",
       "    .dataframe tbody tr th {\n",
       "        vertical-align: top;\n",
       "    }\n",
       "\n",
       "    .dataframe thead th {\n",
       "        text-align: right;\n",
       "    }\n",
       "</style>\n",
       "<table border=\"1\" class=\"dataframe\">\n",
       "  <thead>\n",
       "    <tr style=\"text-align: right;\">\n",
       "      <th></th>\n",
       "      <th>BITSTAMP</th>\n",
       "      <th>COINBASE</th>\n",
       "      <th>ITBIT</th>\n",
       "      <th>KRAKEN</th>\n",
       "      <th>avg_btc_price_usd</th>\n",
       "    </tr>\n",
       "    <tr>\n",
       "      <th>Datem</th>\n",
       "      <th></th>\n",
       "      <th></th>\n",
       "      <th></th>\n",
       "      <th></th>\n",
       "      <th></th>\n",
       "    </tr>\n",
       "  </thead>\n",
       "  <tbody>\n",
       "    <tr>\n",
       "      <th>2018-02-27</th>\n",
       "      <td>10576.64169</td>\n",
       "      <td>10546.23559</td>\n",
       "      <td>10565.26375</td>\n",
       "      <td>10589.21609</td>\n",
       "      <td>10569.33928</td>\n",
       "    </tr>\n",
       "    <tr>\n",
       "      <th>2018-02-28</th>\n",
       "      <td>10624.38289</td>\n",
       "      <td>10643.05357</td>\n",
       "      <td>10621.09943</td>\n",
       "      <td>10615.58799</td>\n",
       "      <td>10626.03097</td>\n",
       "    </tr>\n",
       "    <tr>\n",
       "      <th>2018-03-01</th>\n",
       "      <td>10727.27260</td>\n",
       "      <td>10710.94606</td>\n",
       "      <td>10678.15687</td>\n",
       "      <td>10671.65395</td>\n",
       "      <td>10697.00737</td>\n",
       "    </tr>\n",
       "    <tr>\n",
       "      <th>2018-03-02</th>\n",
       "      <td>10980.29866</td>\n",
       "      <td>10982.18188</td>\n",
       "      <td>10973.43405</td>\n",
       "      <td>10977.06791</td>\n",
       "      <td>10978.24562</td>\n",
       "    </tr>\n",
       "    <tr>\n",
       "      <th>2018-03-03</th>\n",
       "      <td>11331.43559</td>\n",
       "      <td>11311.71712</td>\n",
       "      <td>11292.58854</td>\n",
       "      <td>11354.63181</td>\n",
       "      <td>11322.59327</td>\n",
       "    </tr>\n",
       "  </tbody>\n",
       "</table>\n",
       "</div>"
      ],
      "text/plain": [
       "               BITSTAMP     COINBASE        ITBIT       KRAKEN  \\\n",
       "Datem                                                            \n",
       "2018-02-27  10576.64169  10546.23559  10565.26375  10589.21609   \n",
       "2018-02-28  10624.38289  10643.05357  10621.09943  10615.58799   \n",
       "2018-03-01  10727.27260  10710.94606  10678.15687  10671.65395   \n",
       "2018-03-02  10980.29866  10982.18188  10973.43405  10977.06791   \n",
       "2018-03-03  11331.43559  11311.71712  11292.58854  11354.63181   \n",
       "\n",
       "            avg_btc_price_usd  \n",
       "Datem                          \n",
       "2018-02-27        10569.33928  \n",
       "2018-02-28        10626.03097  \n",
       "2018-03-01        10697.00737  \n",
       "2018-03-02        10978.24562  \n",
       "2018-03-03        11322.59327  "
      ]
     },
     "execution_count": 156,
     "metadata": {},
     "output_type": "execute_result"
    }
   ],
   "source": [
    "dfbf.tail()"
   ]
  },
  {
   "cell_type": "code",
   "execution_count": null,
   "metadata": {
    "collapsed": true
   },
   "outputs": [],
   "source": []
  },
  {
   "cell_type": "code",
   "execution_count": null,
   "metadata": {
    "collapsed": true
   },
   "outputs": [],
   "source": []
  },
  {
   "cell_type": "code",
   "execution_count": null,
   "metadata": {
    "collapsed": true
   },
   "outputs": [],
   "source": []
  },
  {
   "cell_type": "markdown",
   "metadata": {},
   "source": [
    "# Tweet Sentiment "
   ]
  },
  {
   "cell_type": "code",
   "execution_count": 8,
   "metadata": {
    "collapsed": true
   },
   "outputs": [],
   "source": [
    "dft = pd.read_csv(\"Affin_Emoji_TextBlob_Vader.csv\")"
   ]
  },
  {
   "cell_type": "code",
   "execution_count": 10,
   "metadata": {
    "collapsed": true
   },
   "outputs": [],
   "source": [
    "dft1 =dft"
   ]
  },
  {
   "cell_type": "code",
   "execution_count": 11,
   "metadata": {},
   "outputs": [
    {
     "data": {
      "text/html": [
       "<div>\n",
       "<style scoped>\n",
       "    .dataframe tbody tr th:only-of-type {\n",
       "        vertical-align: middle;\n",
       "    }\n",
       "\n",
       "    .dataframe tbody tr th {\n",
       "        vertical-align: top;\n",
       "    }\n",
       "\n",
       "    .dataframe thead th {\n",
       "        text-align: right;\n",
       "    }\n",
       "</style>\n",
       "<table border=\"1\" class=\"dataframe\">\n",
       "  <thead>\n",
       "    <tr style=\"text-align: right;\">\n",
       "      <th></th>\n",
       "      <th>Unnamed: 0</th>\n",
       "      <th>Affin_score</th>\n",
       "      <th>Happy_emoji</th>\n",
       "      <th>Sad_emoji</th>\n",
       "      <th>Text_Blob_polarity</th>\n",
       "      <th>Text_Blob_subjectivity</th>\n",
       "      <th>Vader_Pos</th>\n",
       "      <th>Vader_Neg</th>\n",
       "      <th>Vader_Neu</th>\n",
       "      <th>Vader_Compound</th>\n",
       "    </tr>\n",
       "  </thead>\n",
       "  <tbody>\n",
       "    <tr>\n",
       "      <th>count</th>\n",
       "      <td>2.522614e+06</td>\n",
       "      <td>2.522614e+06</td>\n",
       "      <td>2.522614e+06</td>\n",
       "      <td>2.522614e+06</td>\n",
       "      <td>2.522614e+06</td>\n",
       "      <td>2.522614e+06</td>\n",
       "      <td>2.522614e+06</td>\n",
       "      <td>2.522614e+06</td>\n",
       "      <td>2.522614e+06</td>\n",
       "      <td>2.522614e+06</td>\n",
       "    </tr>\n",
       "    <tr>\n",
       "      <th>mean</th>\n",
       "      <td>1.261306e+06</td>\n",
       "      <td>1.955570e-02</td>\n",
       "      <td>4.083066e-03</td>\n",
       "      <td>1.744222e-04</td>\n",
       "      <td>8.623705e-02</td>\n",
       "      <td>2.460578e-01</td>\n",
       "      <td>7.356833e-02</td>\n",
       "      <td>3.022578e-02</td>\n",
       "      <td>8.962063e-01</td>\n",
       "      <td>1.160319e-01</td>\n",
       "    </tr>\n",
       "    <tr>\n",
       "      <th>std</th>\n",
       "      <td>7.282161e+05</td>\n",
       "      <td>9.803767e-02</td>\n",
       "      <td>6.376830e-02</td>\n",
       "      <td>1.320575e-02</td>\n",
       "      <td>2.286711e-01</td>\n",
       "      <td>3.016803e-01</td>\n",
       "      <td>1.146322e-01</td>\n",
       "      <td>7.571063e-02</td>\n",
       "      <td>1.323417e-01</td>\n",
       "      <td>3.426967e-01</td>\n",
       "    </tr>\n",
       "    <tr>\n",
       "      <th>min</th>\n",
       "      <td>0.000000e+00</td>\n",
       "      <td>-3.000000e+00</td>\n",
       "      <td>0.000000e+00</td>\n",
       "      <td>0.000000e+00</td>\n",
       "      <td>-1.000000e+00</td>\n",
       "      <td>0.000000e+00</td>\n",
       "      <td>0.000000e+00</td>\n",
       "      <td>0.000000e+00</td>\n",
       "      <td>6.500000e-02</td>\n",
       "      <td>-9.972000e-01</td>\n",
       "    </tr>\n",
       "    <tr>\n",
       "      <th>25%</th>\n",
       "      <td>6.306532e+05</td>\n",
       "      <td>0.000000e+00</td>\n",
       "      <td>0.000000e+00</td>\n",
       "      <td>0.000000e+00</td>\n",
       "      <td>0.000000e+00</td>\n",
       "      <td>0.000000e+00</td>\n",
       "      <td>0.000000e+00</td>\n",
       "      <td>0.000000e+00</td>\n",
       "      <td>8.110000e-01</td>\n",
       "      <td>0.000000e+00</td>\n",
       "    </tr>\n",
       "    <tr>\n",
       "      <th>50%</th>\n",
       "      <td>1.261306e+06</td>\n",
       "      <td>0.000000e+00</td>\n",
       "      <td>0.000000e+00</td>\n",
       "      <td>0.000000e+00</td>\n",
       "      <td>0.000000e+00</td>\n",
       "      <td>5.000000e-02</td>\n",
       "      <td>0.000000e+00</td>\n",
       "      <td>0.000000e+00</td>\n",
       "      <td>1.000000e+00</td>\n",
       "      <td>0.000000e+00</td>\n",
       "    </tr>\n",
       "    <tr>\n",
       "      <th>75%</th>\n",
       "      <td>1.891960e+06</td>\n",
       "      <td>4.347826e-02</td>\n",
       "      <td>0.000000e+00</td>\n",
       "      <td>0.000000e+00</td>\n",
       "      <td>1.562000e-01</td>\n",
       "      <td>4.805600e-01</td>\n",
       "      <td>1.360000e-01</td>\n",
       "      <td>0.000000e+00</td>\n",
       "      <td>1.000000e+00</td>\n",
       "      <td>3.595000e-01</td>\n",
       "    </tr>\n",
       "    <tr>\n",
       "      <th>max</th>\n",
       "      <td>2.522613e+06</td>\n",
       "      <td>2.064516e+00</td>\n",
       "      <td>1.000000e+00</td>\n",
       "      <td>1.000000e+00</td>\n",
       "      <td>1.000000e+00</td>\n",
       "      <td>1.000000e+00</td>\n",
       "      <td>9.300000e-01</td>\n",
       "      <td>9.350000e-01</td>\n",
       "      <td>1.000000e+00</td>\n",
       "      <td>9.947000e-01</td>\n",
       "    </tr>\n",
       "  </tbody>\n",
       "</table>\n",
       "</div>"
      ],
      "text/plain": [
       "         Unnamed: 0   Affin_score   Happy_emoji     Sad_emoji  \\\n",
       "count  2.522614e+06  2.522614e+06  2.522614e+06  2.522614e+06   \n",
       "mean   1.261306e+06  1.955570e-02  4.083066e-03  1.744222e-04   \n",
       "std    7.282161e+05  9.803767e-02  6.376830e-02  1.320575e-02   \n",
       "min    0.000000e+00 -3.000000e+00  0.000000e+00  0.000000e+00   \n",
       "25%    6.306532e+05  0.000000e+00  0.000000e+00  0.000000e+00   \n",
       "50%    1.261306e+06  0.000000e+00  0.000000e+00  0.000000e+00   \n",
       "75%    1.891960e+06  4.347826e-02  0.000000e+00  0.000000e+00   \n",
       "max    2.522613e+06  2.064516e+00  1.000000e+00  1.000000e+00   \n",
       "\n",
       "       Text_Blob_polarity  Text_Blob_subjectivity     Vader_Pos     Vader_Neg  \\\n",
       "count        2.522614e+06            2.522614e+06  2.522614e+06  2.522614e+06   \n",
       "mean         8.623705e-02            2.460578e-01  7.356833e-02  3.022578e-02   \n",
       "std          2.286711e-01            3.016803e-01  1.146322e-01  7.571063e-02   \n",
       "min         -1.000000e+00            0.000000e+00  0.000000e+00  0.000000e+00   \n",
       "25%          0.000000e+00            0.000000e+00  0.000000e+00  0.000000e+00   \n",
       "50%          0.000000e+00            5.000000e-02  0.000000e+00  0.000000e+00   \n",
       "75%          1.562000e-01            4.805600e-01  1.360000e-01  0.000000e+00   \n",
       "max          1.000000e+00            1.000000e+00  9.300000e-01  9.350000e-01   \n",
       "\n",
       "          Vader_Neu  Vader_Compound  \n",
       "count  2.522614e+06    2.522614e+06  \n",
       "mean   8.962063e-01    1.160319e-01  \n",
       "std    1.323417e-01    3.426967e-01  \n",
       "min    6.500000e-02   -9.972000e-01  \n",
       "25%    8.110000e-01    0.000000e+00  \n",
       "50%    1.000000e+00    0.000000e+00  \n",
       "75%    1.000000e+00    3.595000e-01  \n",
       "max    1.000000e+00    9.947000e-01  "
      ]
     },
     "execution_count": 11,
     "metadata": {},
     "output_type": "execute_result"
    }
   ],
   "source": [
    "dft.describe()"
   ]
  },
  {
   "cell_type": "code",
   "execution_count": 12,
   "metadata": {},
   "outputs": [
    {
     "data": {
      "text/html": [
       "<div>\n",
       "<style scoped>\n",
       "    .dataframe tbody tr th:only-of-type {\n",
       "        vertical-align: middle;\n",
       "    }\n",
       "\n",
       "    .dataframe tbody tr th {\n",
       "        vertical-align: top;\n",
       "    }\n",
       "\n",
       "    .dataframe thead th {\n",
       "        text-align: right;\n",
       "    }\n",
       "</style>\n",
       "<table border=\"1\" class=\"dataframe\">\n",
       "  <thead>\n",
       "    <tr style=\"text-align: right;\">\n",
       "      <th></th>\n",
       "      <th>Unnamed: 0</th>\n",
       "      <th>date</th>\n",
       "      <th>text</th>\n",
       "      <th>url_clean</th>\n",
       "      <th>lower</th>\n",
       "      <th>Affin_score</th>\n",
       "      <th>Happy_emoji</th>\n",
       "      <th>Sad_emoji</th>\n",
       "      <th>Text_Blob_polarity</th>\n",
       "      <th>Text_Blob_subjectivity</th>\n",
       "      <th>Sentiment_NLTKVader</th>\n",
       "      <th>Vader_Pos</th>\n",
       "      <th>Vader_Neg</th>\n",
       "      <th>Vader_Neu</th>\n",
       "      <th>Vader_Compound</th>\n",
       "    </tr>\n",
       "  </thead>\n",
       "  <tbody>\n",
       "    <tr>\n",
       "      <th>0</th>\n",
       "      <td>0</td>\n",
       "      <td>10/1/2017 19:59</td>\n",
       "      <td>Ã¢ÂÂ Ã¤Â¾Â¡Ã¦Â Â¼Ã¥Â·Â®Ã¦ÂÂ",
       "Ã¥Â Â±Ã¢ÂÂ Ã¥Â...</td>\n",
       "      <td>Ã¢ÂÂ Ã¤Â¾Â¡Ã¦Â Â¼Ã¥Â·Â®Ã¦ÂÂ",
       "Ã¥Â Â±Ã¢ÂÂ Ã¥Â...</td>\n",
       "      <td>ã¢ââ ã¤â¾â¡ã¦â â¼ã¥â·â®ã¦ââ",
       "ã¥â â±ã¢ââ ã¥â...</td>\n",
       "      <td>0.000000</td>\n",
       "      <td>0</td>\n",
       "      <td>0</td>\n",
       "      <td>0.0000</td>\n",
       "      <td>0.0</td>\n",
       "      <td>[0.0, 0.0, 1.0, 0.0]</td>\n",
       "      <td>0.000</td>\n",
       "      <td>0.000</td>\n",
       "      <td>1.000</td>\n",
       "      <td>0.0000</td>\n",
       "    </tr>\n",
       "    <tr>\n",
       "      <th>1</th>\n",
       "      <td>1</td>\n",
       "      <td>10/1/2017 19:59</td>\n",
       "      <td>Beyond # Bitcoin: The power struggle over trus...</td>\n",
       "      <td>Beyond # Bitcoin: The power struggle over trus...</td>\n",
       "      <td>beyond # bitcoin: the power struggle over trus...</td>\n",
       "      <td>-0.076923</td>\n",
       "      <td>0</td>\n",
       "      <td>0</td>\n",
       "      <td>0.0000</td>\n",
       "      <td>0.0</td>\n",
       "      <td>[0.0, 0.223, 0.777, -0.3182]</td>\n",
       "      <td>0.000</td>\n",
       "      <td>0.223</td>\n",
       "      <td>0.777</td>\n",
       "      <td>-0.3182</td>\n",
       "    </tr>\n",
       "    <tr>\n",
       "      <th>2</th>\n",
       "      <td>2</td>\n",
       "      <td>10/1/2017 19:59</td>\n",
       "      <td>RT bitcoinagile \"The power struggle over trust...</td>\n",
       "      <td>RT bitcoinagile \"The power struggle over trust...</td>\n",
       "      <td>rt bitcoinagile \"the power struggle over trust...</td>\n",
       "      <td>-0.083333</td>\n",
       "      <td>0</td>\n",
       "      <td>0</td>\n",
       "      <td>0.0000</td>\n",
       "      <td>0.0</td>\n",
       "      <td>[0.197, 0.179, 0.623, 0.0601]</td>\n",
       "      <td>0.197</td>\n",
       "      <td>0.179</td>\n",
       "      <td>0.623</td>\n",
       "      <td>0.0601</td>\n",
       "    </tr>\n",
       "    <tr>\n",
       "      <th>3</th>\n",
       "      <td>3</td>\n",
       "      <td>10/1/2017 19:59</td>\n",
       "      <td>The power struggle over trust-based technology...</td>\n",
       "      <td>The power struggle over trust-based technology...</td>\n",
       "      <td>the power struggle over trust-based technology...</td>\n",
       "      <td>-0.100000</td>\n",
       "      <td>0</td>\n",
       "      <td>0</td>\n",
       "      <td>0.0000</td>\n",
       "      <td>0.0</td>\n",
       "      <td>[0.234, 0.212, 0.554, 0.0601]</td>\n",
       "      <td>0.234</td>\n",
       "      <td>0.212</td>\n",
       "      <td>0.554</td>\n",
       "      <td>0.0601</td>\n",
       "    </tr>\n",
       "    <tr>\n",
       "      <th>4</th>\n",
       "      <td>4</td>\n",
       "      <td>10/1/2017 19:58</td>\n",
       "      <td>Extremely bias. The whole # Bitcoin as a novel...</td>\n",
       "      <td>Extremely bias. The whole # Bitcoin as a novel...</td>\n",
       "      <td>extremely bias. the whole # bitcoin as a novel...</td>\n",
       "      <td>0.157895</td>\n",
       "      <td>0</td>\n",
       "      <td>0</td>\n",
       "      <td>0.0375</td>\n",
       "      <td>0.7</td>\n",
       "      <td>[0.072, 0.207, 0.721, -0.3462]</td>\n",
       "      <td>0.072</td>\n",
       "      <td>0.207</td>\n",
       "      <td>0.721</td>\n",
       "      <td>-0.3462</td>\n",
       "    </tr>\n",
       "  </tbody>\n",
       "</table>\n",
       "</div>"
      ],
      "text/plain": [
       "   Unnamed: 0             date  \\\n",
       "0           0  10/1/2017 19:59   \n",
       "1           1  10/1/2017 19:59   \n",
       "2           2  10/1/2017 19:59   \n",
       "3           3  10/1/2017 19:59   \n",
       "4           4  10/1/2017 19:58   \n",
       "\n",
       "                                                text  \\\n",
       "0  Ã¢ÂÂ Ã¤Â¾Â¡Ã¦Â Â¼Ã¥Â·Â®Ã¦ÂÂ\n",
       "Ã¥Â Â±Ã¢ÂÂ Ã¥Â...   \n",
       "1  Beyond # Bitcoin: The power struggle over trus...   \n",
       "2  RT bitcoinagile \"The power struggle over trust...   \n",
       "3  The power struggle over trust-based technology...   \n",
       "4  Extremely bias. The whole # Bitcoin as a novel...   \n",
       "\n",
       "                                           url_clean  \\\n",
       "0  Ã¢ÂÂ Ã¤Â¾Â¡Ã¦Â Â¼Ã¥Â·Â®Ã¦ÂÂ\n",
       "Ã¥Â Â±Ã¢ÂÂ Ã¥Â...   \n",
       "1  Beyond # Bitcoin: The power struggle over trus...   \n",
       "2  RT bitcoinagile \"The power struggle over trust...   \n",
       "3  The power struggle over trust-based technology...   \n",
       "4  Extremely bias. The whole # Bitcoin as a novel...   \n",
       "\n",
       "                                               lower  Affin_score  \\\n",
       "0  ã¢ââ ã¤â¾â¡ã¦â â¼ã¥â·â®ã¦ââ\n",
       "ã¥â â±ã¢ââ ã¥â...     0.000000   \n",
       "1  beyond # bitcoin: the power struggle over trus...    -0.076923   \n",
       "2  rt bitcoinagile \"the power struggle over trust...    -0.083333   \n",
       "3  the power struggle over trust-based technology...    -0.100000   \n",
       "4  extremely bias. the whole # bitcoin as a novel...     0.157895   \n",
       "\n",
       "   Happy_emoji  Sad_emoji  Text_Blob_polarity  Text_Blob_subjectivity  \\\n",
       "0            0          0              0.0000                     0.0   \n",
       "1            0          0              0.0000                     0.0   \n",
       "2            0          0              0.0000                     0.0   \n",
       "3            0          0              0.0000                     0.0   \n",
       "4            0          0              0.0375                     0.7   \n",
       "\n",
       "              Sentiment_NLTKVader  Vader_Pos  Vader_Neg  Vader_Neu  \\\n",
       "0            [0.0, 0.0, 1.0, 0.0]      0.000      0.000      1.000   \n",
       "1    [0.0, 0.223, 0.777, -0.3182]      0.000      0.223      0.777   \n",
       "2   [0.197, 0.179, 0.623, 0.0601]      0.197      0.179      0.623   \n",
       "3   [0.234, 0.212, 0.554, 0.0601]      0.234      0.212      0.554   \n",
       "4  [0.072, 0.207, 0.721, -0.3462]      0.072      0.207      0.721   \n",
       "\n",
       "   Vader_Compound  \n",
       "0          0.0000  \n",
       "1         -0.3182  \n",
       "2          0.0601  \n",
       "3          0.0601  \n",
       "4         -0.3462  "
      ]
     },
     "execution_count": 12,
     "metadata": {},
     "output_type": "execute_result"
    }
   ],
   "source": [
    "dft.head()"
   ]
  },
  {
   "cell_type": "code",
   "execution_count": 20,
   "metadata": {},
   "outputs": [
    {
     "data": {
      "text/plain": [
       "str"
      ]
     },
     "execution_count": 20,
     "metadata": {},
     "output_type": "execute_result"
    }
   ],
   "source": [
    "type(dft.loc[0,\"date\"])"
   ]
  },
  {
   "cell_type": "code",
   "execution_count": 27,
   "metadata": {
    "collapsed": true
   },
   "outputs": [],
   "source": [
    "dft[\"datem\"] = pd.to_datetime(dft[\"date\"])"
   ]
  },
  {
   "cell_type": "code",
   "execution_count": 28,
   "metadata": {},
   "outputs": [
    {
     "data": {
      "text/plain": [
       "pandas._libs.tslib.Timestamp"
      ]
     },
     "execution_count": 28,
     "metadata": {},
     "output_type": "execute_result"
    }
   ],
   "source": [
    "type(dft.loc[0,\"datem\"])"
   ]
  },
  {
   "cell_type": "code",
   "execution_count": 30,
   "metadata": {},
   "outputs": [
    {
     "data": {
      "text/html": [
       "<div>\n",
       "<style scoped>\n",
       "    .dataframe tbody tr th:only-of-type {\n",
       "        vertical-align: middle;\n",
       "    }\n",
       "\n",
       "    .dataframe tbody tr th {\n",
       "        vertical-align: top;\n",
       "    }\n",
       "\n",
       "    .dataframe thead th {\n",
       "        text-align: right;\n",
       "    }\n",
       "</style>\n",
       "<table border=\"1\" class=\"dataframe\">\n",
       "  <thead>\n",
       "    <tr style=\"text-align: right;\">\n",
       "      <th></th>\n",
       "      <th>Unnamed: 0</th>\n",
       "      <th>date</th>\n",
       "      <th>text</th>\n",
       "      <th>url_clean</th>\n",
       "      <th>lower</th>\n",
       "      <th>Affin_score</th>\n",
       "      <th>Happy_emoji</th>\n",
       "      <th>Sad_emoji</th>\n",
       "      <th>Text_Blob_polarity</th>\n",
       "      <th>Text_Blob_subjectivity</th>\n",
       "      <th>Sentiment_NLTKVader</th>\n",
       "      <th>Vader_Pos</th>\n",
       "      <th>Vader_Neg</th>\n",
       "      <th>Vader_Neu</th>\n",
       "      <th>Vader_Compound</th>\n",
       "      <th>datem</th>\n",
       "    </tr>\n",
       "  </thead>\n",
       "  <tbody>\n",
       "    <tr>\n",
       "      <th>0</th>\n",
       "      <td>0</td>\n",
       "      <td>10/1/2017 19:59</td>\n",
       "      <td>Ã¢ÂÂ Ã¤Â¾Â¡Ã¦Â Â¼Ã¥Â·Â®Ã¦ÂÂ",
       "Ã¥Â Â±Ã¢ÂÂ Ã¥Â...</td>\n",
       "      <td>Ã¢ÂÂ Ã¤Â¾Â¡Ã¦Â Â¼Ã¥Â·Â®Ã¦ÂÂ",
       "Ã¥Â Â±Ã¢ÂÂ Ã¥Â...</td>\n",
       "      <td>ã¢ââ ã¤â¾â¡ã¦â â¼ã¥â·â®ã¦ââ",
       "ã¥â â±ã¢ââ ã¥â...</td>\n",
       "      <td>0.000000</td>\n",
       "      <td>0</td>\n",
       "      <td>0</td>\n",
       "      <td>0.0000</td>\n",
       "      <td>0.0</td>\n",
       "      <td>[0.0, 0.0, 1.0, 0.0]</td>\n",
       "      <td>0.000</td>\n",
       "      <td>0.000</td>\n",
       "      <td>1.000</td>\n",
       "      <td>0.0000</td>\n",
       "      <td>2017-10-01 19:59:00</td>\n",
       "    </tr>\n",
       "    <tr>\n",
       "      <th>1</th>\n",
       "      <td>1</td>\n",
       "      <td>10/1/2017 19:59</td>\n",
       "      <td>Beyond # Bitcoin: The power struggle over trus...</td>\n",
       "      <td>Beyond # Bitcoin: The power struggle over trus...</td>\n",
       "      <td>beyond # bitcoin: the power struggle over trus...</td>\n",
       "      <td>-0.076923</td>\n",
       "      <td>0</td>\n",
       "      <td>0</td>\n",
       "      <td>0.0000</td>\n",
       "      <td>0.0</td>\n",
       "      <td>[0.0, 0.223, 0.777, -0.3182]</td>\n",
       "      <td>0.000</td>\n",
       "      <td>0.223</td>\n",
       "      <td>0.777</td>\n",
       "      <td>-0.3182</td>\n",
       "      <td>2017-10-01 19:59:00</td>\n",
       "    </tr>\n",
       "    <tr>\n",
       "      <th>2</th>\n",
       "      <td>2</td>\n",
       "      <td>10/1/2017 19:59</td>\n",
       "      <td>RT bitcoinagile \"The power struggle over trust...</td>\n",
       "      <td>RT bitcoinagile \"The power struggle over trust...</td>\n",
       "      <td>rt bitcoinagile \"the power struggle over trust...</td>\n",
       "      <td>-0.083333</td>\n",
       "      <td>0</td>\n",
       "      <td>0</td>\n",
       "      <td>0.0000</td>\n",
       "      <td>0.0</td>\n",
       "      <td>[0.197, 0.179, 0.623, 0.0601]</td>\n",
       "      <td>0.197</td>\n",
       "      <td>0.179</td>\n",
       "      <td>0.623</td>\n",
       "      <td>0.0601</td>\n",
       "      <td>2017-10-01 19:59:00</td>\n",
       "    </tr>\n",
       "    <tr>\n",
       "      <th>3</th>\n",
       "      <td>3</td>\n",
       "      <td>10/1/2017 19:59</td>\n",
       "      <td>The power struggle over trust-based technology...</td>\n",
       "      <td>The power struggle over trust-based technology...</td>\n",
       "      <td>the power struggle over trust-based technology...</td>\n",
       "      <td>-0.100000</td>\n",
       "      <td>0</td>\n",
       "      <td>0</td>\n",
       "      <td>0.0000</td>\n",
       "      <td>0.0</td>\n",
       "      <td>[0.234, 0.212, 0.554, 0.0601]</td>\n",
       "      <td>0.234</td>\n",
       "      <td>0.212</td>\n",
       "      <td>0.554</td>\n",
       "      <td>0.0601</td>\n",
       "      <td>2017-10-01 19:59:00</td>\n",
       "    </tr>\n",
       "    <tr>\n",
       "      <th>4</th>\n",
       "      <td>4</td>\n",
       "      <td>10/1/2017 19:58</td>\n",
       "      <td>Extremely bias. The whole # Bitcoin as a novel...</td>\n",
       "      <td>Extremely bias. The whole # Bitcoin as a novel...</td>\n",
       "      <td>extremely bias. the whole # bitcoin as a novel...</td>\n",
       "      <td>0.157895</td>\n",
       "      <td>0</td>\n",
       "      <td>0</td>\n",
       "      <td>0.0375</td>\n",
       "      <td>0.7</td>\n",
       "      <td>[0.072, 0.207, 0.721, -0.3462]</td>\n",
       "      <td>0.072</td>\n",
       "      <td>0.207</td>\n",
       "      <td>0.721</td>\n",
       "      <td>-0.3462</td>\n",
       "      <td>2017-10-01 19:58:00</td>\n",
       "    </tr>\n",
       "  </tbody>\n",
       "</table>\n",
       "</div>"
      ],
      "text/plain": [
       "   Unnamed: 0             date  \\\n",
       "0           0  10/1/2017 19:59   \n",
       "1           1  10/1/2017 19:59   \n",
       "2           2  10/1/2017 19:59   \n",
       "3           3  10/1/2017 19:59   \n",
       "4           4  10/1/2017 19:58   \n",
       "\n",
       "                                                text  \\\n",
       "0  Ã¢ÂÂ Ã¤Â¾Â¡Ã¦Â Â¼Ã¥Â·Â®Ã¦ÂÂ\n",
       "Ã¥Â Â±Ã¢ÂÂ Ã¥Â...   \n",
       "1  Beyond # Bitcoin: The power struggle over trus...   \n",
       "2  RT bitcoinagile \"The power struggle over trust...   \n",
       "3  The power struggle over trust-based technology...   \n",
       "4  Extremely bias. The whole # Bitcoin as a novel...   \n",
       "\n",
       "                                           url_clean  \\\n",
       "0  Ã¢ÂÂ Ã¤Â¾Â¡Ã¦Â Â¼Ã¥Â·Â®Ã¦ÂÂ\n",
       "Ã¥Â Â±Ã¢ÂÂ Ã¥Â...   \n",
       "1  Beyond # Bitcoin: The power struggle over trus...   \n",
       "2  RT bitcoinagile \"The power struggle over trust...   \n",
       "3  The power struggle over trust-based technology...   \n",
       "4  Extremely bias. The whole # Bitcoin as a novel...   \n",
       "\n",
       "                                               lower  Affin_score  \\\n",
       "0  ã¢ââ ã¤â¾â¡ã¦â â¼ã¥â·â®ã¦ââ\n",
       "ã¥â â±ã¢ââ ã¥â...     0.000000   \n",
       "1  beyond # bitcoin: the power struggle over trus...    -0.076923   \n",
       "2  rt bitcoinagile \"the power struggle over trust...    -0.083333   \n",
       "3  the power struggle over trust-based technology...    -0.100000   \n",
       "4  extremely bias. the whole # bitcoin as a novel...     0.157895   \n",
       "\n",
       "   Happy_emoji  Sad_emoji  Text_Blob_polarity  Text_Blob_subjectivity  \\\n",
       "0            0          0              0.0000                     0.0   \n",
       "1            0          0              0.0000                     0.0   \n",
       "2            0          0              0.0000                     0.0   \n",
       "3            0          0              0.0000                     0.0   \n",
       "4            0          0              0.0375                     0.7   \n",
       "\n",
       "              Sentiment_NLTKVader  Vader_Pos  Vader_Neg  Vader_Neu  \\\n",
       "0            [0.0, 0.0, 1.0, 0.0]      0.000      0.000      1.000   \n",
       "1    [0.0, 0.223, 0.777, -0.3182]      0.000      0.223      0.777   \n",
       "2   [0.197, 0.179, 0.623, 0.0601]      0.197      0.179      0.623   \n",
       "3   [0.234, 0.212, 0.554, 0.0601]      0.234      0.212      0.554   \n",
       "4  [0.072, 0.207, 0.721, -0.3462]      0.072      0.207      0.721   \n",
       "\n",
       "   Vader_Compound               datem  \n",
       "0          0.0000 2017-10-01 19:59:00  \n",
       "1         -0.3182 2017-10-01 19:59:00  \n",
       "2          0.0601 2017-10-01 19:59:00  \n",
       "3          0.0601 2017-10-01 19:59:00  \n",
       "4         -0.3462 2017-10-01 19:58:00  "
      ]
     },
     "execution_count": 30,
     "metadata": {},
     "output_type": "execute_result"
    }
   ],
   "source": [
    "dft.head()"
   ]
  },
  {
   "cell_type": "code",
   "execution_count": 44,
   "metadata": {
    "collapsed": true
   },
   "outputs": [],
   "source": [
    "#dft = dft.drop([\"Unnamed: 0\"],axis =1)\n",
    "dft = dft.drop([\"Sentiment_NLTKVader\",\"text\", \"url_clean\", \"lower\" ,\"date\"],axis =1)\n"
   ]
  },
  {
   "cell_type": "code",
   "execution_count": null,
   "metadata": {
    "collapsed": true
   },
   "outputs": [],
   "source": [
    "#dft = dft.drop(dft.index[0]) as it is in some other language"
   ]
  },
  {
   "cell_type": "code",
   "execution_count": null,
   "metadata": {
    "collapsed": true
   },
   "outputs": [],
   "source": []
  },
  {
   "cell_type": "code",
   "execution_count": 46,
   "metadata": {},
   "outputs": [
    {
     "data": {
      "text/html": [
       "<div>\n",
       "<style scoped>\n",
       "    .dataframe tbody tr th:only-of-type {\n",
       "        vertical-align: middle;\n",
       "    }\n",
       "\n",
       "    .dataframe tbody tr th {\n",
       "        vertical-align: top;\n",
       "    }\n",
       "\n",
       "    .dataframe thead th {\n",
       "        text-align: right;\n",
       "    }\n",
       "</style>\n",
       "<table border=\"1\" class=\"dataframe\">\n",
       "  <thead>\n",
       "    <tr style=\"text-align: right;\">\n",
       "      <th></th>\n",
       "      <th>Affin_score</th>\n",
       "      <th>Happy_emoji</th>\n",
       "      <th>Sad_emoji</th>\n",
       "      <th>Text_Blob_polarity</th>\n",
       "      <th>Text_Blob_subjectivity</th>\n",
       "      <th>Vader_Pos</th>\n",
       "      <th>Vader_Neg</th>\n",
       "      <th>Vader_Neu</th>\n",
       "      <th>Vader_Compound</th>\n",
       "      <th>datem</th>\n",
       "    </tr>\n",
       "  </thead>\n",
       "  <tbody>\n",
       "    <tr>\n",
       "      <th>1</th>\n",
       "      <td>-0.076923</td>\n",
       "      <td>0</td>\n",
       "      <td>0</td>\n",
       "      <td>0.0000</td>\n",
       "      <td>0.0</td>\n",
       "      <td>0.000</td>\n",
       "      <td>0.223</td>\n",
       "      <td>0.777</td>\n",
       "      <td>-0.3182</td>\n",
       "      <td>2017-10-01 19:59:00</td>\n",
       "    </tr>\n",
       "    <tr>\n",
       "      <th>2</th>\n",
       "      <td>-0.083333</td>\n",
       "      <td>0</td>\n",
       "      <td>0</td>\n",
       "      <td>0.0000</td>\n",
       "      <td>0.0</td>\n",
       "      <td>0.197</td>\n",
       "      <td>0.179</td>\n",
       "      <td>0.623</td>\n",
       "      <td>0.0601</td>\n",
       "      <td>2017-10-01 19:59:00</td>\n",
       "    </tr>\n",
       "    <tr>\n",
       "      <th>3</th>\n",
       "      <td>-0.100000</td>\n",
       "      <td>0</td>\n",
       "      <td>0</td>\n",
       "      <td>0.0000</td>\n",
       "      <td>0.0</td>\n",
       "      <td>0.234</td>\n",
       "      <td>0.212</td>\n",
       "      <td>0.554</td>\n",
       "      <td>0.0601</td>\n",
       "      <td>2017-10-01 19:59:00</td>\n",
       "    </tr>\n",
       "    <tr>\n",
       "      <th>4</th>\n",
       "      <td>0.157895</td>\n",
       "      <td>0</td>\n",
       "      <td>0</td>\n",
       "      <td>0.0375</td>\n",
       "      <td>0.7</td>\n",
       "      <td>0.072</td>\n",
       "      <td>0.207</td>\n",
       "      <td>0.721</td>\n",
       "      <td>-0.3462</td>\n",
       "      <td>2017-10-01 19:58:00</td>\n",
       "    </tr>\n",
       "    <tr>\n",
       "      <th>5</th>\n",
       "      <td>0.000000</td>\n",
       "      <td>0</td>\n",
       "      <td>0</td>\n",
       "      <td>0.0000</td>\n",
       "      <td>0.0</td>\n",
       "      <td>0.000</td>\n",
       "      <td>0.000</td>\n",
       "      <td>1.000</td>\n",
       "      <td>0.0000</td>\n",
       "      <td>2017-10-01 19:58:00</td>\n",
       "    </tr>\n",
       "  </tbody>\n",
       "</table>\n",
       "</div>"
      ],
      "text/plain": [
       "   Affin_score  Happy_emoji  Sad_emoji  Text_Blob_polarity  \\\n",
       "1    -0.076923            0          0              0.0000   \n",
       "2    -0.083333            0          0              0.0000   \n",
       "3    -0.100000            0          0              0.0000   \n",
       "4     0.157895            0          0              0.0375   \n",
       "5     0.000000            0          0              0.0000   \n",
       "\n",
       "   Text_Blob_subjectivity  Vader_Pos  Vader_Neg  Vader_Neu  Vader_Compound  \\\n",
       "1                     0.0      0.000      0.223      0.777         -0.3182   \n",
       "2                     0.0      0.197      0.179      0.623          0.0601   \n",
       "3                     0.0      0.234      0.212      0.554          0.0601   \n",
       "4                     0.7      0.072      0.207      0.721         -0.3462   \n",
       "5                     0.0      0.000      0.000      1.000          0.0000   \n",
       "\n",
       "                datem  \n",
       "1 2017-10-01 19:59:00  \n",
       "2 2017-10-01 19:59:00  \n",
       "3 2017-10-01 19:59:00  \n",
       "4 2017-10-01 19:58:00  \n",
       "5 2017-10-01 19:58:00  "
      ]
     },
     "execution_count": 46,
     "metadata": {},
     "output_type": "execute_result"
    }
   ],
   "source": [
    "dft.head()"
   ]
  },
  {
   "cell_type": "code",
   "execution_count": 47,
   "metadata": {
    "collapsed": true
   },
   "outputs": [],
   "source": [
    "dftt = dft"
   ]
  },
  {
   "cell_type": "code",
   "execution_count": 49,
   "metadata": {},
   "outputs": [
    {
     "data": {
      "text/html": [
       "<div>\n",
       "<style scoped>\n",
       "    .dataframe tbody tr th:only-of-type {\n",
       "        vertical-align: middle;\n",
       "    }\n",
       "\n",
       "    .dataframe tbody tr th {\n",
       "        vertical-align: top;\n",
       "    }\n",
       "\n",
       "    .dataframe thead th {\n",
       "        text-align: right;\n",
       "    }\n",
       "</style>\n",
       "<table border=\"1\" class=\"dataframe\">\n",
       "  <thead>\n",
       "    <tr style=\"text-align: right;\">\n",
       "      <th></th>\n",
       "      <th>Affin_score</th>\n",
       "      <th>Happy_emoji</th>\n",
       "      <th>Sad_emoji</th>\n",
       "      <th>Text_Blob_polarity</th>\n",
       "      <th>Text_Blob_subjectivity</th>\n",
       "      <th>Vader_Pos</th>\n",
       "      <th>Vader_Neg</th>\n",
       "      <th>Vader_Neu</th>\n",
       "      <th>Vader_Compound</th>\n",
       "      <th>datem</th>\n",
       "    </tr>\n",
       "  </thead>\n",
       "  <tbody>\n",
       "    <tr>\n",
       "      <th>1</th>\n",
       "      <td>-0.076923</td>\n",
       "      <td>0</td>\n",
       "      <td>0</td>\n",
       "      <td>0.0000</td>\n",
       "      <td>0.0</td>\n",
       "      <td>0.000</td>\n",
       "      <td>0.223</td>\n",
       "      <td>0.777</td>\n",
       "      <td>-0.3182</td>\n",
       "      <td>2017-10-01 19:59:00</td>\n",
       "    </tr>\n",
       "    <tr>\n",
       "      <th>2</th>\n",
       "      <td>-0.083333</td>\n",
       "      <td>0</td>\n",
       "      <td>0</td>\n",
       "      <td>0.0000</td>\n",
       "      <td>0.0</td>\n",
       "      <td>0.197</td>\n",
       "      <td>0.179</td>\n",
       "      <td>0.623</td>\n",
       "      <td>0.0601</td>\n",
       "      <td>2017-10-01 19:59:00</td>\n",
       "    </tr>\n",
       "    <tr>\n",
       "      <th>3</th>\n",
       "      <td>-0.100000</td>\n",
       "      <td>0</td>\n",
       "      <td>0</td>\n",
       "      <td>0.0000</td>\n",
       "      <td>0.0</td>\n",
       "      <td>0.234</td>\n",
       "      <td>0.212</td>\n",
       "      <td>0.554</td>\n",
       "      <td>0.0601</td>\n",
       "      <td>2017-10-01 19:59:00</td>\n",
       "    </tr>\n",
       "    <tr>\n",
       "      <th>4</th>\n",
       "      <td>0.157895</td>\n",
       "      <td>0</td>\n",
       "      <td>0</td>\n",
       "      <td>0.0375</td>\n",
       "      <td>0.7</td>\n",
       "      <td>0.072</td>\n",
       "      <td>0.207</td>\n",
       "      <td>0.721</td>\n",
       "      <td>-0.3462</td>\n",
       "      <td>2017-10-01 19:58:00</td>\n",
       "    </tr>\n",
       "    <tr>\n",
       "      <th>5</th>\n",
       "      <td>0.000000</td>\n",
       "      <td>0</td>\n",
       "      <td>0</td>\n",
       "      <td>0.0000</td>\n",
       "      <td>0.0</td>\n",
       "      <td>0.000</td>\n",
       "      <td>0.000</td>\n",
       "      <td>1.000</td>\n",
       "      <td>0.0000</td>\n",
       "      <td>2017-10-01 19:58:00</td>\n",
       "    </tr>\n",
       "  </tbody>\n",
       "</table>\n",
       "</div>"
      ],
      "text/plain": [
       "   Affin_score  Happy_emoji  Sad_emoji  Text_Blob_polarity  \\\n",
       "1    -0.076923            0          0              0.0000   \n",
       "2    -0.083333            0          0              0.0000   \n",
       "3    -0.100000            0          0              0.0000   \n",
       "4     0.157895            0          0              0.0375   \n",
       "5     0.000000            0          0              0.0000   \n",
       "\n",
       "   Text_Blob_subjectivity  Vader_Pos  Vader_Neg  Vader_Neu  Vader_Compound  \\\n",
       "1                     0.0      0.000      0.223      0.777         -0.3182   \n",
       "2                     0.0      0.197      0.179      0.623          0.0601   \n",
       "3                     0.0      0.234      0.212      0.554          0.0601   \n",
       "4                     0.7      0.072      0.207      0.721         -0.3462   \n",
       "5                     0.0      0.000      0.000      1.000          0.0000   \n",
       "\n",
       "                datem  \n",
       "1 2017-10-01 19:59:00  \n",
       "2 2017-10-01 19:59:00  \n",
       "3 2017-10-01 19:59:00  \n",
       "4 2017-10-01 19:58:00  \n",
       "5 2017-10-01 19:58:00  "
      ]
     },
     "execution_count": 49,
     "metadata": {},
     "output_type": "execute_result"
    }
   ],
   "source": [
    "dftt.head()"
   ]
  },
  {
   "cell_type": "code",
   "execution_count": 50,
   "metadata": {
    "collapsed": true
   },
   "outputs": [],
   "source": [
    "dftt.set_index(dftt[\"datem\"],inplace=True)"
   ]
  },
  {
   "cell_type": "code",
   "execution_count": 51,
   "metadata": {},
   "outputs": [
    {
     "data": {
      "text/html": [
       "<div>\n",
       "<style scoped>\n",
       "    .dataframe tbody tr th:only-of-type {\n",
       "        vertical-align: middle;\n",
       "    }\n",
       "\n",
       "    .dataframe tbody tr th {\n",
       "        vertical-align: top;\n",
       "    }\n",
       "\n",
       "    .dataframe thead th {\n",
       "        text-align: right;\n",
       "    }\n",
       "</style>\n",
       "<table border=\"1\" class=\"dataframe\">\n",
       "  <thead>\n",
       "    <tr style=\"text-align: right;\">\n",
       "      <th></th>\n",
       "      <th>Affin_score</th>\n",
       "      <th>Happy_emoji</th>\n",
       "      <th>Sad_emoji</th>\n",
       "      <th>Text_Blob_polarity</th>\n",
       "      <th>Text_Blob_subjectivity</th>\n",
       "      <th>Vader_Pos</th>\n",
       "      <th>Vader_Neg</th>\n",
       "      <th>Vader_Neu</th>\n",
       "      <th>Vader_Compound</th>\n",
       "      <th>datem</th>\n",
       "    </tr>\n",
       "    <tr>\n",
       "      <th>datem</th>\n",
       "      <th></th>\n",
       "      <th></th>\n",
       "      <th></th>\n",
       "      <th></th>\n",
       "      <th></th>\n",
       "      <th></th>\n",
       "      <th></th>\n",
       "      <th></th>\n",
       "      <th></th>\n",
       "      <th></th>\n",
       "    </tr>\n",
       "  </thead>\n",
       "  <tbody>\n",
       "    <tr>\n",
       "      <th>2017-10-01 19:59:00</th>\n",
       "      <td>-0.076923</td>\n",
       "      <td>0</td>\n",
       "      <td>0</td>\n",
       "      <td>0.0000</td>\n",
       "      <td>0.0</td>\n",
       "      <td>0.000</td>\n",
       "      <td>0.223</td>\n",
       "      <td>0.777</td>\n",
       "      <td>-0.3182</td>\n",
       "      <td>2017-10-01 19:59:00</td>\n",
       "    </tr>\n",
       "    <tr>\n",
       "      <th>2017-10-01 19:59:00</th>\n",
       "      <td>-0.083333</td>\n",
       "      <td>0</td>\n",
       "      <td>0</td>\n",
       "      <td>0.0000</td>\n",
       "      <td>0.0</td>\n",
       "      <td>0.197</td>\n",
       "      <td>0.179</td>\n",
       "      <td>0.623</td>\n",
       "      <td>0.0601</td>\n",
       "      <td>2017-10-01 19:59:00</td>\n",
       "    </tr>\n",
       "    <tr>\n",
       "      <th>2017-10-01 19:59:00</th>\n",
       "      <td>-0.100000</td>\n",
       "      <td>0</td>\n",
       "      <td>0</td>\n",
       "      <td>0.0000</td>\n",
       "      <td>0.0</td>\n",
       "      <td>0.234</td>\n",
       "      <td>0.212</td>\n",
       "      <td>0.554</td>\n",
       "      <td>0.0601</td>\n",
       "      <td>2017-10-01 19:59:00</td>\n",
       "    </tr>\n",
       "    <tr>\n",
       "      <th>2017-10-01 19:58:00</th>\n",
       "      <td>0.157895</td>\n",
       "      <td>0</td>\n",
       "      <td>0</td>\n",
       "      <td>0.0375</td>\n",
       "      <td>0.7</td>\n",
       "      <td>0.072</td>\n",
       "      <td>0.207</td>\n",
       "      <td>0.721</td>\n",
       "      <td>-0.3462</td>\n",
       "      <td>2017-10-01 19:58:00</td>\n",
       "    </tr>\n",
       "    <tr>\n",
       "      <th>2017-10-01 19:58:00</th>\n",
       "      <td>0.000000</td>\n",
       "      <td>0</td>\n",
       "      <td>0</td>\n",
       "      <td>0.0000</td>\n",
       "      <td>0.0</td>\n",
       "      <td>0.000</td>\n",
       "      <td>0.000</td>\n",
       "      <td>1.000</td>\n",
       "      <td>0.0000</td>\n",
       "      <td>2017-10-01 19:58:00</td>\n",
       "    </tr>\n",
       "  </tbody>\n",
       "</table>\n",
       "</div>"
      ],
      "text/plain": [
       "                     Affin_score  Happy_emoji  Sad_emoji  Text_Blob_polarity  \\\n",
       "datem                                                                          \n",
       "2017-10-01 19:59:00    -0.076923            0          0              0.0000   \n",
       "2017-10-01 19:59:00    -0.083333            0          0              0.0000   \n",
       "2017-10-01 19:59:00    -0.100000            0          0              0.0000   \n",
       "2017-10-01 19:58:00     0.157895            0          0              0.0375   \n",
       "2017-10-01 19:58:00     0.000000            0          0              0.0000   \n",
       "\n",
       "                     Text_Blob_subjectivity  Vader_Pos  Vader_Neg  Vader_Neu  \\\n",
       "datem                                                                          \n",
       "2017-10-01 19:59:00                     0.0      0.000      0.223      0.777   \n",
       "2017-10-01 19:59:00                     0.0      0.197      0.179      0.623   \n",
       "2017-10-01 19:59:00                     0.0      0.234      0.212      0.554   \n",
       "2017-10-01 19:58:00                     0.7      0.072      0.207      0.721   \n",
       "2017-10-01 19:58:00                     0.0      0.000      0.000      1.000   \n",
       "\n",
       "                     Vader_Compound               datem  \n",
       "datem                                                    \n",
       "2017-10-01 19:59:00         -0.3182 2017-10-01 19:59:00  \n",
       "2017-10-01 19:59:00          0.0601 2017-10-01 19:59:00  \n",
       "2017-10-01 19:59:00          0.0601 2017-10-01 19:59:00  \n",
       "2017-10-01 19:58:00         -0.3462 2017-10-01 19:58:00  \n",
       "2017-10-01 19:58:00          0.0000 2017-10-01 19:58:00  "
      ]
     },
     "execution_count": 51,
     "metadata": {},
     "output_type": "execute_result"
    }
   ],
   "source": [
    "dftt.head()"
   ]
  },
  {
   "cell_type": "code",
   "execution_count": 53,
   "metadata": {},
   "outputs": [
    {
     "data": {
      "text/plain": [
       "(2522613, 10)"
      ]
     },
     "execution_count": 53,
     "metadata": {},
     "output_type": "execute_result"
    }
   ],
   "source": [
    "dftt.shape"
   ]
  },
  {
   "cell_type": "code",
   "execution_count": 54,
   "metadata": {
    "collapsed": true
   },
   "outputs": [],
   "source": [
    "dftt = dftt.drop([\"datem\"],axis =1)"
   ]
  },
  {
   "cell_type": "code",
   "execution_count": 60,
   "metadata": {},
   "outputs": [
    {
     "data": {
      "text/html": [
       "<div>\n",
       "<style scoped>\n",
       "    .dataframe tbody tr th:only-of-type {\n",
       "        vertical-align: middle;\n",
       "    }\n",
       "\n",
       "    .dataframe tbody tr th {\n",
       "        vertical-align: top;\n",
       "    }\n",
       "\n",
       "    .dataframe thead th {\n",
       "        text-align: right;\n",
       "    }\n",
       "</style>\n",
       "<table border=\"1\" class=\"dataframe\">\n",
       "  <thead>\n",
       "    <tr style=\"text-align: right;\">\n",
       "      <th></th>\n",
       "      <th>Affin_score</th>\n",
       "      <th>Happy_emoji</th>\n",
       "      <th>Sad_emoji</th>\n",
       "      <th>Text_Blob_polarity</th>\n",
       "      <th>Text_Blob_subjectivity</th>\n",
       "      <th>Vader_Pos</th>\n",
       "      <th>Vader_Neg</th>\n",
       "      <th>Vader_Neu</th>\n",
       "      <th>Vader_Compound</th>\n",
       "    </tr>\n",
       "    <tr>\n",
       "      <th>datem</th>\n",
       "      <th></th>\n",
       "      <th></th>\n",
       "      <th></th>\n",
       "      <th></th>\n",
       "      <th></th>\n",
       "      <th></th>\n",
       "      <th></th>\n",
       "      <th></th>\n",
       "      <th></th>\n",
       "    </tr>\n",
       "  </thead>\n",
       "  <tbody>\n",
       "    <tr>\n",
       "      <th>2017-10-01 19:59:00</th>\n",
       "      <td>-0.076923</td>\n",
       "      <td>0</td>\n",
       "      <td>0</td>\n",
       "      <td>0.0000</td>\n",
       "      <td>0.0</td>\n",
       "      <td>0.000</td>\n",
       "      <td>0.223</td>\n",
       "      <td>0.777</td>\n",
       "      <td>-0.3182</td>\n",
       "    </tr>\n",
       "    <tr>\n",
       "      <th>2017-10-01 19:59:00</th>\n",
       "      <td>-0.083333</td>\n",
       "      <td>0</td>\n",
       "      <td>0</td>\n",
       "      <td>0.0000</td>\n",
       "      <td>0.0</td>\n",
       "      <td>0.197</td>\n",
       "      <td>0.179</td>\n",
       "      <td>0.623</td>\n",
       "      <td>0.0601</td>\n",
       "    </tr>\n",
       "    <tr>\n",
       "      <th>2017-10-01 19:59:00</th>\n",
       "      <td>-0.100000</td>\n",
       "      <td>0</td>\n",
       "      <td>0</td>\n",
       "      <td>0.0000</td>\n",
       "      <td>0.0</td>\n",
       "      <td>0.234</td>\n",
       "      <td>0.212</td>\n",
       "      <td>0.554</td>\n",
       "      <td>0.0601</td>\n",
       "    </tr>\n",
       "    <tr>\n",
       "      <th>2017-10-01 19:58:00</th>\n",
       "      <td>0.157895</td>\n",
       "      <td>0</td>\n",
       "      <td>0</td>\n",
       "      <td>0.0375</td>\n",
       "      <td>0.7</td>\n",
       "      <td>0.072</td>\n",
       "      <td>0.207</td>\n",
       "      <td>0.721</td>\n",
       "      <td>-0.3462</td>\n",
       "    </tr>\n",
       "    <tr>\n",
       "      <th>2017-10-01 19:58:00</th>\n",
       "      <td>0.000000</td>\n",
       "      <td>0</td>\n",
       "      <td>0</td>\n",
       "      <td>0.0000</td>\n",
       "      <td>0.0</td>\n",
       "      <td>0.000</td>\n",
       "      <td>0.000</td>\n",
       "      <td>1.000</td>\n",
       "      <td>0.0000</td>\n",
       "    </tr>\n",
       "  </tbody>\n",
       "</table>\n",
       "</div>"
      ],
      "text/plain": [
       "                     Affin_score  Happy_emoji  Sad_emoji  Text_Blob_polarity  \\\n",
       "datem                                                                          \n",
       "2017-10-01 19:59:00    -0.076923            0          0              0.0000   \n",
       "2017-10-01 19:59:00    -0.083333            0          0              0.0000   \n",
       "2017-10-01 19:59:00    -0.100000            0          0              0.0000   \n",
       "2017-10-01 19:58:00     0.157895            0          0              0.0375   \n",
       "2017-10-01 19:58:00     0.000000            0          0              0.0000   \n",
       "\n",
       "                     Text_Blob_subjectivity  Vader_Pos  Vader_Neg  Vader_Neu  \\\n",
       "datem                                                                          \n",
       "2017-10-01 19:59:00                     0.0      0.000      0.223      0.777   \n",
       "2017-10-01 19:59:00                     0.0      0.197      0.179      0.623   \n",
       "2017-10-01 19:59:00                     0.0      0.234      0.212      0.554   \n",
       "2017-10-01 19:58:00                     0.7      0.072      0.207      0.721   \n",
       "2017-10-01 19:58:00                     0.0      0.000      0.000      1.000   \n",
       "\n",
       "                     Vader_Compound  \n",
       "datem                                \n",
       "2017-10-01 19:59:00         -0.3182  \n",
       "2017-10-01 19:59:00          0.0601  \n",
       "2017-10-01 19:59:00          0.0601  \n",
       "2017-10-01 19:58:00         -0.3462  \n",
       "2017-10-01 19:58:00          0.0000  "
      ]
     },
     "execution_count": 60,
     "metadata": {},
     "output_type": "execute_result"
    }
   ],
   "source": [
    "dftt.head()"
   ]
  },
  {
   "cell_type": "code",
   "execution_count": null,
   "metadata": {
    "collapsed": true
   },
   "outputs": [],
   "source": []
  },
  {
   "cell_type": "code",
   "execution_count": 61,
   "metadata": {
    "collapsed": true
   },
   "outputs": [],
   "source": [
    "dftt2 = dftt.resample('D').mean()"
   ]
  },
  {
   "cell_type": "code",
   "execution_count": 63,
   "metadata": {},
   "outputs": [
    {
     "data": {
      "text/plain": [
       "(156, 9)"
      ]
     },
     "execution_count": 63,
     "metadata": {},
     "output_type": "execute_result"
    }
   ],
   "source": [
    "dftt2.shape"
   ]
  },
  {
   "cell_type": "code",
   "execution_count": 64,
   "metadata": {},
   "outputs": [
    {
     "data": {
      "text/html": [
       "<div>\n",
       "<style scoped>\n",
       "    .dataframe tbody tr th:only-of-type {\n",
       "        vertical-align: middle;\n",
       "    }\n",
       "\n",
       "    .dataframe tbody tr th {\n",
       "        vertical-align: top;\n",
       "    }\n",
       "\n",
       "    .dataframe thead th {\n",
       "        text-align: right;\n",
       "    }\n",
       "</style>\n",
       "<table border=\"1\" class=\"dataframe\">\n",
       "  <thead>\n",
       "    <tr style=\"text-align: right;\">\n",
       "      <th></th>\n",
       "      <th>Affin_score</th>\n",
       "      <th>Happy_emoji</th>\n",
       "      <th>Sad_emoji</th>\n",
       "      <th>Text_Blob_polarity</th>\n",
       "      <th>Text_Blob_subjectivity</th>\n",
       "      <th>Vader_Pos</th>\n",
       "      <th>Vader_Neg</th>\n",
       "      <th>Vader_Neu</th>\n",
       "      <th>Vader_Compound</th>\n",
       "    </tr>\n",
       "    <tr>\n",
       "      <th>datem</th>\n",
       "      <th></th>\n",
       "      <th></th>\n",
       "      <th></th>\n",
       "      <th></th>\n",
       "      <th></th>\n",
       "      <th></th>\n",
       "      <th></th>\n",
       "      <th></th>\n",
       "      <th></th>\n",
       "    </tr>\n",
       "  </thead>\n",
       "  <tbody>\n",
       "    <tr>\n",
       "      <th>2017-10-01</th>\n",
       "      <td>0.006927</td>\n",
       "      <td>0.002371</td>\n",
       "      <td>0.000000</td>\n",
       "      <td>0.071532</td>\n",
       "      <td>0.234513</td>\n",
       "      <td>0.073457</td>\n",
       "      <td>0.034301</td>\n",
       "      <td>0.892244</td>\n",
       "      <td>0.086177</td>\n",
       "    </tr>\n",
       "    <tr>\n",
       "      <th>2017-10-02</th>\n",
       "      <td>0.032248</td>\n",
       "      <td>0.002295</td>\n",
       "      <td>0.000000</td>\n",
       "      <td>0.080086</td>\n",
       "      <td>0.215634</td>\n",
       "      <td>0.090028</td>\n",
       "      <td>0.029932</td>\n",
       "      <td>0.880039</td>\n",
       "      <td>0.129153</td>\n",
       "    </tr>\n",
       "    <tr>\n",
       "      <th>2017-10-03</th>\n",
       "      <td>0.028876</td>\n",
       "      <td>0.002018</td>\n",
       "      <td>0.000050</td>\n",
       "      <td>0.073291</td>\n",
       "      <td>0.209184</td>\n",
       "      <td>0.082582</td>\n",
       "      <td>0.027604</td>\n",
       "      <td>0.889813</td>\n",
       "      <td>0.121704</td>\n",
       "    </tr>\n",
       "    <tr>\n",
       "      <th>2017-10-04</th>\n",
       "      <td>0.040365</td>\n",
       "      <td>0.002065</td>\n",
       "      <td>0.000212</td>\n",
       "      <td>0.088978</td>\n",
       "      <td>0.230791</td>\n",
       "      <td>0.102792</td>\n",
       "      <td>0.033421</td>\n",
       "      <td>0.863780</td>\n",
       "      <td>0.154778</td>\n",
       "    </tr>\n",
       "    <tr>\n",
       "      <th>2017-10-05</th>\n",
       "      <td>0.023713</td>\n",
       "      <td>0.004249</td>\n",
       "      <td>0.000073</td>\n",
       "      <td>0.077831</td>\n",
       "      <td>0.233299</td>\n",
       "      <td>0.085069</td>\n",
       "      <td>0.036757</td>\n",
       "      <td>0.878171</td>\n",
       "      <td>0.110130</td>\n",
       "    </tr>\n",
       "  </tbody>\n",
       "</table>\n",
       "</div>"
      ],
      "text/plain": [
       "            Affin_score  Happy_emoji  Sad_emoji  Text_Blob_polarity  \\\n",
       "datem                                                                 \n",
       "2017-10-01     0.006927     0.002371   0.000000            0.071532   \n",
       "2017-10-02     0.032248     0.002295   0.000000            0.080086   \n",
       "2017-10-03     0.028876     0.002018   0.000050            0.073291   \n",
       "2017-10-04     0.040365     0.002065   0.000212            0.088978   \n",
       "2017-10-05     0.023713     0.004249   0.000073            0.077831   \n",
       "\n",
       "            Text_Blob_subjectivity  Vader_Pos  Vader_Neg  Vader_Neu  \\\n",
       "datem                                                                 \n",
       "2017-10-01                0.234513   0.073457   0.034301   0.892244   \n",
       "2017-10-02                0.215634   0.090028   0.029932   0.880039   \n",
       "2017-10-03                0.209184   0.082582   0.027604   0.889813   \n",
       "2017-10-04                0.230791   0.102792   0.033421   0.863780   \n",
       "2017-10-05                0.233299   0.085069   0.036757   0.878171   \n",
       "\n",
       "            Vader_Compound  \n",
       "datem                       \n",
       "2017-10-01        0.086177  \n",
       "2017-10-02        0.129153  \n",
       "2017-10-03        0.121704  \n",
       "2017-10-04        0.154778  \n",
       "2017-10-05        0.110130  "
      ]
     },
     "execution_count": 64,
     "metadata": {},
     "output_type": "execute_result"
    }
   ],
   "source": [
    "dftt2.head()"
   ]
  },
  {
   "cell_type": "code",
   "execution_count": 65,
   "metadata": {
    "collapsed": true
   },
   "outputs": [],
   "source": [
    "dftt2.to_csv(\"mean_scores over 156 days.csv\")"
   ]
  },
  {
   "cell_type": "code",
   "execution_count": 66,
   "metadata": {},
   "outputs": [
    {
     "data": {
      "text/html": [
       "<div>\n",
       "<style scoped>\n",
       "    .dataframe tbody tr th:only-of-type {\n",
       "        vertical-align: middle;\n",
       "    }\n",
       "\n",
       "    .dataframe tbody tr th {\n",
       "        vertical-align: top;\n",
       "    }\n",
       "\n",
       "    .dataframe thead th {\n",
       "        text-align: right;\n",
       "    }\n",
       "</style>\n",
       "<table border=\"1\" class=\"dataframe\">\n",
       "  <thead>\n",
       "    <tr style=\"text-align: right;\">\n",
       "      <th></th>\n",
       "      <th>Affin_score</th>\n",
       "      <th>Happy_emoji</th>\n",
       "      <th>Sad_emoji</th>\n",
       "      <th>Text_Blob_polarity</th>\n",
       "      <th>Text_Blob_subjectivity</th>\n",
       "      <th>Vader_Pos</th>\n",
       "      <th>Vader_Neg</th>\n",
       "      <th>Vader_Neu</th>\n",
       "      <th>Vader_Compound</th>\n",
       "    </tr>\n",
       "    <tr>\n",
       "      <th>datem</th>\n",
       "      <th></th>\n",
       "      <th></th>\n",
       "      <th></th>\n",
       "      <th></th>\n",
       "      <th></th>\n",
       "      <th></th>\n",
       "      <th></th>\n",
       "      <th></th>\n",
       "      <th></th>\n",
       "    </tr>\n",
       "  </thead>\n",
       "  <tbody>\n",
       "    <tr>\n",
       "      <th>2018-03-01</th>\n",
       "      <td>0.024481</td>\n",
       "      <td>0.005807</td>\n",
       "      <td>0.000140</td>\n",
       "      <td>0.098633</td>\n",
       "      <td>0.273540</td>\n",
       "      <td>0.075927</td>\n",
       "      <td>0.023978</td>\n",
       "      <td>0.900096</td>\n",
       "      <td>0.158268</td>\n",
       "    </tr>\n",
       "    <tr>\n",
       "      <th>2018-03-02</th>\n",
       "      <td>0.020771</td>\n",
       "      <td>0.005355</td>\n",
       "      <td>0.000062</td>\n",
       "      <td>0.093152</td>\n",
       "      <td>0.264237</td>\n",
       "      <td>0.073279</td>\n",
       "      <td>0.027540</td>\n",
       "      <td>0.899182</td>\n",
       "      <td>0.141157</td>\n",
       "    </tr>\n",
       "    <tr>\n",
       "      <th>2018-03-03</th>\n",
       "      <td>0.025601</td>\n",
       "      <td>0.005950</td>\n",
       "      <td>0.000286</td>\n",
       "      <td>0.094570</td>\n",
       "      <td>0.265215</td>\n",
       "      <td>0.077741</td>\n",
       "      <td>0.024853</td>\n",
       "      <td>0.897405</td>\n",
       "      <td>0.159086</td>\n",
       "    </tr>\n",
       "    <tr>\n",
       "      <th>2018-03-04</th>\n",
       "      <td>0.021917</td>\n",
       "      <td>0.005891</td>\n",
       "      <td>0.000107</td>\n",
       "      <td>0.098461</td>\n",
       "      <td>0.269256</td>\n",
       "      <td>0.077931</td>\n",
       "      <td>0.027304</td>\n",
       "      <td>0.894763</td>\n",
       "      <td>0.157168</td>\n",
       "    </tr>\n",
       "    <tr>\n",
       "      <th>2018-03-05</th>\n",
       "      <td>0.022681</td>\n",
       "      <td>0.003696</td>\n",
       "      <td>0.000000</td>\n",
       "      <td>0.089040</td>\n",
       "      <td>0.254327</td>\n",
       "      <td>0.072278</td>\n",
       "      <td>0.026360</td>\n",
       "      <td>0.901363</td>\n",
       "      <td>0.136868</td>\n",
       "    </tr>\n",
       "  </tbody>\n",
       "</table>\n",
       "</div>"
      ],
      "text/plain": [
       "            Affin_score  Happy_emoji  Sad_emoji  Text_Blob_polarity  \\\n",
       "datem                                                                 \n",
       "2018-03-01     0.024481     0.005807   0.000140            0.098633   \n",
       "2018-03-02     0.020771     0.005355   0.000062            0.093152   \n",
       "2018-03-03     0.025601     0.005950   0.000286            0.094570   \n",
       "2018-03-04     0.021917     0.005891   0.000107            0.098461   \n",
       "2018-03-05     0.022681     0.003696   0.000000            0.089040   \n",
       "\n",
       "            Text_Blob_subjectivity  Vader_Pos  Vader_Neg  Vader_Neu  \\\n",
       "datem                                                                 \n",
       "2018-03-01                0.273540   0.075927   0.023978   0.900096   \n",
       "2018-03-02                0.264237   0.073279   0.027540   0.899182   \n",
       "2018-03-03                0.265215   0.077741   0.024853   0.897405   \n",
       "2018-03-04                0.269256   0.077931   0.027304   0.894763   \n",
       "2018-03-05                0.254327   0.072278   0.026360   0.901363   \n",
       "\n",
       "            Vader_Compound  \n",
       "datem                       \n",
       "2018-03-01        0.158268  \n",
       "2018-03-02        0.141157  \n",
       "2018-03-03        0.159086  \n",
       "2018-03-04        0.157168  \n",
       "2018-03-05        0.136868  "
      ]
     },
     "execution_count": 66,
     "metadata": {},
     "output_type": "execute_result"
    }
   ],
   "source": [
    "dftt2.tail()"
   ]
  },
  {
   "cell_type": "code",
   "execution_count": 68,
   "metadata": {},
   "outputs": [
    {
     "data": {
      "image/png": "[encoded data removed]",
      "text/plain": [
       "<matplotlib.figure.Figure at 0x23718763668>"
      ]
     },
     "metadata": {},
     "output_type": "display_data"
    }
   ],
   "source": [
    "plt.plot(dftt2[\"Affin_score\"])\n",
    "plt.show()"
   ]
  },
  {
   "cell_type": "code",
   "execution_count": 69,
   "metadata": {},
   "outputs": [
    {
     "data": {
      "image/png": "[encoded data removed]",
      "text/plain": [
       "<matplotlib.figure.Figure at 0x23718a83588>"
      ]
     },
     "metadata": {},
     "output_type": "display_data"
    }
   ],
   "source": [
    "plt.plot(dftt2[\"Happy_emoji\"])\n",
    "plt.show()"
   ]
  },
  {
   "cell_type": "code",
   "execution_count": 70,
   "metadata": {},
   "outputs": [
    {
     "data": {
      "image/png": "[encoded data removed]",
      "text/plain": [
       "<matplotlib.figure.Figure at 0x237187d45f8>"
      ]
     },
     "metadata": {},
     "output_type": "display_data"
    }
   ],
   "source": [
    "plt.plot(dftt2[\"Text_Blob_polarity\"])\n",
    "plt.show()"
   ]
  },
  {
   "cell_type": "code",
   "execution_count": 71,
   "metadata": {},
   "outputs": [
    {
     "data": {
      "image/png": "[encoded data removed]",
      "text/plain": [
       "<matplotlib.figure.Figure at 0x237188175c0>"
      ]
     },
     "metadata": {},
     "output_type": "display_data"
    }
   ],
   "source": [
    "plt.plot(dftt2[\"Affin_score\"])\n",
    "plt.plot(dftt2[\"Text_Blob_polarity\"])\n",
    "plt.show()"
   ]
  },
  {
   "cell_type": "code",
   "execution_count": null,
   "metadata": {
    "collapsed": true
   },
   "outputs": [],
   "source": []
  },
  {
   "cell_type": "markdown",
   "metadata": {},
   "source": [
    "# Model 2"
   ]
  },
  {
   "cell_type": "code",
   "execution_count": 80,
   "metadata": {},
   "outputs": [
    {
     "data": {
      "text/html": [
       "<div>\n",
       "<style scoped>\n",
       "    .dataframe tbody tr th:only-of-type {\n",
       "        vertical-align: middle;\n",
       "    }\n",
       "\n",
       "    .dataframe tbody tr th {\n",
       "        vertical-align: top;\n",
       "    }\n",
       "\n",
       "    .dataframe thead th {\n",
       "        text-align: right;\n",
       "    }\n",
       "</style>\n",
       "<table border=\"1\" class=\"dataframe\">\n",
       "  <thead>\n",
       "    <tr style=\"text-align: right;\">\n",
       "      <th></th>\n",
       "      <th>Unnamed: 0</th>\n",
       "      <th>date</th>\n",
       "      <th>text</th>\n",
       "      <th>url_clean</th>\n",
       "      <th>lower</th>\n",
       "      <th>Affin_score</th>\n",
       "      <th>Happy_emoji</th>\n",
       "      <th>Sad_emoji</th>\n",
       "      <th>Text_Blob_polarity</th>\n",
       "      <th>Text_Blob_subjectivity</th>\n",
       "      <th>Sentiment_NLTKVader</th>\n",
       "      <th>Vader_Pos</th>\n",
       "      <th>Vader_Neg</th>\n",
       "      <th>Vader_Neu</th>\n",
       "      <th>Vader_Compound</th>\n",
       "      <th>datem</th>\n",
       "    </tr>\n",
       "  </thead>\n",
       "  <tbody>\n",
       "    <tr>\n",
       "      <th>0</th>\n",
       "      <td>0</td>\n",
       "      <td>10/1/2017 19:59</td>\n",
       "      <td>Ã¢ÂÂ Ã¤Â¾Â¡Ã¦Â Â¼Ã¥Â·Â®Ã¦ÂÂ",
       "Ã¥Â Â±Ã¢ÂÂ Ã¥Â...</td>\n",
       "      <td>Ã¢ÂÂ Ã¤Â¾Â¡Ã¦Â Â¼Ã¥Â·Â®Ã¦ÂÂ",
       "Ã¥Â Â±Ã¢ÂÂ Ã¥Â...</td>\n",
       "      <td>ã¢ââ ã¤â¾â¡ã¦â â¼ã¥â·â®ã¦ââ",
       "ã¥â â±ã¢ââ ã¥â...</td>\n",
       "      <td>0.000000</td>\n",
       "      <td>0</td>\n",
       "      <td>0</td>\n",
       "      <td>0.0000</td>\n",
       "      <td>0.0</td>\n",
       "      <td>[0.0, 0.0, 1.0, 0.0]</td>\n",
       "      <td>0.000</td>\n",
       "      <td>0.000</td>\n",
       "      <td>1.000</td>\n",
       "      <td>0.0000</td>\n",
       "      <td>2017-10-01 19:59:00</td>\n",
       "    </tr>\n",
       "    <tr>\n",
       "      <th>1</th>\n",
       "      <td>1</td>\n",
       "      <td>10/1/2017 19:59</td>\n",
       "      <td>Beyond # Bitcoin: The power struggle over trus...</td>\n",
       "      <td>Beyond # Bitcoin: The power struggle over trus...</td>\n",
       "      <td>beyond # bitcoin: the power struggle over trus...</td>\n",
       "      <td>-0.076923</td>\n",
       "      <td>0</td>\n",
       "      <td>0</td>\n",
       "      <td>0.0000</td>\n",
       "      <td>0.0</td>\n",
       "      <td>[0.0, 0.223, 0.777, -0.3182]</td>\n",
       "      <td>0.000</td>\n",
       "      <td>0.223</td>\n",
       "      <td>0.777</td>\n",
       "      <td>-0.3182</td>\n",
       "      <td>2017-10-01 19:59:00</td>\n",
       "    </tr>\n",
       "    <tr>\n",
       "      <th>2</th>\n",
       "      <td>2</td>\n",
       "      <td>10/1/2017 19:59</td>\n",
       "      <td>RT bitcoinagile \"The power struggle over trust...</td>\n",
       "      <td>RT bitcoinagile \"The power struggle over trust...</td>\n",
       "      <td>rt bitcoinagile \"the power struggle over trust...</td>\n",
       "      <td>-0.083333</td>\n",
       "      <td>0</td>\n",
       "      <td>0</td>\n",
       "      <td>0.0000</td>\n",
       "      <td>0.0</td>\n",
       "      <td>[0.197, 0.179, 0.623, 0.0601]</td>\n",
       "      <td>0.197</td>\n",
       "      <td>0.179</td>\n",
       "      <td>0.623</td>\n",
       "      <td>0.0601</td>\n",
       "      <td>2017-10-01 19:59:00</td>\n",
       "    </tr>\n",
       "    <tr>\n",
       "      <th>3</th>\n",
       "      <td>3</td>\n",
       "      <td>10/1/2017 19:59</td>\n",
       "      <td>The power struggle over trust-based technology...</td>\n",
       "      <td>The power struggle over trust-based technology...</td>\n",
       "      <td>the power struggle over trust-based technology...</td>\n",
       "      <td>-0.100000</td>\n",
       "      <td>0</td>\n",
       "      <td>0</td>\n",
       "      <td>0.0000</td>\n",
       "      <td>0.0</td>\n",
       "      <td>[0.234, 0.212, 0.554, 0.0601]</td>\n",
       "      <td>0.234</td>\n",
       "      <td>0.212</td>\n",
       "      <td>0.554</td>\n",
       "      <td>0.0601</td>\n",
       "      <td>2017-10-01 19:59:00</td>\n",
       "    </tr>\n",
       "    <tr>\n",
       "      <th>4</th>\n",
       "      <td>4</td>\n",
       "      <td>10/1/2017 19:58</td>\n",
       "      <td>Extremely bias. The whole # Bitcoin as a novel...</td>\n",
       "      <td>Extremely bias. The whole # Bitcoin as a novel...</td>\n",
       "      <td>extremely bias. the whole # bitcoin as a novel...</td>\n",
       "      <td>0.157895</td>\n",
       "      <td>0</td>\n",
       "      <td>0</td>\n",
       "      <td>0.0375</td>\n",
       "      <td>0.7</td>\n",
       "      <td>[0.072, 0.207, 0.721, -0.3462]</td>\n",
       "      <td>0.072</td>\n",
       "      <td>0.207</td>\n",
       "      <td>0.721</td>\n",
       "      <td>-0.3462</td>\n",
       "      <td>2017-10-01 19:58:00</td>\n",
       "    </tr>\n",
       "  </tbody>\n",
       "</table>\n",
       "</div>"
      ],
      "text/plain": [
       "   Unnamed: 0             date  \\\n",
       "0           0  10/1/2017 19:59   \n",
       "1           1  10/1/2017 19:59   \n",
       "2           2  10/1/2017 19:59   \n",
       "3           3  10/1/2017 19:59   \n",
       "4           4  10/1/2017 19:58   \n",
       "\n",
       "                                                text  \\\n",
       "0  Ã¢ÂÂ Ã¤Â¾Â¡Ã¦Â Â¼Ã¥Â·Â®Ã¦ÂÂ\n",
       "Ã¥Â Â±Ã¢ÂÂ Ã¥Â...   \n",
       "1  Beyond # Bitcoin: The power struggle over trus...   \n",
       "2  RT bitcoinagile \"The power struggle over trust...   \n",
       "3  The power struggle over trust-based technology...   \n",
       "4  Extremely bias. The whole # Bitcoin as a novel...   \n",
       "\n",
       "                                           url_clean  \\\n",
       "0  Ã¢ÂÂ Ã¤Â¾Â¡Ã¦Â Â¼Ã¥Â·Â®Ã¦ÂÂ\n",
       "Ã¥Â Â±Ã¢ÂÂ Ã¥Â...   \n",
       "1  Beyond # Bitcoin: The power struggle over trus...   \n",
       "2  RT bitcoinagile \"The power struggle over trust...   \n",
       "3  The power struggle over trust-based technology...   \n",
       "4  Extremely bias. The whole # Bitcoin as a novel...   \n",
       "\n",
       "                                               lower  Affin_score  \\\n",
       "0  ã¢ââ ã¤â¾â¡ã¦â â¼ã¥â·â®ã¦ââ\n",
       "ã¥â â±ã¢ââ ã¥â...     0.000000   \n",
       "1  beyond # bitcoin: the power struggle over trus...    -0.076923   \n",
       "2  rt bitcoinagile \"the power struggle over trust...    -0.083333   \n",
       "3  the power struggle over trust-based technology...    -0.100000   \n",
       "4  extremely bias. the whole # bitcoin as a novel...     0.157895   \n",
       "\n",
       "   Happy_emoji  Sad_emoji  Text_Blob_polarity  Text_Blob_subjectivity  \\\n",
       "0            0          0              0.0000                     0.0   \n",
       "1            0          0              0.0000                     0.0   \n",
       "2            0          0              0.0000                     0.0   \n",
       "3            0          0              0.0000                     0.0   \n",
       "4            0          0              0.0375                     0.7   \n",
       "\n",
       "              Sentiment_NLTKVader  Vader_Pos  Vader_Neg  Vader_Neu  \\\n",
       "0            [0.0, 0.0, 1.0, 0.0]      0.000      0.000      1.000   \n",
       "1    [0.0, 0.223, 0.777, -0.3182]      0.000      0.223      0.777   \n",
       "2   [0.197, 0.179, 0.623, 0.0601]      0.197      0.179      0.623   \n",
       "3   [0.234, 0.212, 0.554, 0.0601]      0.234      0.212      0.554   \n",
       "4  [0.072, 0.207, 0.721, -0.3462]      0.072      0.207      0.721   \n",
       "\n",
       "   Vader_Compound               datem  \n",
       "0          0.0000 2017-10-01 19:59:00  \n",
       "1         -0.3182 2017-10-01 19:59:00  \n",
       "2          0.0601 2017-10-01 19:59:00  \n",
       "3          0.0601 2017-10-01 19:59:00  \n",
       "4         -0.3462 2017-10-01 19:58:00  "
      ]
     },
     "execution_count": 80,
     "metadata": {},
     "output_type": "execute_result"
    }
   ],
   "source": [
    "dft1.head()"
   ]
  },
  {
   "cell_type": "code",
   "execution_count": 82,
   "metadata": {
    "collapsed": true
   },
   "outputs": [],
   "source": [
    "dft1[\"datem\"] = pd.to_datetime(dft1[\"date\"])"
   ]
  },
  {
   "cell_type": "code",
   "execution_count": 83,
   "metadata": {
    "collapsed": true
   },
   "outputs": [],
   "source": [
    "dft1.set_index(dft1[\"datem\"],inplace=True)"
   ]
  },
  {
   "cell_type": "code",
   "execution_count": 84,
   "metadata": {},
   "outputs": [
    {
     "data": {
      "text/html": [
       "<div>\n",
       "<style scoped>\n",
       "    .dataframe tbody tr th:only-of-type {\n",
       "        vertical-align: middle;\n",
       "    }\n",
       "\n",
       "    .dataframe tbody tr th {\n",
       "        vertical-align: top;\n",
       "    }\n",
       "\n",
       "    .dataframe thead th {\n",
       "        text-align: right;\n",
       "    }\n",
       "</style>\n",
       "<table border=\"1\" class=\"dataframe\">\n",
       "  <thead>\n",
       "    <tr style=\"text-align: right;\">\n",
       "      <th></th>\n",
       "      <th>Unnamed: 0</th>\n",
       "      <th>date</th>\n",
       "      <th>text</th>\n",
       "      <th>url_clean</th>\n",
       "      <th>lower</th>\n",
       "      <th>Affin_score</th>\n",
       "      <th>Happy_emoji</th>\n",
       "      <th>Sad_emoji</th>\n",
       "      <th>Text_Blob_polarity</th>\n",
       "      <th>Text_Blob_subjectivity</th>\n",
       "      <th>Sentiment_NLTKVader</th>\n",
       "      <th>Vader_Pos</th>\n",
       "      <th>Vader_Neg</th>\n",
       "      <th>Vader_Neu</th>\n",
       "      <th>Vader_Compound</th>\n",
       "      <th>datem</th>\n",
       "    </tr>\n",
       "    <tr>\n",
       "      <th>datem</th>\n",
       "      <th></th>\n",
       "      <th></th>\n",
       "      <th></th>\n",
       "      <th></th>\n",
       "      <th></th>\n",
       "      <th></th>\n",
       "      <th></th>\n",
       "      <th></th>\n",
       "      <th></th>\n",
       "      <th></th>\n",
       "      <th></th>\n",
       "      <th></th>\n",
       "      <th></th>\n",
       "      <th></th>\n",
       "      <th></th>\n",
       "      <th></th>\n",
       "    </tr>\n",
       "  </thead>\n",
       "  <tbody>\n",
       "    <tr>\n",
       "      <th>2017-10-01 19:59:00</th>\n",
       "      <td>0</td>\n",
       "      <td>10/1/2017 19:59</td>\n",
       "      <td>Ã¢ÂÂ Ã¤Â¾Â¡Ã¦Â Â¼Ã¥Â·Â®Ã¦ÂÂ",
       "Ã¥Â Â±Ã¢ÂÂ Ã¥Â...</td>\n",
       "      <td>Ã¢ÂÂ Ã¤Â¾Â¡Ã¦Â Â¼Ã¥Â·Â®Ã¦ÂÂ",
       "Ã¥Â Â±Ã¢ÂÂ Ã¥Â...</td>\n",
       "      <td>ã¢ââ ã¤â¾â¡ã¦â â¼ã¥â·â®ã¦ââ",
       "ã¥â â±ã¢ââ ã¥â...</td>\n",
       "      <td>0.000000</td>\n",
       "      <td>0</td>\n",
       "      <td>0</td>\n",
       "      <td>0.0000</td>\n",
       "      <td>0.0</td>\n",
       "      <td>[0.0, 0.0, 1.0, 0.0]</td>\n",
       "      <td>0.000</td>\n",
       "      <td>0.000</td>\n",
       "      <td>1.000</td>\n",
       "      <td>0.0000</td>\n",
       "      <td>2017-10-01 19:59:00</td>\n",
       "    </tr>\n",
       "    <tr>\n",
       "      <th>2017-10-01 19:59:00</th>\n",
       "      <td>1</td>\n",
       "      <td>10/1/2017 19:59</td>\n",
       "      <td>Beyond # Bitcoin: The power struggle over trus...</td>\n",
       "      <td>Beyond # Bitcoin: The power struggle over trus...</td>\n",
       "      <td>beyond # bitcoin: the power struggle over trus...</td>\n",
       "      <td>-0.076923</td>\n",
       "      <td>0</td>\n",
       "      <td>0</td>\n",
       "      <td>0.0000</td>\n",
       "      <td>0.0</td>\n",
       "      <td>[0.0, 0.223, 0.777, -0.3182]</td>\n",
       "      <td>0.000</td>\n",
       "      <td>0.223</td>\n",
       "      <td>0.777</td>\n",
       "      <td>-0.3182</td>\n",
       "      <td>2017-10-01 19:59:00</td>\n",
       "    </tr>\n",
       "    <tr>\n",
       "      <th>2017-10-01 19:59:00</th>\n",
       "      <td>2</td>\n",
       "      <td>10/1/2017 19:59</td>\n",
       "      <td>RT bitcoinagile \"The power struggle over trust...</td>\n",
       "      <td>RT bitcoinagile \"The power struggle over trust...</td>\n",
       "      <td>rt bitcoinagile \"the power struggle over trust...</td>\n",
       "      <td>-0.083333</td>\n",
       "      <td>0</td>\n",
       "      <td>0</td>\n",
       "      <td>0.0000</td>\n",
       "      <td>0.0</td>\n",
       "      <td>[0.197, 0.179, 0.623, 0.0601]</td>\n",
       "      <td>0.197</td>\n",
       "      <td>0.179</td>\n",
       "      <td>0.623</td>\n",
       "      <td>0.0601</td>\n",
       "      <td>2017-10-01 19:59:00</td>\n",
       "    </tr>\n",
       "    <tr>\n",
       "      <th>2017-10-01 19:59:00</th>\n",
       "      <td>3</td>\n",
       "      <td>10/1/2017 19:59</td>\n",
       "      <td>The power struggle over trust-based technology...</td>\n",
       "      <td>The power struggle over trust-based technology...</td>\n",
       "      <td>the power struggle over trust-based technology...</td>\n",
       "      <td>-0.100000</td>\n",
       "      <td>0</td>\n",
       "      <td>0</td>\n",
       "      <td>0.0000</td>\n",
       "      <td>0.0</td>\n",
       "      <td>[0.234, 0.212, 0.554, 0.0601]</td>\n",
       "      <td>0.234</td>\n",
       "      <td>0.212</td>\n",
       "      <td>0.554</td>\n",
       "      <td>0.0601</td>\n",
       "      <td>2017-10-01 19:59:00</td>\n",
       "    </tr>\n",
       "    <tr>\n",
       "      <th>2017-10-01 19:58:00</th>\n",
       "      <td>4</td>\n",
       "      <td>10/1/2017 19:58</td>\n",
       "      <td>Extremely bias. The whole # Bitcoin as a novel...</td>\n",
       "      <td>Extremely bias. The whole # Bitcoin as a novel...</td>\n",
       "      <td>extremely bias. the whole # bitcoin as a novel...</td>\n",
       "      <td>0.157895</td>\n",
       "      <td>0</td>\n",
       "      <td>0</td>\n",
       "      <td>0.0375</td>\n",
       "      <td>0.7</td>\n",
       "      <td>[0.072, 0.207, 0.721, -0.3462]</td>\n",
       "      <td>0.072</td>\n",
       "      <td>0.207</td>\n",
       "      <td>0.721</td>\n",
       "      <td>-0.3462</td>\n",
       "      <td>2017-10-01 19:58:00</td>\n",
       "    </tr>\n",
       "  </tbody>\n",
       "</table>\n",
       "</div>"
      ],
      "text/plain": [
       "                     Unnamed: 0             date  \\\n",
       "datem                                              \n",
       "2017-10-01 19:59:00           0  10/1/2017 19:59   \n",
       "2017-10-01 19:59:00           1  10/1/2017 19:59   \n",
       "2017-10-01 19:59:00           2  10/1/2017 19:59   \n",
       "2017-10-01 19:59:00           3  10/1/2017 19:59   \n",
       "2017-10-01 19:58:00           4  10/1/2017 19:58   \n",
       "\n",
       "                                                                  text  \\\n",
       "datem                                                                    \n",
       "2017-10-01 19:59:00  Ã¢ÂÂ Ã¤Â¾Â¡Ã¦Â Â¼Ã¥Â·Â®Ã¦ÂÂ\n",
       "Ã¥Â Â±Ã¢ÂÂ Ã¥Â...   \n",
       "2017-10-01 19:59:00  Beyond # Bitcoin: The power struggle over trus...   \n",
       "2017-10-01 19:59:00  RT bitcoinagile \"The power struggle over trust...   \n",
       "2017-10-01 19:59:00  The power struggle over trust-based technology...   \n",
       "2017-10-01 19:58:00  Extremely bias. The whole # Bitcoin as a novel...   \n",
       "\n",
       "                                                             url_clean  \\\n",
       "datem                                                                    \n",
       "2017-10-01 19:59:00  Ã¢ÂÂ Ã¤Â¾Â¡Ã¦Â Â¼Ã¥Â·Â®Ã¦ÂÂ\n",
       "Ã¥Â Â±Ã¢ÂÂ Ã¥Â...   \n",
       "2017-10-01 19:59:00  Beyond # Bitcoin: The power struggle over trus...   \n",
       "2017-10-01 19:59:00  RT bitcoinagile \"The power struggle over trust...   \n",
       "2017-10-01 19:59:00  The power struggle over trust-based technology...   \n",
       "2017-10-01 19:58:00  Extremely bias. The whole # Bitcoin as a novel...   \n",
       "\n",
       "                                                                 lower  \\\n",
       "datem                                                                    \n",
       "2017-10-01 19:59:00  ã¢ââ ã¤â¾â¡ã¦â â¼ã¥â·â®ã¦ââ\n",
       "ã¥â â±ã¢ââ ã¥â...   \n",
       "2017-10-01 19:59:00  beyond # bitcoin: the power struggle over trus...   \n",
       "2017-10-01 19:59:00  rt bitcoinagile \"the power struggle over trust...   \n",
       "2017-10-01 19:59:00  the power struggle over trust-based technology...   \n",
       "2017-10-01 19:58:00  extremely bias. the whole # bitcoin as a novel...   \n",
       "\n",
       "                     Affin_score  Happy_emoji  Sad_emoji  Text_Blob_polarity  \\\n",
       "datem                                                                          \n",
       "2017-10-01 19:59:00     0.000000            0          0              0.0000   \n",
       "2017-10-01 19:59:00    -0.076923            0          0              0.0000   \n",
       "2017-10-01 19:59:00    -0.083333            0          0              0.0000   \n",
       "2017-10-01 19:59:00    -0.100000            0          0              0.0000   \n",
       "2017-10-01 19:58:00     0.157895            0          0              0.0375   \n",
       "\n",
       "                     Text_Blob_subjectivity             Sentiment_NLTKVader  \\\n",
       "datem                                                                         \n",
       "2017-10-01 19:59:00                     0.0            [0.0, 0.0, 1.0, 0.0]   \n",
       "2017-10-01 19:59:00                     0.0    [0.0, 0.223, 0.777, -0.3182]   \n",
       "2017-10-01 19:59:00                     0.0   [0.197, 0.179, 0.623, 0.0601]   \n",
       "2017-10-01 19:59:00                     0.0   [0.234, 0.212, 0.554, 0.0601]   \n",
       "2017-10-01 19:58:00                     0.7  [0.072, 0.207, 0.721, -0.3462]   \n",
       "\n",
       "                     Vader_Pos  Vader_Neg  Vader_Neu  Vader_Compound  \\\n",
       "datem                                                                  \n",
       "2017-10-01 19:59:00      0.000      0.000      1.000          0.0000   \n",
       "2017-10-01 19:59:00      0.000      0.223      0.777         -0.3182   \n",
       "2017-10-01 19:59:00      0.197      0.179      0.623          0.0601   \n",
       "2017-10-01 19:59:00      0.234      0.212      0.554          0.0601   \n",
       "2017-10-01 19:58:00      0.072      0.207      0.721         -0.3462   \n",
       "\n",
       "                                  datem  \n",
       "datem                                    \n",
       "2017-10-01 19:59:00 2017-10-01 19:59:00  \n",
       "2017-10-01 19:59:00 2017-10-01 19:59:00  \n",
       "2017-10-01 19:59:00 2017-10-01 19:59:00  \n",
       "2017-10-01 19:59:00 2017-10-01 19:59:00  \n",
       "2017-10-01 19:58:00 2017-10-01 19:58:00  "
      ]
     },
     "execution_count": 84,
     "metadata": {},
     "output_type": "execute_result"
    }
   ],
   "source": [
    "dft1.head()"
   ]
  },
  {
   "cell_type": "code",
   "execution_count": 92,
   "metadata": {
    "collapsed": true
   },
   "outputs": [],
   "source": [
    "def eas(x):\n",
    "    \n",
    "    if x > 0:\n",
    "        y = 1\n",
    "    elif x < 0:\n",
    "        y = -1\n",
    "        \n",
    "        \n",
    "    else:\n",
    "        y=0\n",
    "    \n",
    "    return y"
   ]
  },
  {
   "cell_type": "code",
   "execution_count": 93,
   "metadata": {
    "collapsed": true
   },
   "outputs": [],
   "source": [
    "dft1[\"Effective_Affin\"] = dft1[\"Affin_score\"].apply(eas)"
   ]
  },
  {
   "cell_type": "code",
   "execution_count": 88,
   "metadata": {},
   "outputs": [
    {
     "data": {
      "text/plain": [
       "1.0"
      ]
     },
     "execution_count": 88,
     "metadata": {},
     "output_type": "execute_result"
    }
   ],
   "source": [
    "dft1[\"Text_Blob_polarity\"].max()"
   ]
  },
  {
   "cell_type": "code",
   "execution_count": 89,
   "metadata": {},
   "outputs": [
    {
     "data": {
      "text/plain": [
       "-1.0"
      ]
     },
     "execution_count": 89,
     "metadata": {},
     "output_type": "execute_result"
    }
   ],
   "source": [
    "dft1[\"Text_Blob_polarity\"].min()"
   ]
  },
  {
   "cell_type": "code",
   "execution_count": 94,
   "metadata": {
    "collapsed": true
   },
   "outputs": [],
   "source": [
    "dft1[\"Effective_TextBlob\"] = dft1[\"Text_Blob_polarity\"].apply(eas)"
   ]
  },
  {
   "cell_type": "code",
   "execution_count": null,
   "metadata": {
    "collapsed": true
   },
   "outputs": [],
   "source": []
  },
  {
   "cell_type": "code",
   "execution_count": 97,
   "metadata": {
    "collapsed": true
   },
   "outputs": [],
   "source": [
    "x = dft1[\"Vader_Pos\"] > dft1[\"Vader_Neg\"]# filtering only posive rows neglecting negative and neutral ones"
   ]
  },
  {
   "cell_type": "code",
   "execution_count": 98,
   "metadata": {
    "collapsed": true
   },
   "outputs": [],
   "source": [
    "y = dft1[\"Vader_Pos\"] < dft1[\"Vader_Neg\"]# filtering only negative rows neglecting positive and neutral ones"
   ]
  },
  {
   "cell_type": "code",
   "execution_count": 99,
   "metadata": {
    "collapsed": true
   },
   "outputs": [],
   "source": [
    "dft1[\"Effective_Vader\"] = 0 #intialize all with zeros and neutral tweets gets automatically zero"
   ]
  },
  {
   "cell_type": "code",
   "execution_count": 100,
   "metadata": {
    "collapsed": true
   },
   "outputs": [],
   "source": [
    "dft1.loc[x,\"Effective_Vader\"] = 1"
   ]
  },
  {
   "cell_type": "code",
   "execution_count": 101,
   "metadata": {
    "collapsed": true
   },
   "outputs": [],
   "source": [
    "dft1.loc[y,\"Effective_Vader\"] = -1"
   ]
  },
  {
   "cell_type": "code",
   "execution_count": 102,
   "metadata": {},
   "outputs": [
    {
     "data": {
      "text/html": [
       "<div>\n",
       "<style scoped>\n",
       "    .dataframe tbody tr th:only-of-type {\n",
       "        vertical-align: middle;\n",
       "    }\n",
       "\n",
       "    .dataframe tbody tr th {\n",
       "        vertical-align: top;\n",
       "    }\n",
       "\n",
       "    .dataframe thead th {\n",
       "        text-align: right;\n",
       "    }\n",
       "</style>\n",
       "<table border=\"1\" class=\"dataframe\">\n",
       "  <thead>\n",
       "    <tr style=\"text-align: right;\">\n",
       "      <th></th>\n",
       "      <th>Unnamed: 0</th>\n",
       "      <th>date</th>\n",
       "      <th>text</th>\n",
       "      <th>url_clean</th>\n",
       "      <th>lower</th>\n",
       "      <th>Affin_score</th>\n",
       "      <th>Happy_emoji</th>\n",
       "      <th>Sad_emoji</th>\n",
       "      <th>Text_Blob_polarity</th>\n",
       "      <th>Text_Blob_subjectivity</th>\n",
       "      <th>Sentiment_NLTKVader</th>\n",
       "      <th>Vader_Pos</th>\n",
       "      <th>Vader_Neg</th>\n",
       "      <th>Vader_Neu</th>\n",
       "      <th>Vader_Compound</th>\n",
       "      <th>datem</th>\n",
       "      <th>Effective_Affin</th>\n",
       "      <th>Effective_TextBlob</th>\n",
       "      <th>Effective_Vader</th>\n",
       "    </tr>\n",
       "    <tr>\n",
       "      <th>datem</th>\n",
       "      <th></th>\n",
       "      <th></th>\n",
       "      <th></th>\n",
       "      <th></th>\n",
       "      <th></th>\n",
       "      <th></th>\n",
       "      <th></th>\n",
       "      <th></th>\n",
       "      <th></th>\n",
       "      <th></th>\n",
       "      <th></th>\n",
       "      <th></th>\n",
       "      <th></th>\n",
       "      <th></th>\n",
       "      <th></th>\n",
       "      <th></th>\n",
       "      <th></th>\n",
       "      <th></th>\n",
       "      <th></th>\n",
       "    </tr>\n",
       "  </thead>\n",
       "  <tbody>\n",
       "    <tr>\n",
       "      <th>2017-10-01 19:59:00</th>\n",
       "      <td>0</td>\n",
       "      <td>10/1/2017 19:59</td>\n",
       "      <td>Ã¢ÂÂ Ã¤Â¾Â¡Ã¦Â Â¼Ã¥Â·Â®Ã¦ÂÂ",
       "Ã¥Â Â±Ã¢ÂÂ Ã¥Â...</td>\n",
       "      <td>Ã¢ÂÂ Ã¤Â¾Â¡Ã¦Â Â¼Ã¥Â·Â®Ã¦ÂÂ",
       "Ã¥Â Â±Ã¢ÂÂ Ã¥Â...</td>\n",
       "      <td>ã¢ââ ã¤â¾â¡ã¦â â¼ã¥â·â®ã¦ââ",
       "ã¥â â±ã¢ââ ã¥â...</td>\n",
       "      <td>0.000000</td>\n",
       "      <td>0</td>\n",
       "      <td>0</td>\n",
       "      <td>0.0000</td>\n",
       "      <td>0.0</td>\n",
       "      <td>[0.0, 0.0, 1.0, 0.0]</td>\n",
       "      <td>0.000</td>\n",
       "      <td>0.000</td>\n",
       "      <td>1.000</td>\n",
       "      <td>0.0000</td>\n",
       "      <td>2017-10-01 19:59:00</td>\n",
       "      <td>0</td>\n",
       "      <td>0</td>\n",
       "      <td>0</td>\n",
       "    </tr>\n",
       "    <tr>\n",
       "      <th>2017-10-01 19:59:00</th>\n",
       "      <td>1</td>\n",
       "      <td>10/1/2017 19:59</td>\n",
       "      <td>Beyond # Bitcoin: The power struggle over trus...</td>\n",
       "      <td>Beyond # Bitcoin: The power struggle over trus...</td>\n",
       "      <td>beyond # bitcoin: the power struggle over trus...</td>\n",
       "      <td>-0.076923</td>\n",
       "      <td>0</td>\n",
       "      <td>0</td>\n",
       "      <td>0.0000</td>\n",
       "      <td>0.0</td>\n",
       "      <td>[0.0, 0.223, 0.777, -0.3182]</td>\n",
       "      <td>0.000</td>\n",
       "      <td>0.223</td>\n",
       "      <td>0.777</td>\n",
       "      <td>-0.3182</td>\n",
       "      <td>2017-10-01 19:59:00</td>\n",
       "      <td>-1</td>\n",
       "      <td>0</td>\n",
       "      <td>-1</td>\n",
       "    </tr>\n",
       "    <tr>\n",
       "      <th>2017-10-01 19:59:00</th>\n",
       "      <td>2</td>\n",
       "      <td>10/1/2017 19:59</td>\n",
       "      <td>RT bitcoinagile \"The power struggle over trust...</td>\n",
       "      <td>RT bitcoinagile \"The power struggle over trust...</td>\n",
       "      <td>rt bitcoinagile \"the power struggle over trust...</td>\n",
       "      <td>-0.083333</td>\n",
       "      <td>0</td>\n",
       "      <td>0</td>\n",
       "      <td>0.0000</td>\n",
       "      <td>0.0</td>\n",
       "      <td>[0.197, 0.179, 0.623, 0.0601]</td>\n",
       "      <td>0.197</td>\n",
       "      <td>0.179</td>\n",
       "      <td>0.623</td>\n",
       "      <td>0.0601</td>\n",
       "      <td>2017-10-01 19:59:00</td>\n",
       "      <td>-1</td>\n",
       "      <td>0</td>\n",
       "      <td>1</td>\n",
       "    </tr>\n",
       "    <tr>\n",
       "      <th>2017-10-01 19:59:00</th>\n",
       "      <td>3</td>\n",
       "      <td>10/1/2017 19:59</td>\n",
       "      <td>The power struggle over trust-based technology...</td>\n",
       "      <td>The power struggle over trust-based technology...</td>\n",
       "      <td>the power struggle over trust-based technology...</td>\n",
       "      <td>-0.100000</td>\n",
       "      <td>0</td>\n",
       "      <td>0</td>\n",
       "      <td>0.0000</td>\n",
       "      <td>0.0</td>\n",
       "      <td>[0.234, 0.212, 0.554, 0.0601]</td>\n",
       "      <td>0.234</td>\n",
       "      <td>0.212</td>\n",
       "      <td>0.554</td>\n",
       "      <td>0.0601</td>\n",
       "      <td>2017-10-01 19:59:00</td>\n",
       "      <td>-1</td>\n",
       "      <td>0</td>\n",
       "      <td>1</td>\n",
       "    </tr>\n",
       "    <tr>\n",
       "      <th>2017-10-01 19:58:00</th>\n",
       "      <td>4</td>\n",
       "      <td>10/1/2017 19:58</td>\n",
       "      <td>Extremely bias. The whole # Bitcoin as a novel...</td>\n",
       "      <td>Extremely bias. The whole # Bitcoin as a novel...</td>\n",
       "      <td>extremely bias. the whole # bitcoin as a novel...</td>\n",
       "      <td>0.157895</td>\n",
       "      <td>0</td>\n",
       "      <td>0</td>\n",
       "      <td>0.0375</td>\n",
       "      <td>0.7</td>\n",
       "      <td>[0.072, 0.207, 0.721, -0.3462]</td>\n",
       "      <td>0.072</td>\n",
       "      <td>0.207</td>\n",
       "      <td>0.721</td>\n",
       "      <td>-0.3462</td>\n",
       "      <td>2017-10-01 19:58:00</td>\n",
       "      <td>1</td>\n",
       "      <td>1</td>\n",
       "      <td>-1</td>\n",
       "    </tr>\n",
       "  </tbody>\n",
       "</table>\n",
       "</div>"
      ],
      "text/plain": [
       "                     Unnamed: 0             date  \\\n",
       "datem                                              \n",
       "2017-10-01 19:59:00           0  10/1/2017 19:59   \n",
       "2017-10-01 19:59:00           1  10/1/2017 19:59   \n",
       "2017-10-01 19:59:00           2  10/1/2017 19:59   \n",
       "2017-10-01 19:59:00           3  10/1/2017 19:59   \n",
       "2017-10-01 19:58:00           4  10/1/2017 19:58   \n",
       "\n",
       "                                                                  text  \\\n",
       "datem                                                                    \n",
       "2017-10-01 19:59:00  Ã¢ÂÂ Ã¤Â¾Â¡Ã¦Â Â¼Ã¥Â·Â®Ã¦ÂÂ\n",
       "Ã¥Â Â±Ã¢ÂÂ Ã¥Â...   \n",
       "2017-10-01 19:59:00  Beyond # Bitcoin: The power struggle over trus...   \n",
       "2017-10-01 19:59:00  RT bitcoinagile \"The power struggle over trust...   \n",
       "2017-10-01 19:59:00  The power struggle over trust-based technology...   \n",
       "2017-10-01 19:58:00  Extremely bias. The whole # Bitcoin as a novel...   \n",
       "\n",
       "                                                             url_clean  \\\n",
       "datem                                                                    \n",
       "2017-10-01 19:59:00  Ã¢ÂÂ Ã¤Â¾Â¡Ã¦Â Â¼Ã¥Â·Â®Ã¦ÂÂ\n",
       "Ã¥Â Â±Ã¢ÂÂ Ã¥Â...   \n",
       "2017-10-01 19:59:00  Beyond # Bitcoin: The power struggle over trus...   \n",
       "2017-10-01 19:59:00  RT bitcoinagile \"The power struggle over trust...   \n",
       "2017-10-01 19:59:00  The power struggle over trust-based technology...   \n",
       "2017-10-01 19:58:00  Extremely bias. The whole # Bitcoin as a novel...   \n",
       "\n",
       "                                                                 lower  \\\n",
       "datem                                                                    \n",
       "2017-10-01 19:59:00  ã¢ââ ã¤â¾â¡ã¦â â¼ã¥â·â®ã¦ââ\n",
       "ã¥â â±ã¢ââ ã¥â...   \n",
       "2017-10-01 19:59:00  beyond # bitcoin: the power struggle over trus...   \n",
       "2017-10-01 19:59:00  rt bitcoinagile \"the power struggle over trust...   \n",
       "2017-10-01 19:59:00  the power struggle over trust-based technology...   \n",
       "2017-10-01 19:58:00  extremely bias. the whole # bitcoin as a novel...   \n",
       "\n",
       "                     Affin_score  Happy_emoji  Sad_emoji  Text_Blob_polarity  \\\n",
       "datem                                                                          \n",
       "2017-10-01 19:59:00     0.000000            0          0              0.0000   \n",
       "2017-10-01 19:59:00    -0.076923            0          0              0.0000   \n",
       "2017-10-01 19:59:00    -0.083333            0          0              0.0000   \n",
       "2017-10-01 19:59:00    -0.100000            0          0              0.0000   \n",
       "2017-10-01 19:58:00     0.157895            0          0              0.0375   \n",
       "\n",
       "                     Text_Blob_subjectivity             Sentiment_NLTKVader  \\\n",
       "datem                                                                         \n",
       "2017-10-01 19:59:00                     0.0            [0.0, 0.0, 1.0, 0.0]   \n",
       "2017-10-01 19:59:00                     0.0    [0.0, 0.223, 0.777, -0.3182]   \n",
       "2017-10-01 19:59:00                     0.0   [0.197, 0.179, 0.623, 0.0601]   \n",
       "2017-10-01 19:59:00                     0.0   [0.234, 0.212, 0.554, 0.0601]   \n",
       "2017-10-01 19:58:00                     0.7  [0.072, 0.207, 0.721, -0.3462]   \n",
       "\n",
       "                     Vader_Pos  Vader_Neg  Vader_Neu  Vader_Compound  \\\n",
       "datem                                                                  \n",
       "2017-10-01 19:59:00      0.000      0.000      1.000          0.0000   \n",
       "2017-10-01 19:59:00      0.000      0.223      0.777         -0.3182   \n",
       "2017-10-01 19:59:00      0.197      0.179      0.623          0.0601   \n",
       "2017-10-01 19:59:00      0.234      0.212      0.554          0.0601   \n",
       "2017-10-01 19:58:00      0.072      0.207      0.721         -0.3462   \n",
       "\n",
       "                                  datem  Effective_Affin  Effective_TextBlob  \\\n",
       "datem                                                                          \n",
       "2017-10-01 19:59:00 2017-10-01 19:59:00                0                   0   \n",
       "2017-10-01 19:59:00 2017-10-01 19:59:00               -1                   0   \n",
       "2017-10-01 19:59:00 2017-10-01 19:59:00               -1                   0   \n",
       "2017-10-01 19:59:00 2017-10-01 19:59:00               -1                   0   \n",
       "2017-10-01 19:58:00 2017-10-01 19:58:00                1                   1   \n",
       "\n",
       "                     Effective_Vader  \n",
       "datem                                 \n",
       "2017-10-01 19:59:00                0  \n",
       "2017-10-01 19:59:00               -1  \n",
       "2017-10-01 19:59:00                1  \n",
       "2017-10-01 19:59:00                1  \n",
       "2017-10-01 19:58:00               -1  "
      ]
     },
     "execution_count": 102,
     "metadata": {},
     "output_type": "execute_result"
    }
   ],
   "source": [
    "dft1.head()"
   ]
  },
  {
   "cell_type": "code",
   "execution_count": 106,
   "metadata": {
    "collapsed": true
   },
   "outputs": [],
   "source": [
    "df = dft1.ix[:,[\"text\", \"Happy_emoji\", \"Sad_emoji\", \"Effective_Affin\", \"Effective_TextBlob\", \"Effective_Vader\"]]"
   ]
  },
  {
   "cell_type": "code",
   "execution_count": 107,
   "metadata": {},
   "outputs": [
    {
     "data": {
      "text/html": [
       "<div>\n",
       "<style scoped>\n",
       "    .dataframe tbody tr th:only-of-type {\n",
       "        vertical-align: middle;\n",
       "    }\n",
       "\n",
       "    .dataframe tbody tr th {\n",
       "        vertical-align: top;\n",
       "    }\n",
       "\n",
       "    .dataframe thead th {\n",
       "        text-align: right;\n",
       "    }\n",
       "</style>\n",
       "<table border=\"1\" class=\"dataframe\">\n",
       "  <thead>\n",
       "    <tr style=\"text-align: right;\">\n",
       "      <th></th>\n",
       "      <th>text</th>\n",
       "      <th>Happy_emoji</th>\n",
       "      <th>Sad_emoji</th>\n",
       "      <th>Effective_Affin</th>\n",
       "      <th>Effective_TextBlob</th>\n",
       "      <th>Effective_Vader</th>\n",
       "    </tr>\n",
       "    <tr>\n",
       "      <th>datem</th>\n",
       "      <th></th>\n",
       "      <th></th>\n",
       "      <th></th>\n",
       "      <th></th>\n",
       "      <th></th>\n",
       "      <th></th>\n",
       "    </tr>\n",
       "  </thead>\n",
       "  <tbody>\n",
       "    <tr>\n",
       "      <th>2017-10-01 19:59:00</th>\n",
       "      <td>Ã¢ÂÂ Ã¤Â¾Â¡Ã¦Â Â¼Ã¥Â·Â®Ã¦ÂÂ",
       "Ã¥Â Â±Ã¢ÂÂ Ã¥Â...</td>\n",
       "      <td>0</td>\n",
       "      <td>0</td>\n",
       "      <td>0</td>\n",
       "      <td>0</td>\n",
       "      <td>0</td>\n",
       "    </tr>\n",
       "    <tr>\n",
       "      <th>2017-10-01 19:59:00</th>\n",
       "      <td>Beyond # Bitcoin: The power struggle over trus...</td>\n",
       "      <td>0</td>\n",
       "      <td>0</td>\n",
       "      <td>-1</td>\n",
       "      <td>0</td>\n",
       "      <td>-1</td>\n",
       "    </tr>\n",
       "    <tr>\n",
       "      <th>2017-10-01 19:59:00</th>\n",
       "      <td>RT bitcoinagile \"The power struggle over trust...</td>\n",
       "      <td>0</td>\n",
       "      <td>0</td>\n",
       "      <td>-1</td>\n",
       "      <td>0</td>\n",
       "      <td>1</td>\n",
       "    </tr>\n",
       "    <tr>\n",
       "      <th>2017-10-01 19:59:00</th>\n",
       "      <td>The power struggle over trust-based technology...</td>\n",
       "      <td>0</td>\n",
       "      <td>0</td>\n",
       "      <td>-1</td>\n",
       "      <td>0</td>\n",
       "      <td>1</td>\n",
       "    </tr>\n",
       "    <tr>\n",
       "      <th>2017-10-01 19:58:00</th>\n",
       "      <td>Extremely bias. The whole # Bitcoin as a novel...</td>\n",
       "      <td>0</td>\n",
       "      <td>0</td>\n",
       "      <td>1</td>\n",
       "      <td>1</td>\n",
       "      <td>-1</td>\n",
       "    </tr>\n",
       "  </tbody>\n",
       "</table>\n",
       "</div>"
      ],
      "text/plain": [
       "                                                                  text  \\\n",
       "datem                                                                    \n",
       "2017-10-01 19:59:00  Ã¢ÂÂ Ã¤Â¾Â¡Ã¦Â Â¼Ã¥Â·Â®Ã¦ÂÂ\n",
       "Ã¥Â Â±Ã¢ÂÂ Ã¥Â...   \n",
       "2017-10-01 19:59:00  Beyond # Bitcoin: The power struggle over trus...   \n",
       "2017-10-01 19:59:00  RT bitcoinagile \"The power struggle over trust...   \n",
       "2017-10-01 19:59:00  The power struggle over trust-based technology...   \n",
       "2017-10-01 19:58:00  Extremely bias. The whole # Bitcoin as a novel...   \n",
       "\n",
       "                     Happy_emoji  Sad_emoji  Effective_Affin  \\\n",
       "datem                                                          \n",
       "2017-10-01 19:59:00            0          0                0   \n",
       "2017-10-01 19:59:00            0          0               -1   \n",
       "2017-10-01 19:59:00            0          0               -1   \n",
       "2017-10-01 19:59:00            0          0               -1   \n",
       "2017-10-01 19:58:00            0          0                1   \n",
       "\n",
       "                     Effective_TextBlob  Effective_Vader  \n",
       "datem                                                     \n",
       "2017-10-01 19:59:00                   0                0  \n",
       "2017-10-01 19:59:00                   0               -1  \n",
       "2017-10-01 19:59:00                   0                1  \n",
       "2017-10-01 19:59:00                   0                1  \n",
       "2017-10-01 19:58:00                   1               -1  "
      ]
     },
     "execution_count": 107,
     "metadata": {},
     "output_type": "execute_result"
    }
   ],
   "source": [
    "df.head()"
   ]
  },
  {
   "cell_type": "code",
   "execution_count": null,
   "metadata": {
    "collapsed": true
   },
   "outputs": [],
   "source": []
  },
  {
   "cell_type": "code",
   "execution_count": 108,
   "metadata": {
    "collapsed": true
   },
   "outputs": [],
   "source": [
    "df['all values'] = df[['Happy_emoji', 'Sad_emoji', 'Effective_Affin',\"Effective_TextBlob\", \"Effective_Vader\"]].values.tolist()"
   ]
  },
  {
   "cell_type": "code",
   "execution_count": 109,
   "metadata": {},
   "outputs": [
    {
     "data": {
      "text/html": [
       "<div>\n",
       "<style scoped>\n",
       "    .dataframe tbody tr th:only-of-type {\n",
       "        vertical-align: middle;\n",
       "    }\n",
       "\n",
       "    .dataframe tbody tr th {\n",
       "        vertical-align: top;\n",
       "    }\n",
       "\n",
       "    .dataframe thead th {\n",
       "        text-align: right;\n",
       "    }\n",
       "</style>\n",
       "<table border=\"1\" class=\"dataframe\">\n",
       "  <thead>\n",
       "    <tr style=\"text-align: right;\">\n",
       "      <th></th>\n",
       "      <th>text</th>\n",
       "      <th>Happy_emoji</th>\n",
       "      <th>Sad_emoji</th>\n",
       "      <th>Effective_Affin</th>\n",
       "      <th>Effective_TextBlob</th>\n",
       "      <th>Effective_Vader</th>\n",
       "      <th>all values</th>\n",
       "    </tr>\n",
       "    <tr>\n",
       "      <th>datem</th>\n",
       "      <th></th>\n",
       "      <th></th>\n",
       "      <th></th>\n",
       "      <th></th>\n",
       "      <th></th>\n",
       "      <th></th>\n",
       "      <th></th>\n",
       "    </tr>\n",
       "  </thead>\n",
       "  <tbody>\n",
       "    <tr>\n",
       "      <th>2017-10-01 19:59:00</th>\n",
       "      <td>Ã¢ÂÂ Ã¤Â¾Â¡Ã¦Â Â¼Ã¥Â·Â®Ã¦ÂÂ",
       "Ã¥Â Â±Ã¢ÂÂ Ã¥Â...</td>\n",
       "      <td>0</td>\n",
       "      <td>0</td>\n",
       "      <td>0</td>\n",
       "      <td>0</td>\n",
       "      <td>0</td>\n",
       "      <td>[0, 0, 0, 0, 0]</td>\n",
       "    </tr>\n",
       "    <tr>\n",
       "      <th>2017-10-01 19:59:00</th>\n",
       "      <td>Beyond # Bitcoin: The power struggle over trus...</td>\n",
       "      <td>0</td>\n",
       "      <td>0</td>\n",
       "      <td>-1</td>\n",
       "      <td>0</td>\n",
       "      <td>-1</td>\n",
       "      <td>[0, 0, -1, 0, -1]</td>\n",
       "    </tr>\n",
       "    <tr>\n",
       "      <th>2017-10-01 19:59:00</th>\n",
       "      <td>RT bitcoinagile \"The power struggle over trust...</td>\n",
       "      <td>0</td>\n",
       "      <td>0</td>\n",
       "      <td>-1</td>\n",
       "      <td>0</td>\n",
       "      <td>1</td>\n",
       "      <td>[0, 0, -1, 0, 1]</td>\n",
       "    </tr>\n",
       "    <tr>\n",
       "      <th>2017-10-01 19:59:00</th>\n",
       "      <td>The power struggle over trust-based technology...</td>\n",
       "      <td>0</td>\n",
       "      <td>0</td>\n",
       "      <td>-1</td>\n",
       "      <td>0</td>\n",
       "      <td>1</td>\n",
       "      <td>[0, 0, -1, 0, 1]</td>\n",
       "    </tr>\n",
       "    <tr>\n",
       "      <th>2017-10-01 19:58:00</th>\n",
       "      <td>Extremely bias. The whole # Bitcoin as a novel...</td>\n",
       "      <td>0</td>\n",
       "      <td>0</td>\n",
       "      <td>1</td>\n",
       "      <td>1</td>\n",
       "      <td>-1</td>\n",
       "      <td>[0, 0, 1, 1, -1]</td>\n",
       "    </tr>\n",
       "  </tbody>\n",
       "</table>\n",
       "</div>"
      ],
      "text/plain": [
       "                                                                  text  \\\n",
       "datem                                                                    \n",
       "2017-10-01 19:59:00  Ã¢ÂÂ Ã¤Â¾Â¡Ã¦Â Â¼Ã¥Â·Â®Ã¦ÂÂ\n",
       "Ã¥Â Â±Ã¢ÂÂ Ã¥Â...   \n",
       "2017-10-01 19:59:00  Beyond # Bitcoin: The power struggle over trus...   \n",
       "2017-10-01 19:59:00  RT bitcoinagile \"The power struggle over trust...   \n",
       "2017-10-01 19:59:00  The power struggle over trust-based technology...   \n",
       "2017-10-01 19:58:00  Extremely bias. The whole # Bitcoin as a novel...   \n",
       "\n",
       "                     Happy_emoji  Sad_emoji  Effective_Affin  \\\n",
       "datem                                                          \n",
       "2017-10-01 19:59:00            0          0                0   \n",
       "2017-10-01 19:59:00            0          0               -1   \n",
       "2017-10-01 19:59:00            0          0               -1   \n",
       "2017-10-01 19:59:00            0          0               -1   \n",
       "2017-10-01 19:58:00            0          0                1   \n",
       "\n",
       "                     Effective_TextBlob  Effective_Vader         all values  \n",
       "datem                                                                        \n",
       "2017-10-01 19:59:00                   0                0    [0, 0, 0, 0, 0]  \n",
       "2017-10-01 19:59:00                   0               -1  [0, 0, -1, 0, -1]  \n",
       "2017-10-01 19:59:00                   0                1   [0, 0, -1, 0, 1]  \n",
       "2017-10-01 19:59:00                   0                1   [0, 0, -1, 0, 1]  \n",
       "2017-10-01 19:58:00                   1               -1   [0, 0, 1, 1, -1]  "
      ]
     },
     "execution_count": 109,
     "metadata": {},
     "output_type": "execute_result"
    }
   ],
   "source": [
    "df.head()"
   ]
  },
  {
   "cell_type": "code",
   "execution_count": 115,
   "metadata": {
    "collapsed": true
   },
   "outputs": [],
   "source": [
    "def cal(x):\n",
    "    \n",
    "    y = 0\n",
    "    \n",
    "    if x[0] == 1:\n",
    "        y=1\n",
    "    \n",
    "    elif x[1] == 1:\n",
    "        y=-1\n",
    "    \n",
    "    elif x[2] + x[3] + x[4] >0:\n",
    "        y=1\n",
    "    \n",
    "    elif x[2] + x[3] + x[4] <0:\n",
    "        y=-1\n",
    "    \n",
    "    else:\n",
    "        y=0\n",
    "    \n",
    "    return y"
   ]
  },
  {
   "cell_type": "code",
   "execution_count": 116,
   "metadata": {
    "collapsed": true
   },
   "outputs": [],
   "source": [
    "df[\"effective_polarity\"] = df['all values'].apply(cal)"
   ]
  },
  {
   "cell_type": "code",
   "execution_count": 117,
   "metadata": {},
   "outputs": [
    {
     "data": {
      "text/html": [
       "<div>\n",
       "<style scoped>\n",
       "    .dataframe tbody tr th:only-of-type {\n",
       "        vertical-align: middle;\n",
       "    }\n",
       "\n",
       "    .dataframe tbody tr th {\n",
       "        vertical-align: top;\n",
       "    }\n",
       "\n",
       "    .dataframe thead th {\n",
       "        text-align: right;\n",
       "    }\n",
       "</style>\n",
       "<table border=\"1\" class=\"dataframe\">\n",
       "  <thead>\n",
       "    <tr style=\"text-align: right;\">\n",
       "      <th></th>\n",
       "      <th>text</th>\n",
       "      <th>Happy_emoji</th>\n",
       "      <th>Sad_emoji</th>\n",
       "      <th>Effective_Affin</th>\n",
       "      <th>Effective_TextBlob</th>\n",
       "      <th>Effective_Vader</th>\n",
       "      <th>all values</th>\n",
       "      <th>effective_polarity</th>\n",
       "    </tr>\n",
       "    <tr>\n",
       "      <th>datem</th>\n",
       "      <th></th>\n",
       "      <th></th>\n",
       "      <th></th>\n",
       "      <th></th>\n",
       "      <th></th>\n",
       "      <th></th>\n",
       "      <th></th>\n",
       "      <th></th>\n",
       "    </tr>\n",
       "  </thead>\n",
       "  <tbody>\n",
       "    <tr>\n",
       "      <th>2017-10-01 19:59:00</th>\n",
       "      <td>Ã¢ÂÂ Ã¤Â¾Â¡Ã¦Â Â¼Ã¥Â·Â®Ã¦ÂÂ",
       "Ã¥Â Â±Ã¢ÂÂ Ã¥Â...</td>\n",
       "      <td>0</td>\n",
       "      <td>0</td>\n",
       "      <td>0</td>\n",
       "      <td>0</td>\n",
       "      <td>0</td>\n",
       "      <td>[0, 0, 0, 0, 0]</td>\n",
       "      <td>0</td>\n",
       "    </tr>\n",
       "    <tr>\n",
       "      <th>2017-10-01 19:59:00</th>\n",
       "      <td>Beyond # Bitcoin: The power struggle over trus...</td>\n",
       "      <td>0</td>\n",
       "      <td>0</td>\n",
       "      <td>-1</td>\n",
       "      <td>0</td>\n",
       "      <td>-1</td>\n",
       "      <td>[0, 0, -1, 0, -1]</td>\n",
       "      <td>-1</td>\n",
       "    </tr>\n",
       "    <tr>\n",
       "      <th>2017-10-01 19:59:00</th>\n",
       "      <td>RT bitcoinagile \"The power struggle over trust...</td>\n",
       "      <td>0</td>\n",
       "      <td>0</td>\n",
       "      <td>-1</td>\n",
       "      <td>0</td>\n",
       "      <td>1</td>\n",
       "      <td>[0, 0, -1, 0, 1]</td>\n",
       "      <td>0</td>\n",
       "    </tr>\n",
       "    <tr>\n",
       "      <th>2017-10-01 19:59:00</th>\n",
       "      <td>The power struggle over trust-based technology...</td>\n",
       "      <td>0</td>\n",
       "      <td>0</td>\n",
       "      <td>-1</td>\n",
       "      <td>0</td>\n",
       "      <td>1</td>\n",
       "      <td>[0, 0, -1, 0, 1]</td>\n",
       "      <td>0</td>\n",
       "    </tr>\n",
       "    <tr>\n",
       "      <th>2017-10-01 19:58:00</th>\n",
       "      <td>Extremely bias. The whole # Bitcoin as a novel...</td>\n",
       "      <td>0</td>\n",
       "      <td>0</td>\n",
       "      <td>1</td>\n",
       "      <td>1</td>\n",
       "      <td>-1</td>\n",
       "      <td>[0, 0, 1, 1, -1]</td>\n",
       "      <td>1</td>\n",
       "    </tr>\n",
       "  </tbody>\n",
       "</table>\n",
       "</div>"
      ],
      "text/plain": [
       "                                                                  text  \\\n",
       "datem                                                                    \n",
       "2017-10-01 19:59:00  Ã¢ÂÂ Ã¤Â¾Â¡Ã¦Â Â¼Ã¥Â·Â®Ã¦ÂÂ\n",
       "Ã¥Â Â±Ã¢ÂÂ Ã¥Â...   \n",
       "2017-10-01 19:59:00  Beyond # Bitcoin: The power struggle over trus...   \n",
       "2017-10-01 19:59:00  RT bitcoinagile \"The power struggle over trust...   \n",
       "2017-10-01 19:59:00  The power struggle over trust-based technology...   \n",
       "2017-10-01 19:58:00  Extremely bias. The whole # Bitcoin as a novel...   \n",
       "\n",
       "                     Happy_emoji  Sad_emoji  Effective_Affin  \\\n",
       "datem                                                          \n",
       "2017-10-01 19:59:00            0          0                0   \n",
       "2017-10-01 19:59:00            0          0               -1   \n",
       "2017-10-01 19:59:00            0          0               -1   \n",
       "2017-10-01 19:59:00            0          0               -1   \n",
       "2017-10-01 19:58:00            0          0                1   \n",
       "\n",
       "                     Effective_TextBlob  Effective_Vader         all values  \\\n",
       "datem                                                                         \n",
       "2017-10-01 19:59:00                   0                0    [0, 0, 0, 0, 0]   \n",
       "2017-10-01 19:59:00                   0               -1  [0, 0, -1, 0, -1]   \n",
       "2017-10-01 19:59:00                   0                1   [0, 0, -1, 0, 1]   \n",
       "2017-10-01 19:59:00                   0                1   [0, 0, -1, 0, 1]   \n",
       "2017-10-01 19:58:00                   1               -1   [0, 0, 1, 1, -1]   \n",
       "\n",
       "                     effective_polarity  \n",
       "datem                                    \n",
       "2017-10-01 19:59:00                   0  \n",
       "2017-10-01 19:59:00                  -1  \n",
       "2017-10-01 19:59:00                   0  \n",
       "2017-10-01 19:59:00                   0  \n",
       "2017-10-01 19:58:00                   1  "
      ]
     },
     "execution_count": 117,
     "metadata": {},
     "output_type": "execute_result"
    }
   ],
   "source": [
    "df.head()"
   ]
  },
  {
   "cell_type": "code",
   "execution_count": 118,
   "metadata": {
    "collapsed": true
   },
   "outputs": [],
   "source": [
    "df.to_csv(\"effective_polarity.csv\")"
   ]
  },
  {
   "cell_type": "code",
   "execution_count": 119,
   "metadata": {
    "collapsed": true
   },
   "outputs": [],
   "source": [
    "dfe = df"
   ]
  },
  {
   "cell_type": "code",
   "execution_count": 128,
   "metadata": {
    "collapsed": true
   },
   "outputs": [],
   "source": [
    "dfe1 = dfe[[\"text\",\"effective_polarity\"]]"
   ]
  },
  {
   "cell_type": "code",
   "execution_count": 129,
   "metadata": {},
   "outputs": [
    {
     "data": {
      "text/html": [
       "<div>\n",
       "<style scoped>\n",
       "    .dataframe tbody tr th:only-of-type {\n",
       "        vertical-align: middle;\n",
       "    }\n",
       "\n",
       "    .dataframe tbody tr th {\n",
       "        vertical-align: top;\n",
       "    }\n",
       "\n",
       "    .dataframe thead th {\n",
       "        text-align: right;\n",
       "    }\n",
       "</style>\n",
       "<table border=\"1\" class=\"dataframe\">\n",
       "  <thead>\n",
       "    <tr style=\"text-align: right;\">\n",
       "      <th></th>\n",
       "      <th>text</th>\n",
       "      <th>effective_polarity</th>\n",
       "    </tr>\n",
       "    <tr>\n",
       "      <th>datem</th>\n",
       "      <th></th>\n",
       "      <th></th>\n",
       "    </tr>\n",
       "  </thead>\n",
       "  <tbody>\n",
       "    <tr>\n",
       "      <th>2017-10-01 19:59:00</th>\n",
       "      <td>Ã¢ÂÂ Ã¤Â¾Â¡Ã¦Â Â¼Ã¥Â·Â®Ã¦ÂÂ",
       "Ã¥Â Â±Ã¢ÂÂ Ã¥Â...</td>\n",
       "      <td>0</td>\n",
       "    </tr>\n",
       "    <tr>\n",
       "      <th>2017-10-01 19:59:00</th>\n",
       "      <td>Beyond # Bitcoin: The power struggle over trus...</td>\n",
       "      <td>-1</td>\n",
       "    </tr>\n",
       "    <tr>\n",
       "      <th>2017-10-01 19:59:00</th>\n",
       "      <td>RT bitcoinagile \"The power struggle over trust...</td>\n",
       "      <td>0</td>\n",
       "    </tr>\n",
       "    <tr>\n",
       "      <th>2017-10-01 19:59:00</th>\n",
       "      <td>The power struggle over trust-based technology...</td>\n",
       "      <td>0</td>\n",
       "    </tr>\n",
       "    <tr>\n",
       "      <th>2017-10-01 19:58:00</th>\n",
       "      <td>Extremely bias. The whole # Bitcoin as a novel...</td>\n",
       "      <td>1</td>\n",
       "    </tr>\n",
       "  </tbody>\n",
       "</table>\n",
       "</div>"
      ],
      "text/plain": [
       "                                                                  text  \\\n",
       "datem                                                                    \n",
       "2017-10-01 19:59:00  Ã¢ÂÂ Ã¤Â¾Â¡Ã¦Â Â¼Ã¥Â·Â®Ã¦ÂÂ\n",
       "Ã¥Â Â±Ã¢ÂÂ Ã¥Â...   \n",
       "2017-10-01 19:59:00  Beyond # Bitcoin: The power struggle over trus...   \n",
       "2017-10-01 19:59:00  RT bitcoinagile \"The power struggle over trust...   \n",
       "2017-10-01 19:59:00  The power struggle over trust-based technology...   \n",
       "2017-10-01 19:58:00  Extremely bias. The whole # Bitcoin as a novel...   \n",
       "\n",
       "                     effective_polarity  \n",
       "datem                                    \n",
       "2017-10-01 19:59:00                   0  \n",
       "2017-10-01 19:59:00                  -1  \n",
       "2017-10-01 19:59:00                   0  \n",
       "2017-10-01 19:59:00                   0  \n",
       "2017-10-01 19:58:00                   1  "
      ]
     },
     "execution_count": 129,
     "metadata": {},
     "output_type": "execute_result"
    }
   ],
   "source": [
    "dfe1.head()"
   ]
  },
  {
   "cell_type": "markdown",
   "metadata": {},
   "source": [
    "# Mean polarity on that particular day"
   ]
  },
  {
   "cell_type": "code",
   "execution_count": null,
   "metadata": {
    "collapsed": true
   },
   "outputs": [],
   "source": []
  },
  {
   "cell_type": "code",
   "execution_count": 130,
   "metadata": {
    "collapsed": true
   },
   "outputs": [],
   "source": [
    "dfe1 = dfe1.resample('D').mean()"
   ]
  },
  {
   "cell_type": "code",
   "execution_count": 131,
   "metadata": {},
   "outputs": [
    {
     "data": {
      "text/html": [
       "<div>\n",
       "<style scoped>\n",
       "    .dataframe tbody tr th:only-of-type {\n",
       "        vertical-align: middle;\n",
       "    }\n",
       "\n",
       "    .dataframe tbody tr th {\n",
       "        vertical-align: top;\n",
       "    }\n",
       "\n",
       "    .dataframe thead th {\n",
       "        text-align: right;\n",
       "    }\n",
       "</style>\n",
       "<table border=\"1\" class=\"dataframe\">\n",
       "  <thead>\n",
       "    <tr style=\"text-align: right;\">\n",
       "      <th></th>\n",
       "      <th>effective_polarity</th>\n",
       "    </tr>\n",
       "    <tr>\n",
       "      <th>datem</th>\n",
       "      <th></th>\n",
       "    </tr>\n",
       "  </thead>\n",
       "  <tbody>\n",
       "    <tr>\n",
       "      <th>2017-10-01</th>\n",
       "      <td>0.169826</td>\n",
       "    </tr>\n",
       "    <tr>\n",
       "      <th>2017-10-02</th>\n",
       "      <td>0.287026</td>\n",
       "    </tr>\n",
       "    <tr>\n",
       "      <th>2017-10-03</th>\n",
       "      <td>0.261023</td>\n",
       "    </tr>\n",
       "    <tr>\n",
       "      <th>2017-10-04</th>\n",
       "      <td>0.299756</td>\n",
       "    </tr>\n",
       "    <tr>\n",
       "      <th>2017-10-05</th>\n",
       "      <td>0.225421</td>\n",
       "    </tr>\n",
       "  </tbody>\n",
       "</table>\n",
       "</div>"
      ],
      "text/plain": [
       "            effective_polarity\n",
       "datem                         \n",
       "2017-10-01            0.169826\n",
       "2017-10-02            0.287026\n",
       "2017-10-03            0.261023\n",
       "2017-10-04            0.299756\n",
       "2017-10-05            0.225421"
      ]
     },
     "execution_count": 131,
     "metadata": {},
     "output_type": "execute_result"
    }
   ],
   "source": [
    "dfe1.head()"
   ]
  },
  {
   "cell_type": "code",
   "execution_count": 132,
   "metadata": {},
   "outputs": [
    {
     "data": {
      "text/plain": [
       "0.36964980544747084"
      ]
     },
     "execution_count": 132,
     "metadata": {},
     "output_type": "execute_result"
    }
   ],
   "source": [
    "dfe1[\"effective_polarity\"].max()"
   ]
  },
  {
   "cell_type": "code",
   "execution_count": 142,
   "metadata": {},
   "outputs": [
    {
     "data": {
      "text/plain": [
       "-0.1"
      ]
     },
     "execution_count": 142,
     "metadata": {},
     "output_type": "execute_result"
    }
   ],
   "source": [
    "dfe1[\"effective_polarity\"].min()"
   ]
  },
  {
   "cell_type": "code",
   "execution_count": 144,
   "metadata": {},
   "outputs": [
    {
     "data": {
      "image/png": "[encoded data removed]",
      "text/plain": [
       "<matplotlib.figure.Figure at 0x23718a89780>"
      ]
     },
     "metadata": {},
     "output_type": "display_data"
    }
   ],
   "source": [
    "plt.plot(dfe1[\"effective_polarity\"])\n",
    "plt.show()"
   ]
  },
  {
   "cell_type": "code",
   "execution_count": null,
   "metadata": {
    "collapsed": true
   },
   "outputs": [],
   "source": []
  },
  {
   "cell_type": "markdown",
   "metadata": {},
   "source": [
    "# Total polarity on that particular day"
   ]
  },
  {
   "cell_type": "code",
   "execution_count": null,
   "metadata": {
    "collapsed": true
   },
   "outputs": [],
   "source": []
  },
  {
   "cell_type": "code",
   "execution_count": 126,
   "metadata": {
    "collapsed": true
   },
   "outputs": [],
   "source": [
    "dfe2 = dfe[[\"text\",\"effective_polarity\"]]"
   ]
  },
  {
   "cell_type": "code",
   "execution_count": 134,
   "metadata": {
    "collapsed": true
   },
   "outputs": [],
   "source": [
    "dfe2 = dfe2.resample('D').sum()"
   ]
  },
  {
   "cell_type": "code",
   "execution_count": 135,
   "metadata": {},
   "outputs": [
    {
     "data": {
      "text/plain": [
       "12625"
      ]
     },
     "execution_count": 135,
     "metadata": {},
     "output_type": "execute_result"
    }
   ],
   "source": [
    "dfe2[\"effective_polarity\"].max()"
   ]
  },
  {
   "cell_type": "code",
   "execution_count": 136,
   "metadata": {},
   "outputs": [
    {
     "data": {
      "text/plain": [
       "-1"
      ]
     },
     "execution_count": 136,
     "metadata": {},
     "output_type": "execute_result"
    }
   ],
   "source": [
    "dfe2[\"effective_polarity\"].min()"
   ]
  },
  {
   "cell_type": "code",
   "execution_count": 141,
   "metadata": {},
   "outputs": [
    {
     "data": {
      "image/png": "[encoded data removed]",
      "text/plain": [
       "<matplotlib.figure.Figure at 0x23718248748>"
      ]
     },
     "metadata": {},
     "output_type": "display_data"
    }
   ],
   "source": [
    "plt.plot(dfe2[\"effective_polarity\"])\n",
    "plt.show()"
   ]
  },
  {
   "cell_type": "code",
   "execution_count": null,
   "metadata": {
    "collapsed": true
   },
   "outputs": [],
   "source": []
  },
  {
   "cell_type": "code",
   "execution_count": null,
   "metadata": {
    "collapsed": true
   },
   "outputs": [],
   "source": []
  },
  {
   "cell_type": "markdown",
   "metadata": {},
   "source": [
    "# Total number of tweets on particular day"
   ]
  },
  {
   "cell_type": "code",
   "execution_count": null,
   "metadata": {
    "collapsed": true
   },
   "outputs": [],
   "source": []
  },
  {
   "cell_type": "code",
   "execution_count": 137,
   "metadata": {
    "collapsed": true
   },
   "outputs": [],
   "source": [
    "dfe3 = dfe[[\"text\",\"effective_polarity\"]]"
   ]
  },
  {
   "cell_type": "code",
   "execution_count": 138,
   "metadata": {
    "collapsed": true
   },
   "outputs": [],
   "source": [
    "dfe3 = dfe3.resample('D').count()"
   ]
  },
  {
   "cell_type": "code",
   "execution_count": 139,
   "metadata": {},
   "outputs": [
    {
     "data": {
      "text/plain": [
       "42358"
      ]
     },
     "execution_count": 139,
     "metadata": {},
     "output_type": "execute_result"
    }
   ],
   "source": [
    "dfe3[\"effective_polarity\"].max()"
   ]
  },
  {
   "cell_type": "code",
   "execution_count": 140,
   "metadata": {},
   "outputs": [
    {
     "data": {
      "text/plain": [
       "0"
      ]
     },
     "execution_count": 140,
     "metadata": {},
     "output_type": "execute_result"
    }
   ],
   "source": [
    "dfe3[\"effective_polarity\"].min()"
   ]
  },
  {
   "cell_type": "code",
   "execution_count": 145,
   "metadata": {},
   "outputs": [
    {
     "data": {
      "text/html": [
       "<div>\n",
       "<style scoped>\n",
       "    .dataframe tbody tr th:only-of-type {\n",
       "        vertical-align: middle;\n",
       "    }\n",
       "\n",
       "    .dataframe tbody tr th {\n",
       "        vertical-align: top;\n",
       "    }\n",
       "\n",
       "    .dataframe thead th {\n",
       "        text-align: right;\n",
       "    }\n",
       "</style>\n",
       "<table border=\"1\" class=\"dataframe\">\n",
       "  <thead>\n",
       "    <tr style=\"text-align: right;\">\n",
       "      <th></th>\n",
       "      <th>text</th>\n",
       "      <th>effective_polarity</th>\n",
       "    </tr>\n",
       "    <tr>\n",
       "      <th>datem</th>\n",
       "      <th></th>\n",
       "      <th></th>\n",
       "    </tr>\n",
       "  </thead>\n",
       "  <tbody>\n",
       "    <tr>\n",
       "      <th>2017-10-01</th>\n",
       "      <td>2532</td>\n",
       "      <td>2532</td>\n",
       "    </tr>\n",
       "    <tr>\n",
       "      <th>2017-10-02</th>\n",
       "      <td>14814</td>\n",
       "      <td>14814</td>\n",
       "    </tr>\n",
       "    <tr>\n",
       "      <th>2017-10-03</th>\n",
       "      <td>19822</td>\n",
       "      <td>19822</td>\n",
       "    </tr>\n",
       "    <tr>\n",
       "      <th>2017-10-04</th>\n",
       "      <td>18882</td>\n",
       "      <td>18882</td>\n",
       "    </tr>\n",
       "    <tr>\n",
       "      <th>2017-10-05</th>\n",
       "      <td>13650</td>\n",
       "      <td>13650</td>\n",
       "    </tr>\n",
       "  </tbody>\n",
       "</table>\n",
       "</div>"
      ],
      "text/plain": [
       "             text  effective_polarity\n",
       "datem                                \n",
       "2017-10-01   2532                2532\n",
       "2017-10-02  14814               14814\n",
       "2017-10-03  19822               19822\n",
       "2017-10-04  18882               18882\n",
       "2017-10-05  13650               13650"
      ]
     },
     "execution_count": 145,
     "metadata": {},
     "output_type": "execute_result"
    }
   ],
   "source": [
    "dfe3.head()"
   ]
  },
  {
   "cell_type": "code",
   "execution_count": 146,
   "metadata": {},
   "outputs": [
    {
     "data": {
      "text/html": [
       "<div>\n",
       "<style scoped>\n",
       "    .dataframe tbody tr th:only-of-type {\n",
       "        vertical-align: middle;\n",
       "    }\n",
       "\n",
       "    .dataframe tbody tr th {\n",
       "        vertical-align: top;\n",
       "    }\n",
       "\n",
       "    .dataframe thead th {\n",
       "        text-align: right;\n",
       "    }\n",
       "</style>\n",
       "<table border=\"1\" class=\"dataframe\">\n",
       "  <thead>\n",
       "    <tr style=\"text-align: right;\">\n",
       "      <th></th>\n",
       "      <th>text</th>\n",
       "      <th>effective_polarity</th>\n",
       "    </tr>\n",
       "    <tr>\n",
       "      <th>datem</th>\n",
       "      <th></th>\n",
       "      <th></th>\n",
       "    </tr>\n",
       "  </thead>\n",
       "  <tbody>\n",
       "    <tr>\n",
       "      <th>2018-03-01</th>\n",
       "      <td>14294</td>\n",
       "      <td>14294</td>\n",
       "    </tr>\n",
       "    <tr>\n",
       "      <th>2018-03-02</th>\n",
       "      <td>16247</td>\n",
       "      <td>16247</td>\n",
       "    </tr>\n",
       "    <tr>\n",
       "      <th>2018-03-03</th>\n",
       "      <td>17478</td>\n",
       "      <td>17478</td>\n",
       "    </tr>\n",
       "    <tr>\n",
       "      <th>2018-03-04</th>\n",
       "      <td>9337</td>\n",
       "      <td>9337</td>\n",
       "    </tr>\n",
       "    <tr>\n",
       "      <th>2018-03-05</th>\n",
       "      <td>20290</td>\n",
       "      <td>20290</td>\n",
       "    </tr>\n",
       "  </tbody>\n",
       "</table>\n",
       "</div>"
      ],
      "text/plain": [
       "             text  effective_polarity\n",
       "datem                                \n",
       "2018-03-01  14294               14294\n",
       "2018-03-02  16247               16247\n",
       "2018-03-03  17478               17478\n",
       "2018-03-04   9337                9337\n",
       "2018-03-05  20290               20290"
      ]
     },
     "execution_count": 146,
     "metadata": {},
     "output_type": "execute_result"
    }
   ],
   "source": [
    "dfe3.tail()"
   ]
  },
  {
   "cell_type": "code",
   "execution_count": null,
   "metadata": {
    "collapsed": true
   },
   "outputs": [],
   "source": []
  },
  {
   "cell_type": "code",
   "execution_count": 158,
   "metadata": {},
   "outputs": [
    {
     "data": {
      "text/html": [
       "<div>\n",
       "<style scoped>\n",
       "    .dataframe tbody tr th:only-of-type {\n",
       "        vertical-align: middle;\n",
       "    }\n",
       "\n",
       "    .dataframe tbody tr th {\n",
       "        vertical-align: top;\n",
       "    }\n",
       "\n",
       "    .dataframe thead th {\n",
       "        text-align: right;\n",
       "    }\n",
       "</style>\n",
       "<table border=\"1\" class=\"dataframe\">\n",
       "  <thead>\n",
       "    <tr style=\"text-align: right;\">\n",
       "      <th></th>\n",
       "      <th>effective_polarity</th>\n",
       "    </tr>\n",
       "    <tr>\n",
       "      <th>datem</th>\n",
       "      <th></th>\n",
       "    </tr>\n",
       "  </thead>\n",
       "  <tbody>\n",
       "    <tr>\n",
       "      <th>2017-10-01</th>\n",
       "      <td>0.169826</td>\n",
       "    </tr>\n",
       "    <tr>\n",
       "      <th>2017-10-02</th>\n",
       "      <td>0.287026</td>\n",
       "    </tr>\n",
       "    <tr>\n",
       "      <th>2017-10-03</th>\n",
       "      <td>0.261023</td>\n",
       "    </tr>\n",
       "    <tr>\n",
       "      <th>2017-10-04</th>\n",
       "      <td>0.299756</td>\n",
       "    </tr>\n",
       "    <tr>\n",
       "      <th>2017-10-05</th>\n",
       "      <td>0.225421</td>\n",
       "    </tr>\n",
       "  </tbody>\n",
       "</table>\n",
       "</div>"
      ],
      "text/plain": [
       "            effective_polarity\n",
       "datem                         \n",
       "2017-10-01            0.169826\n",
       "2017-10-02            0.287026\n",
       "2017-10-03            0.261023\n",
       "2017-10-04            0.299756\n",
       "2017-10-05            0.225421"
      ]
     },
     "execution_count": 158,
     "metadata": {},
     "output_type": "execute_result"
    }
   ],
   "source": [
    "dfe1.head()"
   ]
  },
  {
   "cell_type": "code",
   "execution_count": 159,
   "metadata": {},
   "outputs": [
    {
     "data": {
      "text/html": [
       "<div>\n",
       "<style scoped>\n",
       "    .dataframe tbody tr th:only-of-type {\n",
       "        vertical-align: middle;\n",
       "    }\n",
       "\n",
       "    .dataframe tbody tr th {\n",
       "        vertical-align: top;\n",
       "    }\n",
       "\n",
       "    .dataframe thead th {\n",
       "        text-align: right;\n",
       "    }\n",
       "</style>\n",
       "<table border=\"1\" class=\"dataframe\">\n",
       "  <thead>\n",
       "    <tr style=\"text-align: right;\">\n",
       "      <th></th>\n",
       "      <th>BITSTAMP</th>\n",
       "      <th>COINBASE</th>\n",
       "      <th>ITBIT</th>\n",
       "      <th>KRAKEN</th>\n",
       "      <th>avg_btc_price_usd</th>\n",
       "    </tr>\n",
       "    <tr>\n",
       "      <th>Datem</th>\n",
       "      <th></th>\n",
       "      <th></th>\n",
       "      <th></th>\n",
       "      <th></th>\n",
       "      <th></th>\n",
       "    </tr>\n",
       "  </thead>\n",
       "  <tbody>\n",
       "    <tr>\n",
       "      <th>2017-10-01</th>\n",
       "      <td>4280.997098</td>\n",
       "      <td>4319.813188</td>\n",
       "      <td>4317.864094</td>\n",
       "      <td>4314.305295</td>\n",
       "      <td>4308.244919</td>\n",
       "    </tr>\n",
       "    <tr>\n",
       "      <th>2017-10-02</th>\n",
       "      <td>4394.013069</td>\n",
       "      <td>4402.536107</td>\n",
       "      <td>4396.562923</td>\n",
       "      <td>4409.721658</td>\n",
       "      <td>4400.708439</td>\n",
       "    </tr>\n",
       "    <tr>\n",
       "      <th>2017-10-03</th>\n",
       "      <td>4295.104231</td>\n",
       "      <td>4312.974604</td>\n",
       "      <td>4305.215903</td>\n",
       "      <td>4311.757087</td>\n",
       "      <td>4306.262956</td>\n",
       "    </tr>\n",
       "    <tr>\n",
       "      <th>2017-10-04</th>\n",
       "      <td>4233.863791</td>\n",
       "      <td>4243.672167</td>\n",
       "      <td>4256.070959</td>\n",
       "      <td>4250.842982</td>\n",
       "      <td>4246.112475</td>\n",
       "    </tr>\n",
       "    <tr>\n",
       "      <th>2017-10-05</th>\n",
       "      <td>4265.134362</td>\n",
       "      <td>4273.702994</td>\n",
       "      <td>4287.174560</td>\n",
       "      <td>4272.969262</td>\n",
       "      <td>4274.745294</td>\n",
       "    </tr>\n",
       "  </tbody>\n",
       "</table>\n",
       "</div>"
      ],
      "text/plain": [
       "               BITSTAMP     COINBASE        ITBIT       KRAKEN  \\\n",
       "Datem                                                            \n",
       "2017-10-01  4280.997098  4319.813188  4317.864094  4314.305295   \n",
       "2017-10-02  4394.013069  4402.536107  4396.562923  4409.721658   \n",
       "2017-10-03  4295.104231  4312.974604  4305.215903  4311.757087   \n",
       "2017-10-04  4233.863791  4243.672167  4256.070959  4250.842982   \n",
       "2017-10-05  4265.134362  4273.702994  4287.174560  4272.969262   \n",
       "\n",
       "            avg_btc_price_usd  \n",
       "Datem                          \n",
       "2017-10-01        4308.244919  \n",
       "2017-10-02        4400.708439  \n",
       "2017-10-03        4306.262956  \n",
       "2017-10-04        4246.112475  \n",
       "2017-10-05        4274.745294  "
      ]
     },
     "execution_count": 159,
     "metadata": {},
     "output_type": "execute_result"
    }
   ],
   "source": [
    "dfbf.head()"
   ]
  },
  {
   "cell_type": "code",
   "execution_count": 160,
   "metadata": {},
   "outputs": [
    {
     "data": {
      "image/png": "[encoded data removed]",
      "text/plain": [
       "<matplotlib.figure.Figure at 0x23718868a58>"
      ]
     },
     "metadata": {},
     "output_type": "display_data"
    }
   ],
   "source": [
    "plt.plot(dfbf[\"avg_btc_price_usd\"])\n",
    "plt.plot(dfe1[\"effective_polarity\"])\n",
    "plt.show()"
   ]
  },
  {
   "cell_type": "code",
   "execution_count": 161,
   "metadata": {},
   "outputs": [
    {
     "data": {
      "image/png": "[encoded data removed]",
      "text/plain": [
       "<matplotlib.figure.Figure at 0x23807bd6e10>"
      ]
     },
     "metadata": {},
     "output_type": "display_data"
    }
   ],
   "source": [
    "plt.plot(dfe1[\"effective_polarity\"])\n",
    "plt.show()"
   ]
  },
  {
   "cell_type": "code",
   "execution_count": 162,
   "metadata": {
    "collapsed": true
   },
   "outputs": [],
   "source": [
    "dfbff = (dfbf-dfbf.shift(1))/dfbf.shift(1)"
   ]
  },
  {
   "cell_type": "code",
   "execution_count": 163,
   "metadata": {},
   "outputs": [
    {
     "data": {
      "text/html": [
       "<div>\n",
       "<style scoped>\n",
       "    .dataframe tbody tr th:only-of-type {\n",
       "        vertical-align: middle;\n",
       "    }\n",
       "\n",
       "    .dataframe tbody tr th {\n",
       "        vertical-align: top;\n",
       "    }\n",
       "\n",
       "    .dataframe thead th {\n",
       "        text-align: right;\n",
       "    }\n",
       "</style>\n",
       "<table border=\"1\" class=\"dataframe\">\n",
       "  <thead>\n",
       "    <tr style=\"text-align: right;\">\n",
       "      <th></th>\n",
       "      <th>BITSTAMP</th>\n",
       "      <th>COINBASE</th>\n",
       "      <th>ITBIT</th>\n",
       "      <th>KRAKEN</th>\n",
       "      <th>avg_btc_price_usd</th>\n",
       "    </tr>\n",
       "    <tr>\n",
       "      <th>Datem</th>\n",
       "      <th></th>\n",
       "      <th></th>\n",
       "      <th></th>\n",
       "      <th></th>\n",
       "      <th></th>\n",
       "    </tr>\n",
       "  </thead>\n",
       "  <tbody>\n",
       "    <tr>\n",
       "      <th>2017-10-01</th>\n",
       "      <td>NaN</td>\n",
       "      <td>NaN</td>\n",
       "      <td>NaN</td>\n",
       "      <td>NaN</td>\n",
       "      <td>NaN</td>\n",
       "    </tr>\n",
       "    <tr>\n",
       "      <th>2017-10-02</th>\n",
       "      <td>0.026399</td>\n",
       "      <td>0.019150</td>\n",
       "      <td>0.018226</td>\n",
       "      <td>0.022116</td>\n",
       "      <td>0.021462</td>\n",
       "    </tr>\n",
       "    <tr>\n",
       "      <th>2017-10-03</th>\n",
       "      <td>-0.022510</td>\n",
       "      <td>-0.020343</td>\n",
       "      <td>-0.020777</td>\n",
       "      <td>-0.022216</td>\n",
       "      <td>-0.021461</td>\n",
       "    </tr>\n",
       "    <tr>\n",
       "      <th>2017-10-04</th>\n",
       "      <td>-0.014258</td>\n",
       "      <td>-0.016068</td>\n",
       "      <td>-0.011415</td>\n",
       "      <td>-0.014127</td>\n",
       "      <td>-0.013968</td>\n",
       "    </tr>\n",
       "    <tr>\n",
       "      <th>2017-10-05</th>\n",
       "      <td>0.007386</td>\n",
       "      <td>0.007077</td>\n",
       "      <td>0.007308</td>\n",
       "      <td>0.005205</td>\n",
       "      <td>0.006743</td>\n",
       "    </tr>\n",
       "  </tbody>\n",
       "</table>\n",
       "</div>"
      ],
      "text/plain": [
       "            BITSTAMP  COINBASE     ITBIT    KRAKEN  avg_btc_price_usd\n",
       "Datem                                                                \n",
       "2017-10-01       NaN       NaN       NaN       NaN                NaN\n",
       "2017-10-02  0.026399  0.019150  0.018226  0.022116           0.021462\n",
       "2017-10-03 -0.022510 -0.020343 -0.020777 -0.022216          -0.021461\n",
       "2017-10-04 -0.014258 -0.016068 -0.011415 -0.014127          -0.013968\n",
       "2017-10-05  0.007386  0.007077  0.007308  0.005205           0.006743"
      ]
     },
     "execution_count": 163,
     "metadata": {},
     "output_type": "execute_result"
    }
   ],
   "source": [
    "dfbff.head()"
   ]
  },
  {
   "cell_type": "code",
   "execution_count": 164,
   "metadata": {},
   "outputs": [
    {
     "data": {
      "image/png": "[encoded data removed]",
      "text/plain": [
       "<matplotlib.figure.Figure at 0x23807cf6e10>"
      ]
     },
     "metadata": {},
     "output_type": "display_data"
    }
   ],
   "source": [
    "plt.plot(dfbff[\"avg_btc_price_usd\"])\n",
    "plt.plot(dfe1[\"effective_polarity\"])\n",
    "plt.show()"
   ]
  },
  {
   "cell_type": "code",
   "execution_count": 165,
   "metadata": {},
   "outputs": [
    {
     "data": {
      "text/plain": [
       "0.1701849813727189"
      ]
     },
     "execution_count": 165,
     "metadata": {},
     "output_type": "execute_result"
    }
   ],
   "source": [
    "dfbff[\"avg_btc_price_usd\"].corr(dfe1[\"effective_polarity\"])"
   ]
  },
  {
   "cell_type": "code",
   "execution_count": 167,
   "metadata": {},
   "outputs": [
    {
     "data": {
      "text/plain": [
       "(156, 1)"
      ]
     },
     "execution_count": 167,
     "metadata": {},
     "output_type": "execute_result"
    }
   ],
   "source": [
    "dfe1.shape"
   ]
  },
  {
   "cell_type": "code",
   "execution_count": 168,
   "metadata": {},
   "outputs": [
    {
     "data": {
      "text/plain": [
       "(154, 5)"
      ]
     },
     "execution_count": 168,
     "metadata": {},
     "output_type": "execute_result"
    }
   ],
   "source": [
    "dfbff.shape"
   ]
  },
  {
   "cell_type": "code",
   "execution_count": 171,
   "metadata": {
    "collapsed": true
   },
   "outputs": [],
   "source": [
    "dfbff[\"sentiment\"] = dfe1[\"effective_polarity\"]"
   ]
  },
  {
   "cell_type": "code",
   "execution_count": 172,
   "metadata": {},
   "outputs": [
    {
     "data": {
      "text/html": [
       "<div>\n",
       "<style scoped>\n",
       "    .dataframe tbody tr th:only-of-type {\n",
       "        vertical-align: middle;\n",
       "    }\n",
       "\n",
       "    .dataframe tbody tr th {\n",
       "        vertical-align: top;\n",
       "    }\n",
       "\n",
       "    .dataframe thead th {\n",
       "        text-align: right;\n",
       "    }\n",
       "</style>\n",
       "<table border=\"1\" class=\"dataframe\">\n",
       "  <thead>\n",
       "    <tr style=\"text-align: right;\">\n",
       "      <th></th>\n",
       "      <th>BITSTAMP</th>\n",
       "      <th>COINBASE</th>\n",
       "      <th>ITBIT</th>\n",
       "      <th>KRAKEN</th>\n",
       "      <th>avg_btc_price_usd</th>\n",
       "      <th>sentiment</th>\n",
       "    </tr>\n",
       "    <tr>\n",
       "      <th>Datem</th>\n",
       "      <th></th>\n",
       "      <th></th>\n",
       "      <th></th>\n",
       "      <th></th>\n",
       "      <th></th>\n",
       "      <th></th>\n",
       "    </tr>\n",
       "  </thead>\n",
       "  <tbody>\n",
       "    <tr>\n",
       "      <th>2018-02-27</th>\n",
       "      <td>0.052853</td>\n",
       "      <td>0.050077</td>\n",
       "      <td>0.053942</td>\n",
       "      <td>0.059483</td>\n",
       "      <td>0.054082</td>\n",
       "      <td>NaN</td>\n",
       "    </tr>\n",
       "    <tr>\n",
       "      <th>2018-02-28</th>\n",
       "      <td>0.004514</td>\n",
       "      <td>0.009180</td>\n",
       "      <td>0.005285</td>\n",
       "      <td>0.002490</td>\n",
       "      <td>0.005364</td>\n",
       "      <td>0.284908</td>\n",
       "    </tr>\n",
       "    <tr>\n",
       "      <th>2018-03-01</th>\n",
       "      <td>0.009684</td>\n",
       "      <td>0.006379</td>\n",
       "      <td>0.005372</td>\n",
       "      <td>0.005281</td>\n",
       "      <td>0.006679</td>\n",
       "      <td>0.290472</td>\n",
       "    </tr>\n",
       "    <tr>\n",
       "      <th>2018-03-02</th>\n",
       "      <td>0.023587</td>\n",
       "      <td>0.025323</td>\n",
       "      <td>0.027652</td>\n",
       "      <td>0.028619</td>\n",
       "      <td>0.026291</td>\n",
       "      <td>0.276790</td>\n",
       "    </tr>\n",
       "    <tr>\n",
       "      <th>2018-03-03</th>\n",
       "      <td>0.031979</td>\n",
       "      <td>0.030006</td>\n",
       "      <td>0.029084</td>\n",
       "      <td>0.034396</td>\n",
       "      <td>0.031366</td>\n",
       "      <td>0.308388</td>\n",
       "    </tr>\n",
       "  </tbody>\n",
       "</table>\n",
       "</div>"
      ],
      "text/plain": [
       "            BITSTAMP  COINBASE     ITBIT    KRAKEN  avg_btc_price_usd  \\\n",
       "Datem                                                                   \n",
       "2018-02-27  0.052853  0.050077  0.053942  0.059483           0.054082   \n",
       "2018-02-28  0.004514  0.009180  0.005285  0.002490           0.005364   \n",
       "2018-03-01  0.009684  0.006379  0.005372  0.005281           0.006679   \n",
       "2018-03-02  0.023587  0.025323  0.027652  0.028619           0.026291   \n",
       "2018-03-03  0.031979  0.030006  0.029084  0.034396           0.031366   \n",
       "\n",
       "            sentiment  \n",
       "Datem                  \n",
       "2018-02-27        NaN  \n",
       "2018-02-28   0.284908  \n",
       "2018-03-01   0.290472  \n",
       "2018-03-02   0.276790  \n",
       "2018-03-03   0.308388  "
      ]
     },
     "execution_count": 172,
     "metadata": {},
     "output_type": "execute_result"
    }
   ],
   "source": [
    "dfbff.tail()"
   ]
  },
  {
   "cell_type": "code",
   "execution_count": 173,
   "metadata": {},
   "outputs": [
    {
     "data": {
      "text/html": [
       "<div>\n",
       "<style scoped>\n",
       "    .dataframe tbody tr th:only-of-type {\n",
       "        vertical-align: middle;\n",
       "    }\n",
       "\n",
       "    .dataframe tbody tr th {\n",
       "        vertical-align: top;\n",
       "    }\n",
       "\n",
       "    .dataframe thead th {\n",
       "        text-align: right;\n",
       "    }\n",
       "</style>\n",
       "<table border=\"1\" class=\"dataframe\">\n",
       "  <thead>\n",
       "    <tr style=\"text-align: right;\">\n",
       "      <th></th>\n",
       "      <th>BITSTAMP</th>\n",
       "      <th>COINBASE</th>\n",
       "      <th>ITBIT</th>\n",
       "      <th>KRAKEN</th>\n",
       "      <th>avg_btc_price_usd</th>\n",
       "      <th>sentiment</th>\n",
       "    </tr>\n",
       "    <tr>\n",
       "      <th>Datem</th>\n",
       "      <th></th>\n",
       "      <th></th>\n",
       "      <th></th>\n",
       "      <th></th>\n",
       "      <th></th>\n",
       "      <th></th>\n",
       "    </tr>\n",
       "  </thead>\n",
       "  <tbody>\n",
       "    <tr>\n",
       "      <th>2017-10-01</th>\n",
       "      <td>NaN</td>\n",
       "      <td>NaN</td>\n",
       "      <td>NaN</td>\n",
       "      <td>NaN</td>\n",
       "      <td>NaN</td>\n",
       "      <td>0.169826</td>\n",
       "    </tr>\n",
       "    <tr>\n",
       "      <th>2017-10-02</th>\n",
       "      <td>0.026399</td>\n",
       "      <td>0.019150</td>\n",
       "      <td>0.018226</td>\n",
       "      <td>0.022116</td>\n",
       "      <td>0.021462</td>\n",
       "      <td>0.287026</td>\n",
       "    </tr>\n",
       "    <tr>\n",
       "      <th>2017-10-03</th>\n",
       "      <td>-0.022510</td>\n",
       "      <td>-0.020343</td>\n",
       "      <td>-0.020777</td>\n",
       "      <td>-0.022216</td>\n",
       "      <td>-0.021461</td>\n",
       "      <td>0.261023</td>\n",
       "    </tr>\n",
       "    <tr>\n",
       "      <th>2017-10-04</th>\n",
       "      <td>-0.014258</td>\n",
       "      <td>-0.016068</td>\n",
       "      <td>-0.011415</td>\n",
       "      <td>-0.014127</td>\n",
       "      <td>-0.013968</td>\n",
       "      <td>0.299756</td>\n",
       "    </tr>\n",
       "    <tr>\n",
       "      <th>2017-10-05</th>\n",
       "      <td>0.007386</td>\n",
       "      <td>0.007077</td>\n",
       "      <td>0.007308</td>\n",
       "      <td>0.005205</td>\n",
       "      <td>0.006743</td>\n",
       "      <td>0.225421</td>\n",
       "    </tr>\n",
       "  </tbody>\n",
       "</table>\n",
       "</div>"
      ],
      "text/plain": [
       "            BITSTAMP  COINBASE     ITBIT    KRAKEN  avg_btc_price_usd  \\\n",
       "Datem                                                                   \n",
       "2017-10-01       NaN       NaN       NaN       NaN                NaN   \n",
       "2017-10-02  0.026399  0.019150  0.018226  0.022116           0.021462   \n",
       "2017-10-03 -0.022510 -0.020343 -0.020777 -0.022216          -0.021461   \n",
       "2017-10-04 -0.014258 -0.016068 -0.011415 -0.014127          -0.013968   \n",
       "2017-10-05  0.007386  0.007077  0.007308  0.005205           0.006743   \n",
       "\n",
       "            sentiment  \n",
       "Datem                  \n",
       "2017-10-01   0.169826  \n",
       "2017-10-02   0.287026  \n",
       "2017-10-03   0.261023  \n",
       "2017-10-04   0.299756  \n",
       "2017-10-05   0.225421  "
      ]
     },
     "execution_count": 173,
     "metadata": {},
     "output_type": "execute_result"
    }
   ],
   "source": [
    "dfbff.head()"
   ]
  },
  {
   "cell_type": "code",
   "execution_count": 238,
   "metadata": {
    "collapsed": true
   },
   "outputs": [],
   "source": [
    "dfa = dfbff[[\"avg_btc_price_usd\",\"sentiment\"]]"
   ]
  },
  {
   "cell_type": "code",
   "execution_count": 239,
   "metadata": {},
   "outputs": [
    {
     "data": {
      "text/html": [
       "<div>\n",
       "<style scoped>\n",
       "    .dataframe tbody tr th:only-of-type {\n",
       "        vertical-align: middle;\n",
       "    }\n",
       "\n",
       "    .dataframe tbody tr th {\n",
       "        vertical-align: top;\n",
       "    }\n",
       "\n",
       "    .dataframe thead th {\n",
       "        text-align: right;\n",
       "    }\n",
       "</style>\n",
       "<table border=\"1\" class=\"dataframe\">\n",
       "  <thead>\n",
       "    <tr style=\"text-align: right;\">\n",
       "      <th></th>\n",
       "      <th>avg_btc_price_usd</th>\n",
       "      <th>sentiment</th>\n",
       "    </tr>\n",
       "    <tr>\n",
       "      <th>Datem</th>\n",
       "      <th></th>\n",
       "      <th></th>\n",
       "    </tr>\n",
       "  </thead>\n",
       "  <tbody>\n",
       "    <tr>\n",
       "      <th>2017-10-01</th>\n",
       "      <td>NaN</td>\n",
       "      <td>0.169826</td>\n",
       "    </tr>\n",
       "    <tr>\n",
       "      <th>2017-10-02</th>\n",
       "      <td>0.021462</td>\n",
       "      <td>0.287026</td>\n",
       "    </tr>\n",
       "    <tr>\n",
       "      <th>2017-10-03</th>\n",
       "      <td>-0.021461</td>\n",
       "      <td>0.261023</td>\n",
       "    </tr>\n",
       "    <tr>\n",
       "      <th>2017-10-04</th>\n",
       "      <td>-0.013968</td>\n",
       "      <td>0.299756</td>\n",
       "    </tr>\n",
       "    <tr>\n",
       "      <th>2017-10-05</th>\n",
       "      <td>0.006743</td>\n",
       "      <td>0.225421</td>\n",
       "    </tr>\n",
       "  </tbody>\n",
       "</table>\n",
       "</div>"
      ],
      "text/plain": [
       "            avg_btc_price_usd  sentiment\n",
       "Datem                                   \n",
       "2017-10-01                NaN   0.169826\n",
       "2017-10-02           0.021462   0.287026\n",
       "2017-10-03          -0.021461   0.261023\n",
       "2017-10-04          -0.013968   0.299756\n",
       "2017-10-05           0.006743   0.225421"
      ]
     },
     "execution_count": 239,
     "metadata": {},
     "output_type": "execute_result"
    }
   ],
   "source": [
    "dfa.head()"
   ]
  },
  {
   "cell_type": "code",
   "execution_count": 240,
   "metadata": {},
   "outputs": [
    {
     "data": {
      "text/html": [
       "<div>\n",
       "<style scoped>\n",
       "    .dataframe tbody tr th:only-of-type {\n",
       "        vertical-align: middle;\n",
       "    }\n",
       "\n",
       "    .dataframe tbody tr th {\n",
       "        vertical-align: top;\n",
       "    }\n",
       "\n",
       "    .dataframe thead th {\n",
       "        text-align: right;\n",
       "    }\n",
       "</style>\n",
       "<table border=\"1\" class=\"dataframe\">\n",
       "  <thead>\n",
       "    <tr style=\"text-align: right;\">\n",
       "      <th></th>\n",
       "      <th>avg_btc_price_usd</th>\n",
       "      <th>sentiment</th>\n",
       "    </tr>\n",
       "    <tr>\n",
       "      <th>Datem</th>\n",
       "      <th></th>\n",
       "      <th></th>\n",
       "    </tr>\n",
       "  </thead>\n",
       "  <tbody>\n",
       "    <tr>\n",
       "      <th>2018-02-27</th>\n",
       "      <td>0.054082</td>\n",
       "      <td>NaN</td>\n",
       "    </tr>\n",
       "    <tr>\n",
       "      <th>2018-02-28</th>\n",
       "      <td>0.005364</td>\n",
       "      <td>0.284908</td>\n",
       "    </tr>\n",
       "    <tr>\n",
       "      <th>2018-03-01</th>\n",
       "      <td>0.006679</td>\n",
       "      <td>0.290472</td>\n",
       "    </tr>\n",
       "    <tr>\n",
       "      <th>2018-03-02</th>\n",
       "      <td>0.026291</td>\n",
       "      <td>0.276790</td>\n",
       "    </tr>\n",
       "    <tr>\n",
       "      <th>2018-03-03</th>\n",
       "      <td>0.031366</td>\n",
       "      <td>0.308388</td>\n",
       "    </tr>\n",
       "  </tbody>\n",
       "</table>\n",
       "</div>"
      ],
      "text/plain": [
       "            avg_btc_price_usd  sentiment\n",
       "Datem                                   \n",
       "2018-02-27           0.054082        NaN\n",
       "2018-02-28           0.005364   0.284908\n",
       "2018-03-01           0.006679   0.290472\n",
       "2018-03-02           0.026291   0.276790\n",
       "2018-03-03           0.031366   0.308388"
      ]
     },
     "execution_count": 240,
     "metadata": {},
     "output_type": "execute_result"
    }
   ],
   "source": [
    "dfa.tail()"
   ]
  },
  {
   "cell_type": "code",
   "execution_count": 209,
   "metadata": {
    "collapsed": true
   },
   "outputs": [],
   "source": [
    "a1 = dfa[\"avg_btc_price_usd\"].mean()"
   ]
  },
  {
   "cell_type": "code",
   "execution_count": 210,
   "metadata": {
    "collapsed": true
   },
   "outputs": [],
   "source": [
    "a2 = dfa[\"sentiment\"].mean()"
   ]
  },
  {
   "cell_type": "code",
   "execution_count": 192,
   "metadata": {},
   "outputs": [
    {
     "data": {
      "text/plain": [
       "0.26394613564285174"
      ]
     },
     "execution_count": 192,
     "metadata": {},
     "output_type": "execute_result"
    }
   ],
   "source": [
    "a1\n",
    "a2"
   ]
  },
  {
   "cell_type": "code",
   "execution_count": null,
   "metadata": {
    "collapsed": true
   },
   "outputs": [],
   "source": []
  },
  {
   "cell_type": "code",
   "execution_count": 212,
   "metadata": {},
   "outputs": [
    {
     "data": {
      "text/plain": [
       "avg_btc_price_usd    1\n",
       "sentiment            1\n",
       "dtype: int64"
      ]
     },
     "execution_count": 212,
     "metadata": {},
     "output_type": "execute_result"
    }
   ],
   "source": [
    "dfa.isnull().sum()"
   ]
  },
  {
   "cell_type": "code",
   "execution_count": 214,
   "metadata": {},
   "outputs": [
    {
     "data": {
      "image/png": "[encoded data removed]",
      "text/plain": [
       "<matplotlib.figure.Figure at 0x23807cedc50>"
      ]
     },
     "metadata": {},
     "output_type": "display_data"
    }
   ],
   "source": [
    "sns.regplot(x= dfa['sentiment'], y = dfa['avg_btc_price_usd'])\n",
    "plt.show()\n"
   ]
  },
  {
   "cell_type": "code",
   "execution_count": 215,
   "metadata": {},
   "outputs": [
    {
     "data": {
      "image/png": "[encoded data removed]",
      "text/plain": [
       "<matplotlib.figure.Figure at 0x23807cede80>"
      ]
     },
     "metadata": {},
     "output_type": "display_data"
    }
   ],
   "source": [
    "sns.regplot(y= dfa['sentiment'], x = dfa['avg_btc_price_usd'])\n",
    "plt.show()"
   ]
  },
  {
   "cell_type": "code",
   "execution_count": 220,
   "metadata": {},
   "outputs": [
    {
     "data": {
      "text/html": [
       "<div>\n",
       "<style scoped>\n",
       "    .dataframe tbody tr th:only-of-type {\n",
       "        vertical-align: middle;\n",
       "    }\n",
       "\n",
       "    .dataframe tbody tr th {\n",
       "        vertical-align: top;\n",
       "    }\n",
       "\n",
       "    .dataframe thead th {\n",
       "        text-align: right;\n",
       "    }\n",
       "</style>\n",
       "<table border=\"1\" class=\"dataframe\">\n",
       "  <thead>\n",
       "    <tr style=\"text-align: right;\">\n",
       "      <th></th>\n",
       "      <th>avg_btc_price_usd</th>\n",
       "      <th>sentiment</th>\n",
       "    </tr>\n",
       "  </thead>\n",
       "  <tbody>\n",
       "    <tr>\n",
       "      <th>avg_btc_price_usd</th>\n",
       "      <td>1.000000</td>\n",
       "      <td>0.170185</td>\n",
       "    </tr>\n",
       "    <tr>\n",
       "      <th>sentiment</th>\n",
       "      <td>0.170185</td>\n",
       "      <td>1.000000</td>\n",
       "    </tr>\n",
       "  </tbody>\n",
       "</table>\n",
       "</div>"
      ],
      "text/plain": [
       "                   avg_btc_price_usd  sentiment\n",
       "avg_btc_price_usd           1.000000   0.170185\n",
       "sentiment                   0.170185   1.000000"
      ]
     },
     "execution_count": 220,
     "metadata": {},
     "output_type": "execute_result"
    }
   ],
   "source": [
    "dfa.corr()\n"
   ]
  },
  {
   "cell_type": "code",
   "execution_count": 222,
   "metadata": {},
   "outputs": [
    {
     "data": {
      "text/html": [
       "<div>\n",
       "<style scoped>\n",
       "    .dataframe tbody tr th:only-of-type {\n",
       "        vertical-align: middle;\n",
       "    }\n",
       "\n",
       "    .dataframe tbody tr th {\n",
       "        vertical-align: top;\n",
       "    }\n",
       "\n",
       "    .dataframe thead th {\n",
       "        text-align: right;\n",
       "    }\n",
       "</style>\n",
       "<table border=\"1\" class=\"dataframe\">\n",
       "  <thead>\n",
       "    <tr style=\"text-align: right;\">\n",
       "      <th></th>\n",
       "      <th>avg_btc_price_usd</th>\n",
       "      <th>sentiment</th>\n",
       "    </tr>\n",
       "    <tr>\n",
       "      <th>Datem</th>\n",
       "      <th></th>\n",
       "      <th></th>\n",
       "    </tr>\n",
       "  </thead>\n",
       "  <tbody>\n",
       "    <tr>\n",
       "      <th>2017-10-01</th>\n",
       "      <td>NaN</td>\n",
       "      <td>0.169826</td>\n",
       "    </tr>\n",
       "    <tr>\n",
       "      <th>2017-10-02</th>\n",
       "      <td>0.021462</td>\n",
       "      <td>0.287026</td>\n",
       "    </tr>\n",
       "    <tr>\n",
       "      <th>2017-10-03</th>\n",
       "      <td>-0.021461</td>\n",
       "      <td>0.261023</td>\n",
       "    </tr>\n",
       "    <tr>\n",
       "      <th>2017-10-04</th>\n",
       "      <td>-0.013968</td>\n",
       "      <td>0.299756</td>\n",
       "    </tr>\n",
       "    <tr>\n",
       "      <th>2017-10-05</th>\n",
       "      <td>0.006743</td>\n",
       "      <td>0.225421</td>\n",
       "    </tr>\n",
       "  </tbody>\n",
       "</table>\n",
       "</div>"
      ],
      "text/plain": [
       "            avg_btc_price_usd  sentiment\n",
       "Datem                                   \n",
       "2017-10-01                NaN   0.169826\n",
       "2017-10-02           0.021462   0.287026\n",
       "2017-10-03          -0.021461   0.261023\n",
       "2017-10-04          -0.013968   0.299756\n",
       "2017-10-05           0.006743   0.225421"
      ]
     },
     "execution_count": 222,
     "metadata": {},
     "output_type": "execute_result"
    }
   ],
   "source": [
    "dfa.head()"
   ]
  },
  {
   "cell_type": "code",
   "execution_count": 270,
   "metadata": {
    "collapsed": true
   },
   "outputs": [],
   "source": [
    "def fin(x):\n",
    "    if x > 0:\n",
    "        y = 1\n",
    "    else:\n",
    "        y = -1\n",
    "    return y"
   ]
  },
  {
   "cell_type": "code",
   "execution_count": 229,
   "metadata": {},
   "outputs": [
    {
     "name": "stderr",
     "output_type": "stream",
     "text": [
      "C:\\Users\\jeeva\\Anaconda3\\envs\\py35\\lib\\site-packages\\ipykernel\\__main__.py:1: SettingWithCopyWarning: \n",
      "A value is trying to be set on a copy of a slice from a DataFrame.\n",
      "Try using .loc[row_indexer,col_indexer] = value instead\n",
      "\n",
      "See the caveats in the documentation: http://pandas.pydata.org/pandas-docs/stable/indexing.html#indexing-view-versus-copy\n",
      "  if __name__ == '__main__':\n"
     ]
    }
   ],
   "source": [
    "dfa[\"change in price\"] = dfa[\"avg_btc_price_usd\"].apply(fin)"
   ]
  },
  {
   "cell_type": "code",
   "execution_count": 230,
   "metadata": {},
   "outputs": [
    {
     "name": "stderr",
     "output_type": "stream",
     "text": [
      "C:\\Users\\jeeva\\Anaconda3\\envs\\py35\\lib\\site-packages\\ipykernel\\__main__.py:1: SettingWithCopyWarning: \n",
      "A value is trying to be set on a copy of a slice from a DataFrame.\n",
      "Try using .loc[row_indexer,col_indexer] = value instead\n",
      "\n",
      "See the caveats in the documentation: http://pandas.pydata.org/pandas-docs/stable/indexing.html#indexing-view-versus-copy\n",
      "  if __name__ == '__main__':\n"
     ]
    }
   ],
   "source": [
    "dfa[\"polarity_sentment\"] = dfa[\"sentiment\"].apply(fin)"
   ]
  },
  {
   "cell_type": "code",
   "execution_count": 231,
   "metadata": {},
   "outputs": [
    {
     "data": {
      "text/html": [
       "<div>\n",
       "<style scoped>\n",
       "    .dataframe tbody tr th:only-of-type {\n",
       "        vertical-align: middle;\n",
       "    }\n",
       "\n",
       "    .dataframe tbody tr th {\n",
       "        vertical-align: top;\n",
       "    }\n",
       "\n",
       "    .dataframe thead th {\n",
       "        text-align: right;\n",
       "    }\n",
       "</style>\n",
       "<table border=\"1\" class=\"dataframe\">\n",
       "  <thead>\n",
       "    <tr style=\"text-align: right;\">\n",
       "      <th></th>\n",
       "      <th>avg_btc_price_usd</th>\n",
       "      <th>sentiment</th>\n",
       "      <th>change in price</th>\n",
       "      <th>polarity_sentment</th>\n",
       "    </tr>\n",
       "    <tr>\n",
       "      <th>Datem</th>\n",
       "      <th></th>\n",
       "      <th></th>\n",
       "      <th></th>\n",
       "      <th></th>\n",
       "    </tr>\n",
       "  </thead>\n",
       "  <tbody>\n",
       "    <tr>\n",
       "      <th>2017-10-01</th>\n",
       "      <td>NaN</td>\n",
       "      <td>0.169826</td>\n",
       "      <td>-1</td>\n",
       "      <td>-1</td>\n",
       "    </tr>\n",
       "    <tr>\n",
       "      <th>2017-10-02</th>\n",
       "      <td>0.021462</td>\n",
       "      <td>0.287026</td>\n",
       "      <td>-1</td>\n",
       "      <td>-1</td>\n",
       "    </tr>\n",
       "    <tr>\n",
       "      <th>2017-10-03</th>\n",
       "      <td>-0.021461</td>\n",
       "      <td>0.261023</td>\n",
       "      <td>1</td>\n",
       "      <td>-1</td>\n",
       "    </tr>\n",
       "    <tr>\n",
       "      <th>2017-10-04</th>\n",
       "      <td>-0.013968</td>\n",
       "      <td>0.299756</td>\n",
       "      <td>1</td>\n",
       "      <td>-1</td>\n",
       "    </tr>\n",
       "    <tr>\n",
       "      <th>2017-10-05</th>\n",
       "      <td>0.006743</td>\n",
       "      <td>0.225421</td>\n",
       "      <td>-1</td>\n",
       "      <td>-1</td>\n",
       "    </tr>\n",
       "  </tbody>\n",
       "</table>\n",
       "</div>"
      ],
      "text/plain": [
       "            avg_btc_price_usd  sentiment  change in price  polarity_sentment\n",
       "Datem                                                                       \n",
       "2017-10-01                NaN   0.169826               -1                 -1\n",
       "2017-10-02           0.021462   0.287026               -1                 -1\n",
       "2017-10-03          -0.021461   0.261023                1                 -1\n",
       "2017-10-04          -0.013968   0.299756                1                 -1\n",
       "2017-10-05           0.006743   0.225421               -1                 -1"
      ]
     },
     "execution_count": 231,
     "metadata": {},
     "output_type": "execute_result"
    }
   ],
   "source": [
    "dfa.head()"
   ]
  },
  {
   "cell_type": "code",
   "execution_count": 232,
   "metadata": {
    "collapsed": true
   },
   "outputs": [],
   "source": [
    "from sklearn.metrics import confusion_matrix"
   ]
  },
  {
   "cell_type": "code",
   "execution_count": 234,
   "metadata": {},
   "outputs": [
    {
     "data": {
      "text/plain": [
       "array([[89,  1],\n",
       "       [64,  0]], dtype=int64)"
      ]
     },
     "execution_count": 234,
     "metadata": {},
     "output_type": "execute_result"
    }
   ],
   "source": [
    "confusion_matrix(dfa[\"change in price\"], dfa[\"polarity_sentment\"])"
   ]
  },
  {
   "cell_type": "code",
   "execution_count": 235,
   "metadata": {},
   "outputs": [
    {
     "data": {
      "text/plain": [
       "0.577922077922078"
      ]
     },
     "execution_count": 235,
     "metadata": {},
     "output_type": "execute_result"
    }
   ],
   "source": [
    "89/(90+64)"
   ]
  },
  {
   "cell_type": "code",
   "execution_count": 245,
   "metadata": {},
   "outputs": [
    {
     "data": {
      "text/html": [
       "<div>\n",
       "<style scoped>\n",
       "    .dataframe tbody tr th:only-of-type {\n",
       "        vertical-align: middle;\n",
       "    }\n",
       "\n",
       "    .dataframe tbody tr th {\n",
       "        vertical-align: top;\n",
       "    }\n",
       "\n",
       "    .dataframe thead th {\n",
       "        text-align: right;\n",
       "    }\n",
       "</style>\n",
       "<table border=\"1\" class=\"dataframe\">\n",
       "  <thead>\n",
       "    <tr style=\"text-align: right;\">\n",
       "      <th></th>\n",
       "      <th>avg_btc_price_usd</th>\n",
       "      <th>sentiment</th>\n",
       "    </tr>\n",
       "    <tr>\n",
       "      <th>Datem</th>\n",
       "      <th></th>\n",
       "      <th></th>\n",
       "    </tr>\n",
       "  </thead>\n",
       "  <tbody>\n",
       "    <tr>\n",
       "      <th>2017-10-01</th>\n",
       "      <td>NaN</td>\n",
       "      <td>0.169826</td>\n",
       "    </tr>\n",
       "    <tr>\n",
       "      <th>2017-10-02</th>\n",
       "      <td>0.021462</td>\n",
       "      <td>0.287026</td>\n",
       "    </tr>\n",
       "    <tr>\n",
       "      <th>2017-10-03</th>\n",
       "      <td>-0.021461</td>\n",
       "      <td>0.261023</td>\n",
       "    </tr>\n",
       "    <tr>\n",
       "      <th>2017-10-04</th>\n",
       "      <td>-0.013968</td>\n",
       "      <td>0.299756</td>\n",
       "    </tr>\n",
       "    <tr>\n",
       "      <th>2017-10-05</th>\n",
       "      <td>0.006743</td>\n",
       "      <td>0.225421</td>\n",
       "    </tr>\n",
       "  </tbody>\n",
       "</table>\n",
       "</div>"
      ],
      "text/plain": [
       "            avg_btc_price_usd  sentiment\n",
       "Datem                                   \n",
       "2017-10-01                NaN   0.169826\n",
       "2017-10-02           0.021462   0.287026\n",
       "2017-10-03          -0.021461   0.261023\n",
       "2017-10-04          -0.013968   0.299756\n",
       "2017-10-05           0.006743   0.225421"
      ]
     },
     "execution_count": 245,
     "metadata": {},
     "output_type": "execute_result"
    }
   ],
   "source": [
    "dfa.head()"
   ]
  },
  {
   "cell_type": "code",
   "execution_count": 253,
   "metadata": {
    "collapsed": true
   },
   "outputs": [],
   "source": [
    "dfa = dfa.fillna(dfa.mean())"
   ]
  },
  {
   "cell_type": "code",
   "execution_count": 254,
   "metadata": {},
   "outputs": [
    {
     "data": {
      "text/plain": [
       "avg_btc_price_usd    0\n",
       "sentiment            0\n",
       "dtype: int64"
      ]
     },
     "execution_count": 254,
     "metadata": {},
     "output_type": "execute_result"
    }
   ],
   "source": [
    "dfa.isnull().sum()"
   ]
  },
  {
   "cell_type": "code",
   "execution_count": 255,
   "metadata": {
    "collapsed": true
   },
   "outputs": [],
   "source": [
    "from sklearn import preprocessing"
   ]
  },
  {
   "cell_type": "code",
   "execution_count": 256,
   "metadata": {
    "collapsed": true
   },
   "outputs": [],
   "source": [
    "scaler = preprocessing.StandardScaler()"
   ]
  },
  {
   "cell_type": "code",
   "execution_count": 257,
   "metadata": {
    "collapsed": true
   },
   "outputs": [],
   "source": [
    "scaled_dfa = scaler.fit_transform(dfa)"
   ]
  },
  {
   "cell_type": "code",
   "execution_count": 258,
   "metadata": {},
   "outputs": [
    {
     "data": {
      "image/png": "[encoded data removed]",
      "text/plain": [
       "<matplotlib.figure.Figure at 0x237187d47b8>"
      ]
     },
     "metadata": {},
     "output_type": "display_data"
    }
   ],
   "source": [
    "sns.regplot(y= dfa['sentiment'], x = dfa['avg_btc_price_usd'])\n",
    "plt.show()"
   ]
  },
  {
   "cell_type": "code",
   "execution_count": 261,
   "metadata": {},
   "outputs": [
    {
     "data": {
      "text/html": [
       "<div>\n",
       "<style scoped>\n",
       "    .dataframe tbody tr th:only-of-type {\n",
       "        vertical-align: middle;\n",
       "    }\n",
       "\n",
       "    .dataframe tbody tr th {\n",
       "        vertical-align: top;\n",
       "    }\n",
       "\n",
       "    .dataframe thead th {\n",
       "        text-align: right;\n",
       "    }\n",
       "</style>\n",
       "<table border=\"1\" class=\"dataframe\">\n",
       "  <thead>\n",
       "    <tr style=\"text-align: right;\">\n",
       "      <th></th>\n",
       "      <th>avg_btc_price_usd</th>\n",
       "      <th>sentiment</th>\n",
       "    </tr>\n",
       "  </thead>\n",
       "  <tbody>\n",
       "    <tr>\n",
       "      <th>avg_btc_price_usd</th>\n",
       "      <td>1.000000</td>\n",
       "      <td>0.167655</td>\n",
       "    </tr>\n",
       "    <tr>\n",
       "      <th>sentiment</th>\n",
       "      <td>0.167655</td>\n",
       "      <td>1.000000</td>\n",
       "    </tr>\n",
       "  </tbody>\n",
       "</table>\n",
       "</div>"
      ],
      "text/plain": [
       "                   avg_btc_price_usd  sentiment\n",
       "avg_btc_price_usd           1.000000   0.167655\n",
       "sentiment                   0.167655   1.000000"
      ]
     },
     "execution_count": 261,
     "metadata": {},
     "output_type": "execute_result"
    }
   ],
   "source": [
    "dfa.corr()"
   ]
  },
  {
   "cell_type": "code",
   "execution_count": 263,
   "metadata": {},
   "outputs": [
    {
     "data": {
      "text/html": [
       "<div>\n",
       "<style scoped>\n",
       "    .dataframe tbody tr th:only-of-type {\n",
       "        vertical-align: middle;\n",
       "    }\n",
       "\n",
       "    .dataframe tbody tr th {\n",
       "        vertical-align: top;\n",
       "    }\n",
       "\n",
       "    .dataframe thead th {\n",
       "        text-align: right;\n",
       "    }\n",
       "</style>\n",
       "<table border=\"1\" class=\"dataframe\">\n",
       "  <thead>\n",
       "    <tr style=\"text-align: right;\">\n",
       "      <th></th>\n",
       "      <th>avg_btc_price_usd</th>\n",
       "      <th>sentiment</th>\n",
       "    </tr>\n",
       "    <tr>\n",
       "      <th>Datem</th>\n",
       "      <th></th>\n",
       "      <th></th>\n",
       "    </tr>\n",
       "  </thead>\n",
       "  <tbody>\n",
       "    <tr>\n",
       "      <th>2017-10-01</th>\n",
       "      <td>0.007837</td>\n",
       "      <td>0.169826</td>\n",
       "    </tr>\n",
       "    <tr>\n",
       "      <th>2017-10-02</th>\n",
       "      <td>0.021462</td>\n",
       "      <td>0.287026</td>\n",
       "    </tr>\n",
       "    <tr>\n",
       "      <th>2017-10-03</th>\n",
       "      <td>-0.021461</td>\n",
       "      <td>0.261023</td>\n",
       "    </tr>\n",
       "    <tr>\n",
       "      <th>2017-10-04</th>\n",
       "      <td>-0.013968</td>\n",
       "      <td>0.299756</td>\n",
       "    </tr>\n",
       "    <tr>\n",
       "      <th>2017-10-05</th>\n",
       "      <td>0.006743</td>\n",
       "      <td>0.225421</td>\n",
       "    </tr>\n",
       "  </tbody>\n",
       "</table>\n",
       "</div>"
      ],
      "text/plain": [
       "            avg_btc_price_usd  sentiment\n",
       "Datem                                   \n",
       "2017-10-01           0.007837   0.169826\n",
       "2017-10-02           0.021462   0.287026\n",
       "2017-10-03          -0.021461   0.261023\n",
       "2017-10-04          -0.013968   0.299756\n",
       "2017-10-05           0.006743   0.225421"
      ]
     },
     "execution_count": 263,
     "metadata": {},
     "output_type": "execute_result"
    }
   ],
   "source": [
    "dfa.head()"
   ]
  },
  {
   "cell_type": "code",
   "execution_count": 264,
   "metadata": {},
   "outputs": [
    {
     "data": {
      "text/plain": [
       "0.26394613564285174"
      ]
     },
     "execution_count": 264,
     "metadata": {},
     "output_type": "execute_result"
    }
   ],
   "source": [
    "dfa[\"sentiment\"].mean()"
   ]
  },
  {
   "cell_type": "code",
   "execution_count": 265,
   "metadata": {
    "collapsed": true
   },
   "outputs": [],
   "source": [
    "dfa[\"sentiment\"] = dfa[\"sentiment\"]- 0.264"
   ]
  },
  {
   "cell_type": "code",
   "execution_count": 266,
   "metadata": {},
   "outputs": [
    {
     "data": {
      "text/html": [
       "<div>\n",
       "<style scoped>\n",
       "    .dataframe tbody tr th:only-of-type {\n",
       "        vertical-align: middle;\n",
       "    }\n",
       "\n",
       "    .dataframe tbody tr th {\n",
       "        vertical-align: top;\n",
       "    }\n",
       "\n",
       "    .dataframe thead th {\n",
       "        text-align: right;\n",
       "    }\n",
       "</style>\n",
       "<table border=\"1\" class=\"dataframe\">\n",
       "  <thead>\n",
       "    <tr style=\"text-align: right;\">\n",
       "      <th></th>\n",
       "      <th>avg_btc_price_usd</th>\n",
       "      <th>sentiment</th>\n",
       "    </tr>\n",
       "    <tr>\n",
       "      <th>Datem</th>\n",
       "      <th></th>\n",
       "      <th></th>\n",
       "    </tr>\n",
       "  </thead>\n",
       "  <tbody>\n",
       "    <tr>\n",
       "      <th>2017-10-01</th>\n",
       "      <td>0.007837</td>\n",
       "      <td>-0.094174</td>\n",
       "    </tr>\n",
       "    <tr>\n",
       "      <th>2017-10-02</th>\n",
       "      <td>0.021462</td>\n",
       "      <td>0.023026</td>\n",
       "    </tr>\n",
       "    <tr>\n",
       "      <th>2017-10-03</th>\n",
       "      <td>-0.021461</td>\n",
       "      <td>-0.002977</td>\n",
       "    </tr>\n",
       "    <tr>\n",
       "      <th>2017-10-04</th>\n",
       "      <td>-0.013968</td>\n",
       "      <td>0.035756</td>\n",
       "    </tr>\n",
       "    <tr>\n",
       "      <th>2017-10-05</th>\n",
       "      <td>0.006743</td>\n",
       "      <td>-0.038579</td>\n",
       "    </tr>\n",
       "  </tbody>\n",
       "</table>\n",
       "</div>"
      ],
      "text/plain": [
       "            avg_btc_price_usd  sentiment\n",
       "Datem                                   \n",
       "2017-10-01           0.007837  -0.094174\n",
       "2017-10-02           0.021462   0.023026\n",
       "2017-10-03          -0.021461  -0.002977\n",
       "2017-10-04          -0.013968   0.035756\n",
       "2017-10-05           0.006743  -0.038579"
      ]
     },
     "execution_count": 266,
     "metadata": {},
     "output_type": "execute_result"
    }
   ],
   "source": [
    "dfa.head()"
   ]
  },
  {
   "cell_type": "code",
   "execution_count": 267,
   "metadata": {},
   "outputs": [
    {
     "data": {
      "text/html": [
       "<div>\n",
       "<style scoped>\n",
       "    .dataframe tbody tr th:only-of-type {\n",
       "        vertical-align: middle;\n",
       "    }\n",
       "\n",
       "    .dataframe tbody tr th {\n",
       "        vertical-align: top;\n",
       "    }\n",
       "\n",
       "    .dataframe thead th {\n",
       "        text-align: right;\n",
       "    }\n",
       "</style>\n",
       "<table border=\"1\" class=\"dataframe\">\n",
       "  <thead>\n",
       "    <tr style=\"text-align: right;\">\n",
       "      <th></th>\n",
       "      <th>avg_btc_price_usd</th>\n",
       "      <th>sentiment</th>\n",
       "    </tr>\n",
       "  </thead>\n",
       "  <tbody>\n",
       "    <tr>\n",
       "      <th>avg_btc_price_usd</th>\n",
       "      <td>1.000000</td>\n",
       "      <td>0.167655</td>\n",
       "    </tr>\n",
       "    <tr>\n",
       "      <th>sentiment</th>\n",
       "      <td>0.167655</td>\n",
       "      <td>1.000000</td>\n",
       "    </tr>\n",
       "  </tbody>\n",
       "</table>\n",
       "</div>"
      ],
      "text/plain": [
       "                   avg_btc_price_usd  sentiment\n",
       "avg_btc_price_usd           1.000000   0.167655\n",
       "sentiment                   0.167655   1.000000"
      ]
     },
     "execution_count": 267,
     "metadata": {},
     "output_type": "execute_result"
    }
   ],
   "source": [
    "dfa.corr()"
   ]
  },
  {
   "cell_type": "code",
   "execution_count": 268,
   "metadata": {},
   "outputs": [
    {
     "data": {
      "image/png": "[encoded data removed]",
      "text/plain": [
       "<matplotlib.figure.Figure at 0x237188ca240>"
      ]
     },
     "metadata": {},
     "output_type": "display_data"
    }
   ],
   "source": [
    "sns.regplot(y= dfa['sentiment'], x = dfa['avg_btc_price_usd'])\n",
    "plt.show()"
   ]
  },
  {
   "cell_type": "code",
   "execution_count": 269,
   "metadata": {},
   "outputs": [
    {
     "data": {
      "image/png": "[encoded data removed]",
      "text/plain": [
       "<matplotlib.figure.Figure at 0x2380869a940>"
      ]
     },
     "metadata": {},
     "output_type": "display_data"
    }
   ],
   "source": [
    "plt.plot(dfa[\"avg_btc_price_usd\"])\n",
    "plt.plot(dfa[\"sentiment\"])\n",
    "plt.show()"
   ]
  },
  {
   "cell_type": "code",
   "execution_count": 271,
   "metadata": {
    "collapsed": true
   },
   "outputs": [],
   "source": [
    "dfa[\"change in price\"] = dfa[\"avg_btc_price_usd\"].apply(fin)"
   ]
  },
  {
   "cell_type": "code",
   "execution_count": 272,
   "metadata": {
    "collapsed": true
   },
   "outputs": [],
   "source": [
    "dfa[\"sentiment polarity\"] = dfa[\"sentiment\"].apply(fin)"
   ]
  },
  {
   "cell_type": "code",
   "execution_count": 273,
   "metadata": {},
   "outputs": [
    {
     "data": {
      "text/html": [
       "<div>\n",
       "<style scoped>\n",
       "    .dataframe tbody tr th:only-of-type {\n",
       "        vertical-align: middle;\n",
       "    }\n",
       "\n",
       "    .dataframe tbody tr th {\n",
       "        vertical-align: top;\n",
       "    }\n",
       "\n",
       "    .dataframe thead th {\n",
       "        text-align: right;\n",
       "    }\n",
       "</style>\n",
       "<table border=\"1\" class=\"dataframe\">\n",
       "  <thead>\n",
       "    <tr style=\"text-align: right;\">\n",
       "      <th></th>\n",
       "      <th>avg_btc_price_usd</th>\n",
       "      <th>sentiment</th>\n",
       "      <th>change in price</th>\n",
       "      <th>sentiment polarity</th>\n",
       "    </tr>\n",
       "    <tr>\n",
       "      <th>Datem</th>\n",
       "      <th></th>\n",
       "      <th></th>\n",
       "      <th></th>\n",
       "      <th></th>\n",
       "    </tr>\n",
       "  </thead>\n",
       "  <tbody>\n",
       "    <tr>\n",
       "      <th>2017-10-01</th>\n",
       "      <td>0.007837</td>\n",
       "      <td>-0.094174</td>\n",
       "      <td>1</td>\n",
       "      <td>-1</td>\n",
       "    </tr>\n",
       "    <tr>\n",
       "      <th>2017-10-02</th>\n",
       "      <td>0.021462</td>\n",
       "      <td>0.023026</td>\n",
       "      <td>1</td>\n",
       "      <td>1</td>\n",
       "    </tr>\n",
       "    <tr>\n",
       "      <th>2017-10-03</th>\n",
       "      <td>-0.021461</td>\n",
       "      <td>-0.002977</td>\n",
       "      <td>-1</td>\n",
       "      <td>-1</td>\n",
       "    </tr>\n",
       "    <tr>\n",
       "      <th>2017-10-04</th>\n",
       "      <td>-0.013968</td>\n",
       "      <td>0.035756</td>\n",
       "      <td>-1</td>\n",
       "      <td>1</td>\n",
       "    </tr>\n",
       "    <tr>\n",
       "      <th>2017-10-05</th>\n",
       "      <td>0.006743</td>\n",
       "      <td>-0.038579</td>\n",
       "      <td>1</td>\n",
       "      <td>-1</td>\n",
       "    </tr>\n",
       "  </tbody>\n",
       "</table>\n",
       "</div>"
      ],
      "text/plain": [
       "            avg_btc_price_usd  sentiment  change in price  sentiment polarity\n",
       "Datem                                                                        \n",
       "2017-10-01           0.007837  -0.094174                1                  -1\n",
       "2017-10-02           0.021462   0.023026                1                   1\n",
       "2017-10-03          -0.021461  -0.002977               -1                  -1\n",
       "2017-10-04          -0.013968   0.035756               -1                   1\n",
       "2017-10-05           0.006743  -0.038579                1                  -1"
      ]
     },
     "execution_count": 273,
     "metadata": {},
     "output_type": "execute_result"
    }
   ],
   "source": [
    "dfa.head()"
   ]
  },
  {
   "cell_type": "code",
   "execution_count": 274,
   "metadata": {},
   "outputs": [
    {
     "data": {
      "text/plain": [
       "array([[37, 27],\n",
       "       [38, 52]], dtype=int64)"
      ]
     },
     "execution_count": 274,
     "metadata": {},
     "output_type": "execute_result"
    }
   ],
   "source": [
    "confusion_matrix(dfa[\"change in price\"], dfa[\"sentiment polarity\"])"
   ]
  },
  {
   "cell_type": "code",
   "execution_count": 275,
   "metadata": {},
   "outputs": [
    {
     "data": {
      "text/plain": [
       "0.5705128205128205"
      ]
     },
     "execution_count": 275,
     "metadata": {},
     "output_type": "execute_result"
    }
   ],
   "source": [
    "(37+52)/156"
   ]
  },
  {
   "cell_type": "code",
   "execution_count": null,
   "metadata": {
    "collapsed": true
   },
   "outputs": [],
   "source": []
  },
  {
   "cell_type": "code",
   "execution_count": null,
   "metadata": {
    "collapsed": true
   },
   "outputs": [],
   "source": []
  }
 ],
 "metadata": {
  "kernelspec": {
   "display_name": "Python [conda env:py35]",
   "language": "python",
   "name": "conda-env-py35-py"
  },
  "language_info": {
   "codemirror_mode": {
    "name": "ipython",
    "version": 3
   },
   "file_extension": ".py",
   "mimetype": "text/x-python",
   "name": "python",
   "nbconvert_exporter": "python",
   "pygments_lexer": "ipython3",
   "version": "3.5.4"
  }
 },
 "nbformat": 4,
 "nbformat_minor": 2
}
